{
 "cells": [
  {
   "cell_type": "markdown",
   "id": "d5dbba90",
   "metadata": {},
   "source": [
    "# Inferential Statistics - Confidence Intervals\n",
    "A confidence interval is the mean of your estimate plus and minus the variation in that estimate. This is the range of values you expect your estimate to fall between if you redo your test, within a certain level of confidence."
   ]
  },
  {
   "cell_type": "code",
   "execution_count": 1,
   "id": "521cc542",
   "metadata": {},
   "outputs": [],
   "source": [
    "# Import Packages\n",
    "import numpy as np\n",
    "import pandas as pd\n",
    "import matplotlib.pyplot as plt"
   ]
  },
  {
   "cell_type": "code",
   "execution_count": 5,
   "id": "862d2ae5",
   "metadata": {},
   "outputs": [],
   "source": [
    "# add seed for randoming data\n",
    "np.random.seed(42)"
   ]
  },
  {
   "cell_type": "code",
   "execution_count": 2,
   "id": "678f3f95",
   "metadata": {},
   "outputs": [],
   "source": [
    "# import dataset\n",
    "df = pd.read_csv(\"C:\\\\Users\\\\vegat\\\\Porto Data\\\\statistic\\\\coffee_dataset.csv\")"
   ]
  },
  {
   "cell_type": "code",
   "execution_count": 3,
   "id": "62113efc",
   "metadata": {},
   "outputs": [
    {
     "data": {
      "text/html": [
       "<div>\n",
       "<style scoped>\n",
       "    .dataframe tbody tr th:only-of-type {\n",
       "        vertical-align: middle;\n",
       "    }\n",
       "\n",
       "    .dataframe tbody tr th {\n",
       "        vertical-align: top;\n",
       "    }\n",
       "\n",
       "    .dataframe thead th {\n",
       "        text-align: right;\n",
       "    }\n",
       "</style>\n",
       "<table border=\"1\" class=\"dataframe\">\n",
       "  <thead>\n",
       "    <tr style=\"text-align: right;\">\n",
       "      <th></th>\n",
       "      <th>user_id</th>\n",
       "      <th>age</th>\n",
       "      <th>drinks_coffee</th>\n",
       "      <th>height</th>\n",
       "    </tr>\n",
       "  </thead>\n",
       "  <tbody>\n",
       "    <tr>\n",
       "      <th>0</th>\n",
       "      <td>4509</td>\n",
       "      <td>&lt;21</td>\n",
       "      <td>False</td>\n",
       "      <td>64.538179</td>\n",
       "    </tr>\n",
       "    <tr>\n",
       "      <th>1</th>\n",
       "      <td>1864</td>\n",
       "      <td>&gt;=21</td>\n",
       "      <td>True</td>\n",
       "      <td>65.824249</td>\n",
       "    </tr>\n",
       "    <tr>\n",
       "      <th>2</th>\n",
       "      <td>2060</td>\n",
       "      <td>&lt;21</td>\n",
       "      <td>False</td>\n",
       "      <td>71.319854</td>\n",
       "    </tr>\n",
       "    <tr>\n",
       "      <th>3</th>\n",
       "      <td>7875</td>\n",
       "      <td>&gt;=21</td>\n",
       "      <td>True</td>\n",
       "      <td>68.569404</td>\n",
       "    </tr>\n",
       "    <tr>\n",
       "      <th>4</th>\n",
       "      <td>6254</td>\n",
       "      <td>&lt;21</td>\n",
       "      <td>True</td>\n",
       "      <td>64.020226</td>\n",
       "    </tr>\n",
       "  </tbody>\n",
       "</table>\n",
       "</div>"
      ],
      "text/plain": [
       "   user_id   age  drinks_coffee     height\n",
       "0     4509   <21          False  64.538179\n",
       "1     1864  >=21           True  65.824249\n",
       "2     2060   <21          False  71.319854\n",
       "3     7875  >=21           True  68.569404\n",
       "4     6254   <21           True  64.020226"
      ]
     },
     "execution_count": 3,
     "metadata": {},
     "output_type": "execute_result"
    }
   ],
   "source": [
    "df.head()"
   ]
  },
  {
   "cell_type": "code",
   "execution_count": 4,
   "id": "7c4c7d23",
   "metadata": {},
   "outputs": [
    {
     "data": {
      "text/plain": [
       "(2974, 4)"
      ]
     },
     "execution_count": 4,
     "metadata": {},
     "output_type": "execute_result"
    }
   ],
   "source": [
    "df.shape"
   ]
  },
  {
   "cell_type": "markdown",
   "id": "2684d5ee",
   "metadata": {},
   "source": [
    "The dataset contains 2974 rows and 4 coloum of age, height, and boleean of drinks coffee."
   ]
  },
  {
   "cell_type": "markdown",
   "id": "0839a85c",
   "metadata": {},
   "source": [
    "#### Take a sample\n",
    "sample is used to minimize the cost of algorithms but still represents of the full data."
   ]
  },
  {
   "cell_type": "markdown",
   "id": "c8553c53",
   "metadata": {},
   "source": [
    "Here an example of take a 200 sample data from a full dataset;"
   ]
  },
  {
   "cell_type": "code",
   "execution_count": 6,
   "id": "6c4291a2",
   "metadata": {},
   "outputs": [],
   "source": [
    "# import dataset\n",
    "c_full =  pd.read_csv(\"C:\\\\Users\\\\vegat\\\\Porto Data\\\\statistic\\\\coffee_dataset.csv\")\n",
    "# take a sample\n",
    "c_sample = c_full.sample(200)"
   ]
  },
  {
   "cell_type": "code",
   "execution_count": 7,
   "id": "4437f0ce",
   "metadata": {},
   "outputs": [
    {
     "data": {
      "text/html": [
       "<div>\n",
       "<style scoped>\n",
       "    .dataframe tbody tr th:only-of-type {\n",
       "        vertical-align: middle;\n",
       "    }\n",
       "\n",
       "    .dataframe tbody tr th {\n",
       "        vertical-align: top;\n",
       "    }\n",
       "\n",
       "    .dataframe thead th {\n",
       "        text-align: right;\n",
       "    }\n",
       "</style>\n",
       "<table border=\"1\" class=\"dataframe\">\n",
       "  <thead>\n",
       "    <tr style=\"text-align: right;\">\n",
       "      <th></th>\n",
       "      <th>user_id</th>\n",
       "      <th>age</th>\n",
       "      <th>drinks_coffee</th>\n",
       "      <th>height</th>\n",
       "    </tr>\n",
       "  </thead>\n",
       "  <tbody>\n",
       "    <tr>\n",
       "      <th>2402</th>\n",
       "      <td>2874</td>\n",
       "      <td>&lt;21</td>\n",
       "      <td>True</td>\n",
       "      <td>64.357154</td>\n",
       "    </tr>\n",
       "    <tr>\n",
       "      <th>2864</th>\n",
       "      <td>3670</td>\n",
       "      <td>&gt;=21</td>\n",
       "      <td>True</td>\n",
       "      <td>66.859636</td>\n",
       "    </tr>\n",
       "    <tr>\n",
       "      <th>2167</th>\n",
       "      <td>7441</td>\n",
       "      <td>&lt;21</td>\n",
       "      <td>False</td>\n",
       "      <td>66.659561</td>\n",
       "    </tr>\n",
       "    <tr>\n",
       "      <th>507</th>\n",
       "      <td>2781</td>\n",
       "      <td>&gt;=21</td>\n",
       "      <td>True</td>\n",
       "      <td>70.166241</td>\n",
       "    </tr>\n",
       "    <tr>\n",
       "      <th>1817</th>\n",
       "      <td>2875</td>\n",
       "      <td>&gt;=21</td>\n",
       "      <td>True</td>\n",
       "      <td>71.369120</td>\n",
       "    </tr>\n",
       "    <tr>\n",
       "      <th>...</th>\n",
       "      <td>...</td>\n",
       "      <td>...</td>\n",
       "      <td>...</td>\n",
       "      <td>...</td>\n",
       "    </tr>\n",
       "    <tr>\n",
       "      <th>1187</th>\n",
       "      <td>6237</td>\n",
       "      <td>&lt;21</td>\n",
       "      <td>False</td>\n",
       "      <td>62.493744</td>\n",
       "    </tr>\n",
       "    <tr>\n",
       "      <th>463</th>\n",
       "      <td>1857</td>\n",
       "      <td>&lt;21</td>\n",
       "      <td>False</td>\n",
       "      <td>66.476106</td>\n",
       "    </tr>\n",
       "    <tr>\n",
       "      <th>1195</th>\n",
       "      <td>6397</td>\n",
       "      <td>&lt;21</td>\n",
       "      <td>False</td>\n",
       "      <td>64.555794</td>\n",
       "    </tr>\n",
       "    <tr>\n",
       "      <th>1080</th>\n",
       "      <td>4065</td>\n",
       "      <td>&lt;21</td>\n",
       "      <td>False</td>\n",
       "      <td>66.842149</td>\n",
       "    </tr>\n",
       "    <tr>\n",
       "      <th>1422</th>\n",
       "      <td>3971</td>\n",
       "      <td>&lt;21</td>\n",
       "      <td>False</td>\n",
       "      <td>61.891849</td>\n",
       "    </tr>\n",
       "  </tbody>\n",
       "</table>\n",
       "<p>200 rows × 4 columns</p>\n",
       "</div>"
      ],
      "text/plain": [
       "      user_id   age  drinks_coffee     height\n",
       "2402     2874   <21           True  64.357154\n",
       "2864     3670  >=21           True  66.859636\n",
       "2167     7441   <21          False  66.659561\n",
       "507      2781  >=21           True  70.166241\n",
       "1817     2875  >=21           True  71.369120\n",
       "...       ...   ...            ...        ...\n",
       "1187     6237   <21          False  62.493744\n",
       "463      1857   <21          False  66.476106\n",
       "1195     6397   <21          False  64.555794\n",
       "1080     4065   <21          False  66.842149\n",
       "1422     3971   <21          False  61.891849\n",
       "\n",
       "[200 rows x 4 columns]"
      ]
     },
     "execution_count": 7,
     "metadata": {},
     "output_type": "execute_result"
    }
   ],
   "source": [
    "c_sample"
   ]
  },
  {
   "cell_type": "code",
   "execution_count": 9,
   "id": "10582d76",
   "metadata": {},
   "outputs": [
    {
     "name": "stdout",
     "output_type": "stream",
     "text": [
      "<class 'pandas.core.frame.DataFrame'>\n",
      "Int64Index: 200 entries, 2402 to 1422\n",
      "Data columns (total 4 columns):\n",
      " #   Column         Non-Null Count  Dtype  \n",
      "---  ------         --------------  -----  \n",
      " 0   user_id        200 non-null    int64  \n",
      " 1   age            200 non-null    object \n",
      " 2   drinks_coffee  200 non-null    bool   \n",
      " 3   height         200 non-null    float64\n",
      "dtypes: bool(1), float64(1), int64(1), object(1)\n",
      "memory usage: 6.4+ KB\n"
     ]
    }
   ],
   "source": [
    "c_sample.info()"
   ]
  },
  {
   "cell_type": "markdown",
   "id": "79104f87",
   "metadata": {},
   "source": [
    "#### Comparing mean"
   ]
  },
  {
   "cell_type": "markdown",
   "id": "e905af26",
   "metadata": {},
   "source": [
    "comparing the mean of coffee drinker and non coffee drinker"
   ]
  },
  {
   "cell_type": "code",
   "execution_count": 10,
   "id": "78c8222e",
   "metadata": {},
   "outputs": [
    {
     "name": "stdout",
     "output_type": "stream",
     "text": [
      "0.595\n",
      "0.405\n"
     ]
    }
   ],
   "source": [
    "mean_drinker = c_sample[\"drinks_coffee\"].mean()\n",
    "mean_non_drinker = 1 - mean_drinker\n",
    "print(mean_drinker)\n",
    "print(mean_non_drinker)"
   ]
  },
  {
   "cell_type": "markdown",
   "id": "4457bc3c",
   "metadata": {},
   "source": [
    "comparing the mean of heigth between coffee drinker and non coffee drinker"
   ]
  },
  {
   "cell_type": "code",
   "execution_count": 11,
   "id": "bcd86935",
   "metadata": {},
   "outputs": [
    {
     "data": {
      "text/plain": [
       "68.11962990858618"
      ]
     },
     "execution_count": 11,
     "metadata": {},
     "output_type": "execute_result"
    }
   ],
   "source": [
    "# height of coffee drinker\n",
    "drinks_height = c_sample[c_sample[\"drinks_coffee\"]][\"height\"].mean()\n",
    "drinks_height"
   ]
  },
  {
   "cell_type": "code",
   "execution_count": 12,
   "id": "c14f858a",
   "metadata": {},
   "outputs": [
    {
     "data": {
      "text/plain": [
       "66.78492279927877"
      ]
     },
     "execution_count": 12,
     "metadata": {},
     "output_type": "execute_result"
    }
   ],
   "source": [
    "# height of non coffee drinker\n",
    "non_drink_height = c_sample[~c_sample[\"drinks_coffee\"]][\"height\"].mean()\n",
    "non_drink_height"
   ]
  },
  {
   "cell_type": "markdown",
   "id": "acd0425c",
   "metadata": {},
   "source": [
    "check the mean of coffee drinker in a sample"
   ]
  },
  {
   "cell_type": "code",
   "execution_count": 14,
   "id": "82ccccdf",
   "metadata": {},
   "outputs": [
    {
     "data": {
      "text/plain": [
       "0.605"
      ]
     },
     "execution_count": 14,
     "metadata": {},
     "output_type": "execute_result"
    }
   ],
   "source": [
    "bootsamp = c_sample.sample(200,replace=True)\n",
    "bootsamp[\"drinks_coffee\"].mean()"
   ]
  },
  {
   "cell_type": "markdown",
   "id": "083d957f",
   "metadata": {},
   "source": [
    "#### Confidence Intervals\n",
    "make a Confidence Intervals of a mean of height from people that didn't drinks coffee with 10000 iteration of mean and 200 of samples."
   ]
  },
  {
   "cell_type": "code",
   "execution_count": 15,
   "id": "f598d2cf",
   "metadata": {},
   "outputs": [
    {
     "data": {
      "text/plain": [
       "(array([  16.,  106.,  590., 1831., 2989., 2644., 1352.,  377.,   86.,\n",
       "           9.]),\n",
       " array([65.24631713, 65.56293231, 65.8795475 , 66.19616268, 66.51277787,\n",
       "        66.82939305, 67.14600823, 67.46262342, 67.7792386 , 68.09585379,\n",
       "        68.41246897]),\n",
       " <BarContainer object of 10 artists>)"
      ]
     },
     "execution_count": 15,
     "metadata": {},
     "output_type": "execute_result"
    },
    {
     "data": {
      "image/png": "[encoded data removed]",
      "text/plain": [
       "<Figure size 432x288 with 1 Axes>"
      ]
     },
     "metadata": {
      "needs_background": "light"
     },
     "output_type": "display_data"
    }
   ],
   "source": [
    "boot_means = []\n",
    "for i in range(10000):\n",
    "    bootsamp = c_sample.sample(200,replace=True)\n",
    "    mean = bootsamp[bootsamp[\"drinks_coffee\"]==False][\"height\"].mean()\n",
    "    boot_means.append(mean)\n",
    "    \n",
    "plt.hist(boot_means)"
   ]
  },
  {
   "cell_type": "code",
   "execution_count": 18,
   "id": "a6ed7362",
   "metadata": {},
   "outputs": [
    {
     "data": {
      "text/plain": [
       "(65.99291328157521, 67.58402738281573)"
      ]
     },
     "execution_count": 18,
     "metadata": {},
     "output_type": "execute_result"
    }
   ],
   "source": [
    "np.percentile(boot_means,2.5), np.percentile(boot_means,97.5)"
   ]
  },
  {
   "cell_type": "markdown",
   "id": "9e0f96e1",
   "metadata": {},
   "source": [
    "from the code above we can see the confidence interval of a mean of height from people that didn't drinks coffee is between 65.99 and 67.58."
   ]
  }
 ],
 "metadata": {
  "kernelspec": {
   "display_name": "Python 3 (ipykernel)",
   "language": "python",
   "name": "python3"
  },
  "language_info": {
   "codemirror_mode": {
    "name": "ipython",
    "version": 3
   },
   "file_extension": ".py",
   "mimetype": "text/x-python",
   "name": "python",
   "nbconvert_exporter": "python",
   "pygments_lexer": "ipython3",
   "version": "3.9.7"
  }
 },
 "nbformat": 4,
 "nbformat_minor": 5
}
