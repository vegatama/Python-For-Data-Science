{
 "cells": [
  {
   "cell_type": "markdown",
   "id": "b4f18c6e",
   "metadata": {},
   "source": [
    "# Outlier dan Anomaly\n",
    "An outlier is an observation that lies an abnormal distance from other values in a random sample from a population.\n",
    "\n",
    "An unexpected change within these data patterns, or an event that does not conform to the expected data pattern, is considered an anomaly."
   ]
  },
  {
   "cell_type": "code",
   "execution_count": 1,
   "id": "c0d7c189",
   "metadata": {},
   "outputs": [],
   "source": [
    "# Import Packages\n",
    "%matplotlib inline\n",
    "import numpy as np\n",
    "import pandas as pd\n",
    "import matplotlib.pyplot as plt\n",
    "import seaborn as sns"
   ]
  },
  {
   "cell_type": "code",
   "execution_count": 2,
   "id": "eea278e0",
   "metadata": {},
   "outputs": [],
   "source": [
    "# import dataset\n",
    "df = pd.read_csv(\"C:\\\\Users\\\\vegat\\\\Porto Data\\\\titanic\\\\titanic.csv\")"
   ]
  },
  {
   "cell_type": "markdown",
   "id": "bedce5c2",
   "metadata": {},
   "source": [
    "## Outlier\n",
    "Outliers are important because they can have a large influence on statistics derived from the dataset."
   ]
  },
  {
   "cell_type": "markdown",
   "id": "b520a362",
   "metadata": {},
   "source": [
    "to see an outlier in data boxplot is usually used, for example;"
   ]
  },
  {
   "cell_type": "code",
   "execution_count": 3,
   "id": "f2c03afc",
   "metadata": {},
   "outputs": [
    {
     "data": {
      "text/plain": [
       "<AxesSubplot:xlabel='Age'>"
      ]
     },
     "execution_count": 3,
     "metadata": {},
     "output_type": "execute_result"
    },
    {
     "data": {
      "image/png": "[encoded data removed]",
      "text/plain": [
       "<Figure size 432x288 with 1 Axes>"
      ]
     },
     "metadata": {
      "needs_background": "light"
     },
     "output_type": "display_data"
    }
   ],
   "source": [
    "sns.boxplot(x=\"Age\",data=df)"
   ]
  },
  {
   "cell_type": "markdown",
   "id": "f45f86aa",
   "metadata": {},
   "source": [
    "Here a boxplot of age in titanic dataset, outlier are data that not in range between lower bound and upper bound of data."
   ]
  },
  {
   "cell_type": "markdown",
   "id": "f54e50eb",
   "metadata": {},
   "source": [
    "to calculate lower bound an upper bound we can use this formula;\n",
    "* IQR = Q3 - Q1\n",
    "* LowerBound = Q1 - 1.5*IRQ\n",
    "* UpperBound = Q3 + 1.5*IRQ"
   ]
  },
  {
   "cell_type": "markdown",
   "id": "7eb5b970",
   "metadata": {},
   "source": [
    "Here the example;"
   ]
  },
  {
   "cell_type": "code",
   "execution_count": 4,
   "id": "fc5d3950",
   "metadata": {},
   "outputs": [
    {
     "name": "stdout",
     "output_type": "stream",
     "text": [
      "[ 0.42  20.125 28.    38.    80.   ]\n"
     ]
    }
   ],
   "source": [
    "# calculate Quantile\n",
    "not_null = df['Age'][df[\"Age\"].notnull()]\n",
    "quantile_age = np.quantile(not_null, [0,0.25,0.5,0.75,1])\n",
    "print(quantile_age)"
   ]
  },
  {
   "cell_type": "code",
   "execution_count": 5,
   "id": "3c60ed33",
   "metadata": {},
   "outputs": [
    {
     "name": "stdout",
     "output_type": "stream",
     "text": [
      "IQR:  17.875\n",
      "LowerBound:  -6.6875\n",
      "UpperBound:  64.8125\n"
     ]
    }
   ],
   "source": [
    "IQR = quantile_age[3]-quantile_age[1]\n",
    "LowerBound = quantile_age[1] - (IQR*1.5)\n",
    "UpperBound = quantile_age[3] + (IQR*1.5)\n",
    "print(\"IQR: \",IQR)\n",
    "print(\"LowerBound: \",LowerBound)\n",
    "print(\"UpperBound: \",UpperBound)"
   ]
  },
  {
   "cell_type": "markdown",
   "id": "9e159226",
   "metadata": {},
   "source": [
    "## Outlier Handling\n",
    "Because outlier have a large influence on statistics derived from the dataset it usually removed if the data used for machine learning and other stuff."
   ]
  },
  {
   "cell_type": "markdown",
   "id": "c0d89a95",
   "metadata": {},
   "source": [
    "to do that we can select data that in the range between lower bound and upper bound of data, here the example;"
   ]
  },
  {
   "cell_type": "code",
   "execution_count": 6,
   "id": "9149e7fe",
   "metadata": {},
   "outputs": [
    {
     "name": "stdout",
     "output_type": "stream",
     "text": [
      "0      22.0\n",
      "1      38.0\n",
      "2      26.0\n",
      "3      35.0\n",
      "4      35.0\n",
      "       ... \n",
      "885    39.0\n",
      "886    27.0\n",
      "887    19.0\n",
      "889    26.0\n",
      "890    32.0\n",
      "Name: Age, Length: 703, dtype: float64\n"
     ]
    }
   ],
   "source": [
    "df_new = df[\"Age\"][(df[\"Age\"] > LowerBound)&(df[\"Age\"] < UpperBound)]\n",
    "print(df_new)"
   ]
  },
  {
   "cell_type": "markdown",
   "id": "ecda040c",
   "metadata": {},
   "source": [
    "## Missing Value Handling\n",
    "The handling of missing data is very important during the preprocessing of the dataset as many machine learning algorithms do not support missing values."
   ]
  },
  {
   "cell_type": "markdown",
   "id": "04aecb65",
   "metadata": {},
   "source": [
    "to see missing value in dataset we can use;"
   ]
  },
  {
   "cell_type": "code",
   "execution_count": 7,
   "id": "dbe8b20e",
   "metadata": {},
   "outputs": [
    {
     "data": {
      "text/plain": [
       "PassengerId      0\n",
       "Survived         0\n",
       "Pclass           0\n",
       "Name             0\n",
       "Sex              0\n",
       "Age            177\n",
       "SibSp            0\n",
       "Parch            0\n",
       "Ticket           0\n",
       "Fare             0\n",
       "Cabin          687\n",
       "Embarked         2\n",
       "dtype: int64"
      ]
     },
     "execution_count": 7,
     "metadata": {},
     "output_type": "execute_result"
    }
   ],
   "source": [
    "df.isnull().sum()"
   ]
  },
  {
   "cell_type": "markdown",
   "id": "efb5bd40",
   "metadata": {},
   "source": [
    "Here Age, Cabin, and Embarked have missing values, the handling of this missing values is diffrent based on numerical or categorocal values of the data."
   ]
  },
  {
   "cell_type": "markdown",
   "id": "9f1eba92",
   "metadata": {},
   "source": [
    "### Numerical"
   ]
  },
  {
   "cell_type": "markdown",
   "id": "a88ed16e",
   "metadata": {},
   "source": [
    "To handle numerical missing values usually the median of data is used to fill the missing values, here an example;"
   ]
  },
  {
   "cell_type": "code",
   "execution_count": 10,
   "id": "85916d99",
   "metadata": {},
   "outputs": [
    {
     "data": {
      "text/plain": [
       "28.0"
      ]
     },
     "execution_count": 10,
     "metadata": {},
     "output_type": "execute_result"
    }
   ],
   "source": [
    "# check the median\n",
    "df[\"Age\"].median()"
   ]
  },
  {
   "cell_type": "code",
   "execution_count": 8,
   "id": "471a1dbd",
   "metadata": {},
   "outputs": [],
   "source": [
    "# input data to null values\n",
    "val = df[\"Age\"].median()\n",
    "df[\"Age\"]=df.Age.fillna(val)"
   ]
  },
  {
   "cell_type": "code",
   "execution_count": 9,
   "id": "e0880198",
   "metadata": {},
   "outputs": [
    {
     "data": {
      "text/plain": [
       "0"
      ]
     },
     "execution_count": 9,
     "metadata": {},
     "output_type": "execute_result"
    }
   ],
   "source": [
    "# check null data\n",
    "df[\"Age\"].isnull().sum()"
   ]
  },
  {
   "cell_type": "markdown",
   "id": "db00ca27",
   "metadata": {},
   "source": [
    "The null data of Age is fill with 28 as the median and the null values now is 0 occurence."
   ]
  },
  {
   "cell_type": "markdown",
   "id": "fb5b15e1",
   "metadata": {},
   "source": [
    "### Categorical"
   ]
  },
  {
   "cell_type": "markdown",
   "id": "3c2926c0",
   "metadata": {},
   "source": [
    "To handle categorocal missing values usually the mode of data is used to fill the missing values, here an example;"
   ]
  },
  {
   "cell_type": "code",
   "execution_count": 12,
   "id": "9c74e36b",
   "metadata": {},
   "outputs": [
    {
     "data": {
      "text/plain": [
       "'S'"
      ]
     },
     "execution_count": 12,
     "metadata": {},
     "output_type": "execute_result"
    }
   ],
   "source": [
    "# check the mode\n",
    "df[\"Embarked\"].mode().values[0]"
   ]
  },
  {
   "cell_type": "code",
   "execution_count": 13,
   "id": "7fa62720",
   "metadata": {},
   "outputs": [],
   "source": [
    "# input data to null values\n",
    "val = df[\"Embarked\"].mode().values[0]\n",
    "df[\"Embarked\"]=df.Embarked.fillna(val)"
   ]
  },
  {
   "cell_type": "code",
   "execution_count": 14,
   "id": "4e813834",
   "metadata": {},
   "outputs": [
    {
     "data": {
      "text/plain": [
       "0"
      ]
     },
     "execution_count": 14,
     "metadata": {},
     "output_type": "execute_result"
    }
   ],
   "source": [
    "# check null data\n",
    "df[\"Embarked\"].isnull().sum()"
   ]
  },
  {
   "cell_type": "markdown",
   "id": "7c97f7fc",
   "metadata": {},
   "source": [
    "The null data of Embarked is fill with 'S' as the mode and the null values now is 0 occurence."
   ]
  }
 ],
 "metadata": {
  "kernelspec": {
   "display_name": "Python 3 (ipykernel)",
   "language": "python",
   "name": "python3"
  },
  "language_info": {
   "codemirror_mode": {
    "name": "ipython",
    "version": 3
   },
   "file_extension": ".py",
   "mimetype": "text/x-python",
   "name": "python",
   "nbconvert_exporter": "python",
   "pygments_lexer": "ipython3",
   "version": "3.9.7"
  }
 },
 "nbformat": 4,
 "nbformat_minor": 5
}
