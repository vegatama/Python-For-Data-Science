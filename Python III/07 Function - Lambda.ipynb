{
 "cells": [
  {
   "cell_type": "markdown",
   "id": "71cdb3a4",
   "metadata": {},
   "source": [
    "# Lambda\n",
    "Python Lambda Functions are anonymous function means that the function is without a name. As we already know that the def keyword is used to define a normal function in Python. Similarly, the lambda keyword is used to define an anonymous function in Python. \n",
    "\n",
    "Syntax :\n",
    "\n",
    "lambda arguments : expression"
   ]
  },
  {
   "cell_type": "markdown",
   "id": "8a7dbc9d",
   "metadata": {},
   "source": [
    "### Using def function"
   ]
  },
  {
   "cell_type": "code",
   "execution_count": 3,
   "id": "74fcfb15",
   "metadata": {},
   "outputs": [
    {
     "name": "stdout",
     "output_type": "stream",
     "text": [
      "Using function defined with `def` keyword, Result : 10\n"
     ]
    }
   ],
   "source": [
    "def times(x,y): \n",
    "    return x*y\n",
    "\n",
    "print(\"Using function defined with `def` keyword, Result :\",times(2,5))\n"
   ]
  },
  {
   "cell_type": "markdown",
   "id": "a772966c",
   "metadata": {},
   "source": [
    "### Using Lambda"
   ]
  },
  {
   "cell_type": "code",
   "execution_count": 4,
   "id": "ee4c382c",
   "metadata": {},
   "outputs": [
    {
     "name": "stdout",
     "output_type": "stream",
     "text": [
      "Using lambda function, Result : 10\n"
     ]
    }
   ],
   "source": [
    "times_v2 = lambda x,y : x*y\n",
    "print(\"Using lambda function, Result :\",times_v2(2,5))"
   ]
  }
 ],
 "metadata": {
  "kernelspec": {
   "display_name": "Python 3",
   "language": "python",
   "name": "python3"
  },
  "language_info": {
   "codemirror_mode": {
    "name": "ipython",
    "version": 3
   },
   "file_extension": ".py",
   "mimetype": "text/x-python",
   "name": "python",
   "nbconvert_exporter": "python",
   "pygments_lexer": "ipython3",
   "version": "3.8.8"
  }
 },
 "nbformat": 4,
 "nbformat_minor": 5
}
