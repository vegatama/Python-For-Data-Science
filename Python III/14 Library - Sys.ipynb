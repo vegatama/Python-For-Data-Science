{
 "cells": [
  {
   "cell_type": "markdown",
   "id": "81ed840f",
   "metadata": {},
   "source": [
    "# sys Library\n",
    "The python sys module provides functions and variables which are used to manipulate different parts of the Python Runtime Environment. It lets us access system-specific parameters and functions.\n",
    "\n",
    "we have to import the sys module in our program before running any functions:"
   ]
  },
  {
   "cell_type": "code",
   "execution_count": 1,
   "id": "984911dd",
   "metadata": {},
   "outputs": [],
   "source": [
    "import sys"
   ]
  },
  {
   "cell_type": "markdown",
   "id": "75730eb2",
   "metadata": {},
   "source": [
    "for example we use sys.exc_info() to get errors in few cases below:"
   ]
  },
  {
   "cell_type": "code",
   "execution_count": 4,
   "id": "cd22dc8f",
   "metadata": {},
   "outputs": [
    {
     "name": "stdout",
     "output_type": "stream",
     "text": [
      "enter a number: 2\n",
      "enter a number to divide by: 0\n",
      "<class 'ZeroDivisionError'>\n",
      "you failed to divide\n",
      "thank you\n"
     ]
    }
   ],
   "source": [
    "a = float(input(\"enter a number: \"))\n",
    "b = float(input(\"enter a number to divide by: \"))\n",
    "\n",
    "try:\n",
    "    print(f\"the answer is {a/b}\")\n",
    "except:\n",
    "    print(sys.exc_info()[0])\n",
    "    print(\"you failed to divide\")\n",
    "else:\n",
    "    print(\"you successfully divide the number\")\n",
    "finally:\n",
    "    print(\"thank you\")"
   ]
  },
  {
   "cell_type": "markdown",
   "id": "e913d40e",
   "metadata": {},
   "source": [
    "The code above will show a sentence and the errors that get by sys.exc_info() if the input value can't be divided.\n",
    "</br></br>"
   ]
  },
  {
   "cell_type": "code",
   "execution_count": 4,
   "id": "610f9aeb",
   "metadata": {},
   "outputs": [
    {
     "name": "stdout",
     "output_type": "stream",
     "text": [
      "list index: 10\n",
      "<class 'IndexError'>\n",
      "you failed to show data\n",
      "thank you\n"
     ]
    }
   ],
   "source": [
    "data = [1,2,3,4]\n",
    "a = int(input(\"list index: \"))\n",
    "\n",
    "try:\n",
    "    print(\"the list by index value is \", data[a])\n",
    "except:\n",
    "    print(sys.exc_info()[0])\n",
    "    print(\"you failed to show data\")\n",
    "else:\n",
    "    print(\"you successfully show the data\")\n",
    "finally:\n",
    "    print(\"thank you\")"
   ]
  },
  {
   "cell_type": "markdown",
   "id": "6b07da11",
   "metadata": {},
   "source": [
    "The code above will show a sentence and the errors that get by sys.exc_info() if the input value doesn't in the index of accessed list."
   ]
  }
 ],
 "metadata": {
  "kernelspec": {
   "display_name": "Python 3",
   "language": "python",
   "name": "python3"
  },
  "language_info": {
   "codemirror_mode": {
    "name": "ipython",
    "version": 3
   },
   "file_extension": ".py",
   "mimetype": "text/x-python",
   "name": "python",
   "nbconvert_exporter": "python",
   "pygments_lexer": "ipython3",
   "version": "3.8.8"
  }
 },
 "nbformat": 4,
 "nbformat_minor": 5
}
