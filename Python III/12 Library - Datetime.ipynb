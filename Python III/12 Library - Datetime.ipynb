{
 "cells": [
  {
   "cell_type": "markdown",
   "id": "92aa0230",
   "metadata": {},
   "source": [
    "# datetime Library\n",
    "The datetime module supplies classes for manipulating dates and times.\n",
    "\n",
    "While date and time arithmetic is supported, the focus of the implementation is on efficient attribute extraction for output formatting and manipulation.\n",
    "\n",
    "To use it, you must import the datetime module:"
   ]
  },
  {
   "cell_type": "code",
   "execution_count": 3,
   "id": "395fd96a",
   "metadata": {},
   "outputs": [],
   "source": [
    "import datetime"
   ]
  },
  {
   "cell_type": "markdown",
   "id": "97eee0b2",
   "metadata": {},
   "source": [
    "When you have imported the datetime module, you can start using methods and constants of the module."
   ]
  },
  {
   "cell_type": "markdown",
   "id": "676ced38",
   "metadata": {},
   "source": [
    "## examples\n",
    "#### get current time with today()."
   ]
  },
  {
   "cell_type": "code",
   "execution_count": 12,
   "id": "db1a9120",
   "metadata": {},
   "outputs": [],
   "source": [
    "today1 = datetime.datetime.today()"
   ]
  },
  {
   "cell_type": "code",
   "execution_count": 13,
   "id": "8d526d06",
   "metadata": {},
   "outputs": [
    {
     "data": {
      "text/plain": [
       "datetime.datetime(2022, 10, 8, 7, 58, 13, 704939)"
      ]
     },
     "execution_count": 13,
     "metadata": {},
     "output_type": "execute_result"
    }
   ],
   "source": [
    "today1"
   ]
  },
  {
   "cell_type": "markdown",
   "id": "24923532",
   "metadata": {},
   "source": [
    "the code above specify the time until milisecond, we can use .date to specify the time to date format like the code below:"
   ]
  },
  {
   "cell_type": "code",
   "execution_count": 14,
   "id": "bea7baf6",
   "metadata": {},
   "outputs": [],
   "source": [
    "today2 = datetime.date.today()"
   ]
  },
  {
   "cell_type": "code",
   "execution_count": 15,
   "id": "8b2f5ec5",
   "metadata": {},
   "outputs": [
    {
     "data": {
      "text/plain": [
       "datetime.date(2022, 10, 8)"
      ]
     },
     "execution_count": 15,
     "metadata": {},
     "output_type": "execute_result"
    }
   ],
   "source": [
    "today2"
   ]
  },
  {
   "cell_type": "markdown",
   "id": "01d8a531",
   "metadata": {},
   "source": [
    "#### formatting with strftime()."
   ]
  },
  {
   "cell_type": "code",
   "execution_count": 4,
   "id": "936f2d5b",
   "metadata": {},
   "outputs": [],
   "source": [
    "# get date and time\n",
    "today = datetime.datetime.today() "
   ]
  },
  {
   "cell_type": "code",
   "execution_count": 5,
   "id": "6ae70da2",
   "metadata": {},
   "outputs": [
    {
     "data": {
      "text/plain": [
       "'13:15:04'"
      ]
     },
     "execution_count": 5,
     "metadata": {},
     "output_type": "execute_result"
    }
   ],
   "source": [
    "formatting_time = datetime.datetime.strftime(today, \"%H:%M:%S\")\n",
    "formatting_time"
   ]
  },
  {
   "cell_type": "markdown",
   "id": "85bdcf86",
   "metadata": {},
   "source": [
    "This code show the time with Hour : Minutes : Second format.\n",
    "<br />\n",
    "<br />"
   ]
  },
  {
   "cell_type": "code",
   "execution_count": 10,
   "id": "b9e8aeb7",
   "metadata": {},
   "outputs": [
    {
     "data": {
      "text/plain": [
       "'10/09/22'"
      ]
     },
     "execution_count": 10,
     "metadata": {},
     "output_type": "execute_result"
    }
   ],
   "source": [
    "formatting_data =  datetime.datetime.strftime(today, \"%m/%d/%y\")\n",
    "formatting_data"
   ]
  },
  {
   "cell_type": "markdown",
   "id": "cb368060",
   "metadata": {},
   "source": [
    "This code show the date with month : day : year format.\n",
    "<br /><br />"
   ]
  },
  {
   "cell_type": "code",
   "execution_count": 7,
   "id": "050dafde",
   "metadata": {},
   "outputs": [
    {
     "name": "stdout",
     "output_type": "stream",
     "text": [
      "09-10-22\n"
     ]
    }
   ],
   "source": [
    "print(datetime.datetime.strftime(today, \"%d-%m-%y\"))"
   ]
  },
  {
   "cell_type": "markdown",
   "id": "39d41475",
   "metadata": {},
   "source": [
    "This code show the date with day - month - year format.\n",
    "<br /><br />"
   ]
  },
  {
   "cell_type": "code",
   "execution_count": 8,
   "id": "a4faef64",
   "metadata": {},
   "outputs": [
    {
     "name": "stdout",
     "output_type": "stream",
     "text": [
      "October\n"
     ]
    }
   ],
   "source": [
    "print(datetime.datetime.strftime(today, \"%B\"))"
   ]
  },
  {
   "cell_type": "markdown",
   "id": "598bd618",
   "metadata": {},
   "source": [
    "This code show month of the date.\n",
    "<br /><br />"
   ]
  },
  {
   "cell_type": "code",
   "execution_count": 9,
   "id": "70b17f6b",
   "metadata": {},
   "outputs": [
    {
     "name": "stdout",
     "output_type": "stream",
     "text": [
      "Sunday\n"
     ]
    }
   ],
   "source": [
    "print(datetime.datetime.strftime(today, \"%A\"))"
   ]
  },
  {
   "cell_type": "markdown",
   "id": "2049f0d3",
   "metadata": {},
   "source": [
    "This code show day of the date.\n",
    "<br /><br />"
   ]
  }
 ],
 "metadata": {
  "kernelspec": {
   "display_name": "Python 3",
   "language": "python",
   "name": "python3"
  },
  "language_info": {
   "codemirror_mode": {
    "name": "ipython",
    "version": 3
   },
   "file_extension": ".py",
   "mimetype": "text/x-python",
   "name": "python",
   "nbconvert_exporter": "python",
   "pygments_lexer": "ipython3",
   "version": "3.8.8"
  }
 },
 "nbformat": 4,
 "nbformat_minor": 5
}
