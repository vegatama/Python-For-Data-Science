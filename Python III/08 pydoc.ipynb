{
 "cells": [
  {
   "cell_type": "markdown",
   "id": "c72fd386",
   "metadata": {},
   "source": [
    "# pydoc\n",
    "The pydoc module automatically generates documentation from Python modules. The documentation can be presented as pages of text on the console, served to a web browser, or saved to HTML files."
   ]
  },
  {
   "cell_type": "markdown",
   "id": "a63919b8",
   "metadata": {},
   "source": [
    "pydoc used in anaconda prompt, here some command that can be used:"
   ]
  },
  {
   "cell_type": "code",
   "execution_count": null,
   "id": "19048836",
   "metadata": {},
   "outputs": [],
   "source": [
    "python -m pydoc pass"
   ]
  },
  {
   "cell_type": "markdown",
   "id": "bff8fbaa",
   "metadata": {},
   "source": [
    "this command used to show explanation what pass do in pydoc.\n",
    "<br/><br/>\n",
    "here the result in anaconda prompt:\n",
    "<p align=\"left\">\n",
    "  <img src=\"pydoc1.png\">\n",
    "</p>"
   ]
  },
  {
   "cell_type": "code",
   "execution_count": 1,
   "id": "3a4599c9",
   "metadata": {},
   "outputs": [
    {
     "ename": "SyntaxError",
     "evalue": "invalid syntax (<ipython-input-1-0a613089c5f0>, line 1)",
     "output_type": "error",
     "traceback": [
      "\u001b[1;36m  File \u001b[1;32m\"<ipython-input-1-0a613089c5f0>\"\u001b[1;36m, line \u001b[1;32m1\u001b[0m\n\u001b[1;33m    python /?\u001b[0m\n\u001b[1;37m            ^\u001b[0m\n\u001b[1;31mSyntaxError\u001b[0m\u001b[1;31m:\u001b[0m invalid syntax\n"
     ]
    }
   ],
   "source": [
    "python /?"
   ]
  },
  {
   "cell_type": "markdown",
   "id": "cc7ea23d",
   "metadata": {},
   "source": [
    "this command used to show all keyword that can be used in pydoc.\n",
    "<br/><br/>\n",
    "here the result in anaconda prompt:\n",
    "<p align=\"left\">\n",
    "  <img src=\"pydoc2.png\">\n",
    "</p>"
   ]
  },
  {
   "cell_type": "code",
   "execution_count": null,
   "id": "a333fee9",
   "metadata": {},
   "outputs": [],
   "source": []
  }
 ],
 "metadata": {
  "kernelspec": {
   "display_name": "Python 3",
   "language": "python",
   "name": "python3"
  },
  "language_info": {
   "codemirror_mode": {
    "name": "ipython",
    "version": 3
   },
   "file_extension": ".py",
   "mimetype": "text/x-python",
   "name": "python",
   "nbconvert_exporter": "python",
   "pygments_lexer": "ipython3",
   "version": "3.8.8"
  }
 },
 "nbformat": 4,
 "nbformat_minor": 5
}
