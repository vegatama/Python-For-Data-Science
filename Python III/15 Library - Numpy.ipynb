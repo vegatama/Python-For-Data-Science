{
 "cells": [
  {
   "cell_type": "markdown",
   "id": "1ca32e7c",
   "metadata": {},
   "source": [
    "# numpy Library\n",
    "NumPy is a Python library used for working with arrays.\n",
    "\n",
    "It also has functions for working in domain of linear algebra, fourier transform, and matrices.\n",
    "\n",
    "NumPy stands for Numerical Python.\n",
    "\n",
    "In Python we have lists that serve the purpose of arrays, but they are slow to process.\n",
    "\n",
    "NumPy aims to provide an array object that is up to 50x faster than traditional Python lists.\n",
    "\n",
    "To use it, you must import the numpy module:"
   ]
  },
  {
   "cell_type": "code",
   "execution_count": 2,
   "id": "7ea2d7ea",
   "metadata": {},
   "outputs": [],
   "source": [
    "import numpy as np"
   ]
  },
  {
   "cell_type": "markdown",
   "id": "d0eeb3cb",
   "metadata": {},
   "source": [
    "to check numpy version you can use the code below:"
   ]
  },
  {
   "cell_type": "code",
   "execution_count": 2,
   "id": "af0673f4",
   "metadata": {},
   "outputs": [
    {
     "name": "stdout",
     "output_type": "stream",
     "text": [
      "1.20.3\n"
     ]
    }
   ],
   "source": [
    "print(np.__version__)"
   ]
  },
  {
   "cell_type": "markdown",
   "id": "8273cb7a",
   "metadata": {},
   "source": [
    "#### make a NumPy array\n",
    "to make a NumPy array we can use np.array(), the value can be int, list, tuple, and other data typr in python."
   ]
  },
  {
   "cell_type": "code",
   "execution_count": 14,
   "id": "7f18bee9",
   "metadata": {},
   "outputs": [
    {
     "name": "stdout",
     "output_type": "stream",
     "text": [
      "['True' '2' 'tiga' '4' 'lima']\n",
      "<class 'numpy.ndarray'>\n"
     ]
    }
   ],
   "source": [
    "# use a list to create a NumPy array\n",
    "arr_list = np.array([True,2,\"tiga\",4,\"lima\"])\n",
    "print(arr_list)\n",
    "print(type(arr_list))"
   ]
  },
  {
   "cell_type": "code",
   "execution_count": 15,
   "id": "a1fd9c63",
   "metadata": {},
   "outputs": [
    {
     "name": "stdout",
     "output_type": "stream",
     "text": [
      "['True' '2' 'tiga' '4' 'lima']\n",
      "<class 'numpy.ndarray'>\n"
     ]
    }
   ],
   "source": [
    "# use a tuple to create a NumPy array\n",
    "arr_tuple = np.array((True,2,\"tiga\",4,\"lima\"))\n",
    "print(arr_tuple)\n",
    "print(type(arr_tuple))"
   ]
  },
  {
   "cell_type": "markdown",
   "id": "dcd4a652",
   "metadata": {},
   "source": [
    "#### Dimension in NumPy array\n",
    "NumPy array can store multiple dimension of array, here the example:"
   ]
  },
  {
   "cell_type": "code",
   "execution_count": 21,
   "id": "39f0f0ef",
   "metadata": {},
   "outputs": [
    {
     "name": "stdout",
     "output_type": "stream",
     "text": [
      "11\n"
     ]
    }
   ],
   "source": [
    "# 0 Dimension\n",
    "arr = np.array(11)\n",
    "print(arr)"
   ]
  },
  {
   "cell_type": "code",
   "execution_count": 22,
   "id": "c82583a1",
   "metadata": {},
   "outputs": [
    {
     "name": "stdout",
     "output_type": "stream",
     "text": [
      "[11 12 13]\n"
     ]
    }
   ],
   "source": [
    "# 1 Dimension\n",
    "arr = np.array([11,12,13])\n",
    "print(arr)"
   ]
  },
  {
   "cell_type": "code",
   "execution_count": 25,
   "id": "06178bb9",
   "metadata": {},
   "outputs": [
    {
     "name": "stdout",
     "output_type": "stream",
     "text": [
      "[[11 12]\n",
      " [13 14]]\n"
     ]
    }
   ],
   "source": [
    "# 2 Dimension\n",
    "arr = np.array([[11,12],[13,14]])\n",
    "print(arr)"
   ]
  },
  {
   "cell_type": "code",
   "execution_count": 26,
   "id": "a9ad3ec5",
   "metadata": {},
   "outputs": [
    {
     "name": "stdout",
     "output_type": "stream",
     "text": [
      "[[[11 12 13]\n",
      "  [14 15 16]\n",
      "  [17 18 19]]]\n"
     ]
    }
   ],
   "source": [
    "# 3 Dimension\n",
    "arr = np.array([[[11,12,13],[14,15,16],[17,18,19]]])\n",
    "print(arr)"
   ]
  },
  {
   "cell_type": "code",
   "execution_count": 27,
   "id": "29d0cc4a",
   "metadata": {},
   "outputs": [
    {
     "name": "stdout",
     "output_type": "stream",
     "text": [
      "[[[[11 12 13 14]\n",
      "   [15 16 17 18]\n",
      "   [19 20 21 22]]]]\n"
     ]
    }
   ],
   "source": [
    "# 4 Dimension\n",
    "arr = np.array([[[[11,12,13,14],[15,16,17,18],[19,20,21,22]]]])\n",
    "print(arr)"
   ]
  },
  {
   "cell_type": "markdown",
   "id": "a3771b9a",
   "metadata": {},
   "source": [
    "the dimension is also can be set by ndmin value:"
   ]
  },
  {
   "cell_type": "code",
   "execution_count": 4,
   "id": "61884ab2",
   "metadata": {},
   "outputs": [],
   "source": [
    "arr1 = np.array(11, ndmin = 5) # set 5 Dimension"
   ]
  },
  {
   "cell_type": "markdown",
   "id": "3c3e2a62",
   "metadata": {},
   "source": [
    "to check the Dimension of the array we can use print((array name).ndim), check the code below:"
   ]
  },
  {
   "cell_type": "code",
   "execution_count": 31,
   "id": "7ace01ee",
   "metadata": {},
   "outputs": [
    {
     "name": "stdout",
     "output_type": "stream",
     "text": [
      "0\n",
      "1\n",
      "2\n",
      "3\n",
      "4\n",
      "5\n"
     ]
    }
   ],
   "source": [
    "import numpy as np\n",
    "arr1 = np.array(11)\n",
    "arr2 = np.array([11,12,13])\n",
    "arr3 = np.array([[11,12],[13,14]])\n",
    "arr4 = np.array([[[11,12,13],[14,15,16],[17,18,19]]])\n",
    "arr5 = np.array([[[[11,12,13,14],[15,16,17,18],[19,20,21,22]]]])\n",
    "arr6 = np.array([[[[[11,12,13,14],[15,16,17,18],[19,20,21,22]]]]])\n",
    "\n",
    "\n",
    "print(arr1.ndim)\n",
    "print(arr2.ndim)\n",
    "print(arr3.ndim)\n",
    "print(arr4.ndim)\n",
    "print(arr5.ndim)\n",
    "print(arr6.ndim)"
   ]
  },
  {
   "cell_type": "markdown",
   "id": "db2ed899",
   "metadata": {},
   "source": [
    "#### get element of NumPy array \n",
    "to get an item from NumPy array we can use index just line acccing list or tuple in python."
   ]
  },
  {
   "cell_type": "code",
   "execution_count": 7,
   "id": "c13c67b3",
   "metadata": {},
   "outputs": [],
   "source": [
    "# make a NumPy array\n",
    "arr = np.array([1,2,3,4])"
   ]
  },
  {
   "cell_type": "code",
   "execution_count": 8,
   "id": "da26bf0a",
   "metadata": {},
   "outputs": [
    {
     "name": "stdout",
     "output_type": "stream",
     "text": [
      "1\n"
     ]
    }
   ],
   "source": [
    "# access index 0\n",
    "print(arr[0])"
   ]
  },
  {
   "cell_type": "code",
   "execution_count": 35,
   "id": "a42d4e11",
   "metadata": {},
   "outputs": [
    {
     "name": "stdout",
     "output_type": "stream",
     "text": [
      "2\n"
     ]
    }
   ],
   "source": [
    "# access index 1\n",
    "print(arr[1])"
   ]
  },
  {
   "cell_type": "code",
   "execution_count": 37,
   "id": "bee6ea4b",
   "metadata": {},
   "outputs": [
    {
     "name": "stdout",
     "output_type": "stream",
     "text": [
      "7\n"
     ]
    }
   ],
   "source": [
    "# access index 2 and index 3 then sum it\n",
    "print(arr[2]+arr[3])"
   ]
  },
  {
   "cell_type": "markdown",
   "id": "d6d73b11",
   "metadata": {},
   "source": [
    "#### slicing in NumPy array"
   ]
  },
  {
   "cell_type": "code",
   "execution_count": 38,
   "id": "a3bb4dba",
   "metadata": {},
   "outputs": [],
   "source": [
    "# make a NumPy array\n",
    "arr = np.array([1,2,3,4,5,6,7,8,9,10])"
   ]
  },
  {
   "cell_type": "code",
   "execution_count": 39,
   "id": "3a227ab6",
   "metadata": {},
   "outputs": [
    {
     "name": "stdout",
     "output_type": "stream",
     "text": [
      "[4 5]\n"
     ]
    }
   ],
   "source": [
    "# slicing with 2 parameters\n",
    "print(arr[3:5])"
   ]
  },
  {
   "cell_type": "markdown",
   "id": "8899372d",
   "metadata": {},
   "source": [
    "the code above show item index in range 3 to 5"
   ]
  },
  {
   "cell_type": "code",
   "execution_count": 40,
   "id": "1e317954",
   "metadata": {},
   "outputs": [
    {
     "name": "stdout",
     "output_type": "stream",
     "text": [
      "[1 3 5 7]\n"
     ]
    }
   ],
   "source": [
    "# # slicing with 3 parameters\n",
    "print(arr[0:8:2])"
   ]
  },
  {
   "cell_type": "markdown",
   "id": "f58ce0cc",
   "metadata": {},
   "source": [
    "the code above show item in index range 0 to 8 with 2 spaces"
   ]
  },
  {
   "cell_type": "markdown",
   "id": "d2850e2c",
   "metadata": {},
   "source": [
    "#### access list of multipe dimension"
   ]
  },
  {
   "cell_type": "code",
   "execution_count": 12,
   "id": "62e150c1",
   "metadata": {},
   "outputs": [
    {
     "name": "stdout",
     "output_type": "stream",
     "text": [
      "3\n"
     ]
    }
   ],
   "source": [
    "# make a 3 dimensional NumPy array\n",
    "arr = np.array([[[11,12,13],[14,15,16],[17,18,19]]])\n",
    "print(arr.ndim)"
   ]
  },
  {
   "cell_type": "code",
   "execution_count": 53,
   "id": "cdfe8c5b",
   "metadata": {},
   "outputs": [
    {
     "name": "stdout",
     "output_type": "stream",
     "text": [
      "[[11 12 13]\n",
      " [14 15 16]\n",
      " [17 18 19]]\n"
     ]
    }
   ],
   "source": [
    "# access item in 1st dimension\n",
    "print(arr[0])"
   ]
  },
  {
   "cell_type": "markdown",
   "id": "55827216",
   "metadata": {},
   "source": [
    "print item index 0 in the 1st dimension"
   ]
  },
  {
   "cell_type": "code",
   "execution_count": 13,
   "id": "530afe45",
   "metadata": {},
   "outputs": [
    {
     "name": "stdout",
     "output_type": "stream",
     "text": [
      "[14 15 16]\n"
     ]
    }
   ],
   "source": [
    "# access item in 2nd dimension\n",
    "print(arr[0,1])"
   ]
  },
  {
   "cell_type": "markdown",
   "id": "c07ea286",
   "metadata": {},
   "source": [
    "access item index 0 in the 1st dimension, than print index 1 in the 2nd dimension."
   ]
  },
  {
   "cell_type": "code",
   "execution_count": 51,
   "id": "fb92203b",
   "metadata": {},
   "outputs": [
    {
     "name": "stdout",
     "output_type": "stream",
     "text": [
      "12\n"
     ]
    }
   ],
   "source": [
    "# access item in 3rd dimension\n",
    "print(arr[0,0,1])"
   ]
  },
  {
   "cell_type": "markdown",
   "id": "d664ac4c",
   "metadata": {},
   "source": [
    "access item index 0 in the 1st dimension, access index 0 in the 2nd dimension, than print index 1 in the 3rd dimension."
   ]
  },
  {
   "cell_type": "markdown",
   "id": "dcca7230",
   "metadata": {},
   "source": [
    "#### access list of multiple dimension and slicing"
   ]
  },
  {
   "cell_type": "code",
   "execution_count": 64,
   "id": "c20ad659",
   "metadata": {},
   "outputs": [
    {
     "name": "stdout",
     "output_type": "stream",
     "text": [
      "3\n"
     ]
    }
   ],
   "source": [
    "# make a 3 dimensional NumPy array\n",
    "arr = np.array([[[1,2,3],[4,5,6],[7,8,9]],\n",
    "                [[11,12,13],[14,15,16],[17,18,19]]])\n",
    "print(arr.ndim)"
   ]
  },
  {
   "cell_type": "code",
   "execution_count": 65,
   "id": "766c73d5",
   "metadata": {},
   "outputs": [
    {
     "name": "stdout",
     "output_type": "stream",
     "text": [
      "[[1 2 3]\n",
      " [4 5 6]]\n"
     ]
    }
   ],
   "source": [
    "# access item in 2nd dimension with slicing in 2nd dimension\n",
    "print(arr[0, 0:2])"
   ]
  },
  {
   "cell_type": "markdown",
   "id": "91ac3544",
   "metadata": {},
   "source": [
    "access item index 0 in the 1st dimension, than print index 0 to 2 in the 2nd dimension."
   ]
  },
  {
   "cell_type": "code",
   "execution_count": 67,
   "id": "0fe9fcf4",
   "metadata": {},
   "outputs": [
    {
     "name": "stdout",
     "output_type": "stream",
     "text": [
      "[[ 1  2  3]\n",
      " [11 12 13]]\n"
     ]
    }
   ],
   "source": [
    "# access item in 2nd dimension with slicing in 1st dimension\n",
    "print(arr[0:2, 0])"
   ]
  },
  {
   "cell_type": "markdown",
   "id": "7c6a04ea",
   "metadata": {},
   "source": [
    "access item index 0 to 2 in the 1st dimension, than print index 0 in the 2nd dimension."
   ]
  },
  {
   "cell_type": "code",
   "execution_count": 68,
   "id": "6901887d",
   "metadata": {},
   "outputs": [
    {
     "name": "stdout",
     "output_type": "stream",
     "text": [
      "[[[ 1  2  3]\n",
      "  [ 4  5  6]]\n",
      "\n",
      " [[11 12 13]\n",
      "  [14 15 16]]]\n"
     ]
    }
   ],
   "source": [
    "# access item in 2nd dimension with slicing in 1st and 2nd dimension\n",
    "print(arr[0:2, 0:2])"
   ]
  },
  {
   "cell_type": "markdown",
   "id": "a0343720",
   "metadata": {},
   "source": [
    "access item index 0 to 2 in the 1st dimension, than print index 0 to 2 in the 2nd dimension."
   ]
  }
 ],
 "metadata": {
  "kernelspec": {
   "display_name": "Python 3",
   "language": "python",
   "name": "python3"
  },
  "language_info": {
   "codemirror_mode": {
    "name": "ipython",
    "version": 3
   },
   "file_extension": ".py",
   "mimetype": "text/x-python",
   "name": "python",
   "nbconvert_exporter": "python",
   "pygments_lexer": "ipython3",
   "version": "3.8.8"
  }
 },
 "nbformat": 4,
 "nbformat_minor": 5
}
