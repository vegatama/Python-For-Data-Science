{
 "cells": [
  {
   "cell_type": "markdown",
   "id": "cdd93068",
   "metadata": {},
   "source": [
    "# File Handling"
   ]
  },
  {
   "cell_type": "markdown",
   "id": "041d83d2",
   "metadata": {},
   "source": [
    "Assume We have a file named Team4.txt which contains:\n",
    "\n",
    "- Azkia\n",
    "- Arnesta\n",
    "- Arini\n",
    "- Nabila\n",
    "- Vegatama"
   ]
  },
  {
   "cell_type": "markdown",
   "id": "31117f12",
   "metadata": {},
   "source": [
    "## Open a File\n",
    "For this, we should use Python’s inbuilt function open() but at the time of opening, we have to specify the mode, which represents the purpose of the opening file.\n",
    "\n",
    "Where the following mode is supported:\n",
    "\n",
    "r: open an existing file for a read operation.\n",
    "\n",
    "w: open an existing file for a write operation. If the file already contains some data then it will be overridden.\n",
    "\n",
    "a:  open an existing file for append operation. It won’t override existing data.\n",
    "\n",
    "r+:  To read and write data into the file. The previous data in the file will be overridden.\n",
    "\n",
    "w+: To write and read data. It will override existing data.\n",
    "\n",
    "a+: To append and read data from the file. It won’t override existing data.\n",
    "#### open()\n",
    "The open command will open the file in the read mode and the for loop will print each line present in the file. "
   ]
  },
  {
   "cell_type": "code",
   "execution_count": 1,
   "id": "2f72deec",
   "metadata": {},
   "outputs": [],
   "source": [
    "File = open('Team4.txt','r') "
   ]
  },
  {
   "cell_type": "markdown",
   "id": "1f155594",
   "metadata": {},
   "source": [
    "## Read a File\n",
    "#### .read()\n",
    "To read the entire contents of the file can use .read()"
   ]
  },
  {
   "cell_type": "code",
   "execution_count": 2,
   "id": "4a762165",
   "metadata": {},
   "outputs": [],
   "source": [
    "FileContent = File.read()"
   ]
  },
  {
   "cell_type": "code",
   "execution_count": 3,
   "id": "e280f830",
   "metadata": {},
   "outputs": [
    {
     "name": "stdout",
     "output_type": "stream",
     "text": [
      "Azkia\n",
      "Arnesta\n",
      "Arini\n",
      "Nabila\n",
      "Vegatama\n"
     ]
    }
   ],
   "source": [
    "print(FileContent)"
   ]
  },
  {
   "cell_type": "markdown",
   "id": "59bfd661",
   "metadata": {},
   "source": [
    "#### .readline()\n",
    "To read each line in the file can use .readline()"
   ]
  },
  {
   "cell_type": "code",
   "execution_count": 4,
   "id": "036b40de",
   "metadata": {},
   "outputs": [],
   "source": [
    "Team4 = open('Team4.txt','r')"
   ]
  },
  {
   "cell_type": "code",
   "execution_count": 5,
   "id": "cf9c05cc",
   "metadata": {},
   "outputs": [
    {
     "name": "stdout",
     "output_type": "stream",
     "text": [
      "Azkia\n",
      "\n"
     ]
    }
   ],
   "source": [
    "MemberFileFirstLine = Team4.readline()\n",
    "print(MemberFileFirstLine)"
   ]
  },
  {
   "cell_type": "code",
   "execution_count": 6,
   "id": "c8390e45",
   "metadata": {},
   "outputs": [
    {
     "name": "stdout",
     "output_type": "stream",
     "text": [
      "Arnesta\n",
      "\n"
     ]
    }
   ],
   "source": [
    "MemberFileSecondLine = Team4.readline()\n",
    "print(MemberFileSecondLine)"
   ]
  },
  {
   "cell_type": "code",
   "execution_count": 7,
   "id": "408c754c",
   "metadata": {},
   "outputs": [
    {
     "name": "stdout",
     "output_type": "stream",
     "text": [
      "Arini\n",
      "\n"
     ]
    }
   ],
   "source": [
    "MemberFileThirdLine = Team4.readline()\n",
    "print(MemberFileThirdLine)"
   ]
  },
  {
   "cell_type": "code",
   "execution_count": 8,
   "id": "8ae79ab1",
   "metadata": {},
   "outputs": [
    {
     "name": "stdout",
     "output_type": "stream",
     "text": [
      "Nabila\n",
      "\n"
     ]
    }
   ],
   "source": [
    "MemberFileFourthLine = Team4.readline()\n",
    "print(MemberFileFourthLine)"
   ]
  },
  {
   "cell_type": "code",
   "execution_count": 9,
   "id": "b7053a9b",
   "metadata": {},
   "outputs": [
    {
     "name": "stdout",
     "output_type": "stream",
     "text": [
      "Vegatama\n"
     ]
    }
   ],
   "source": [
    "MemberFileFifthLine = Team4.readline()\n",
    "print(MemberFileFifthLine)"
   ]
  },
  {
   "cell_type": "code",
   "execution_count": 10,
   "id": "4294ce4d",
   "metadata": {},
   "outputs": [
    {
     "name": "stdout",
     "output_type": "stream",
     "text": [
      "\n"
     ]
    }
   ],
   "source": [
    "# It will be empty because it has read all the contents of the file\n",
    "MemberFileSixthLine = Team4.readline()\n",
    "print(MemberFileSixthLine)"
   ]
  },
  {
   "cell_type": "markdown",
   "id": "63228efb",
   "metadata": {},
   "source": [
    "#### .readlines()\n",
    "To read all lines in the file but in the format of a list. so you can use .readlines()"
   ]
  },
  {
   "cell_type": "code",
   "execution_count": 11,
   "id": "b13db7c8",
   "metadata": {},
   "outputs": [],
   "source": [
    "Team4 = open('Team4.txt','r')"
   ]
  },
  {
   "cell_type": "code",
   "execution_count": 12,
   "id": "33b15165",
   "metadata": {},
   "outputs": [
    {
     "name": "stdout",
     "output_type": "stream",
     "text": [
      "['Azkia\\n', 'Arnesta\\n', 'Arini\\n', 'Nabila\\n', 'Vegatama']\n"
     ]
    }
   ],
   "source": [
    "MemberFileLine = Team4.readlines()\n",
    "print(MemberFileLine)"
   ]
  },
  {
   "cell_type": "code",
   "execution_count": 13,
   "id": "f4c40d6d",
   "metadata": {},
   "outputs": [
    {
     "name": "stdout",
     "output_type": "stream",
     "text": [
      "[]\n"
     ]
    }
   ],
   "source": [
    "# It will be empty because it has been read in the cell above\n",
    "MemberFileLineAgain = Team4.readlines()\n",
    "print(MemberFileLineAgain)"
   ]
  },
  {
   "cell_type": "markdown",
   "id": "4179b390",
   "metadata": {},
   "source": [
    "#### Write/Create a File\n",
    "To write to an existing file, you must add a parameter to the open() function:\n",
    "\n",
    "\"a\" - Append - will append to the end of the file\n",
    "\n",
    "\"w\" - Write - will overwrite any existing content\n",
    "#### append\n",
    "To add data to the file by using mode 'a'"
   ]
  },
  {
   "cell_type": "code",
   "execution_count": 14,
   "id": "dd15519f",
   "metadata": {},
   "outputs": [
    {
     "name": "stdout",
     "output_type": "stream",
     "text": [
      "PizzaBurger\n"
     ]
    }
   ],
   "source": [
    "menu = open('menu.txt','a')\n",
    "menu.write(\"Pizza\")\n",
    "menu.write('Burger')\n",
    "\n",
    "#open and read the file after the appending:\n",
    "menu = open('menu.txt', 'r')\n",
    "print(menu.read())"
   ]
  },
  {
   "cell_type": "markdown",
   "id": "f3d96765",
   "metadata": {},
   "source": [
    "#### write\n",
    "To replace the data in the file by using mode'w' "
   ]
  },
  {
   "cell_type": "code",
   "execution_count": 15,
   "id": "9faceb1c",
   "metadata": {},
   "outputs": [
    {
     "name": "stdout",
     "output_type": "stream",
     "text": [
      "PastaSandwich\n"
     ]
    }
   ],
   "source": [
    "menu = open('menu.txt','w')\n",
    "menu.write(\"Pasta\")\n",
    "menu.write(\"Sandwich\")\n",
    "\n",
    "#open and read the file after the appending:\n",
    "menu = open('menu.txt','r')\n",
    "print(menu.read())"
   ]
  },
  {
   "cell_type": "markdown",
   "id": "2975e630",
   "metadata": {},
   "source": [
    "## Close a File\n",
    "To close an open file, use .close()"
   ]
  },
  {
   "cell_type": "code",
   "execution_count": 16,
   "id": "5dc61d1a",
   "metadata": {},
   "outputs": [],
   "source": [
    "menu.close()"
   ]
  },
  {
   "cell_type": "markdown",
   "id": "941ced35",
   "metadata": {},
   "source": [
    "## Delete a File\n",
    "To delete a file using library os and .remove()"
   ]
  },
  {
   "cell_type": "code",
   "execution_count": 17,
   "id": "a0bfffc6",
   "metadata": {},
   "outputs": [],
   "source": [
    "import os\n",
    "if os.path.exists(\"menu.txt\"):\n",
    "  os.remove(\"menu.txt\")\n",
    "else:\n",
    "  print(\"The file does not exist\")"
   ]
  }
 ],
 "metadata": {
  "kernelspec": {
   "display_name": "Python 3",
   "language": "python",
   "name": "python3"
  },
  "language_info": {
   "codemirror_mode": {
    "name": "ipython",
    "version": 3
   },
   "file_extension": ".py",
   "mimetype": "text/x-python",
   "name": "python",
   "nbconvert_exporter": "python",
   "pygments_lexer": "ipython3",
   "version": "3.8.8"
  }
 },
 "nbformat": 4,
 "nbformat_minor": 5
}
