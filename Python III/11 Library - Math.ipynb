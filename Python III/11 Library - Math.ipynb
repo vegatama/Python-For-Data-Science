{
 "cells": [
  {
   "cell_type": "markdown",
   "id": "b4c6b4be",
   "metadata": {},
   "source": [
    "# Math Library\n",
    "Python has a built-in module called math, which extends the list of mathematical functions.\n",
    "\n",
    "To use it, you must import the math module:"
   ]
  },
  {
   "cell_type": "code",
   "execution_count": 2,
   "id": "5fee6f93",
   "metadata": {},
   "outputs": [],
   "source": [
    "import math"
   ]
  },
  {
   "cell_type": "markdown",
   "id": "ca57066d",
   "metadata": {},
   "source": [
    "When you have imported the math module, you can start using methods and constants of the module.\n",
    "\n",
    "here a few function that can be used from the math library:"
   ]
  },
  {
   "cell_type": "markdown",
   "id": "0933f843",
   "metadata": {},
   "source": [
    "#### pi\n",
    "The math.pi method return 3.14(pi) value."
   ]
  },
  {
   "cell_type": "code",
   "execution_count": 3,
   "id": "72cbd661",
   "metadata": {},
   "outputs": [
    {
     "data": {
      "text/plain": [
       "3.141592653589793"
      ]
     },
     "execution_count": 3,
     "metadata": {},
     "output_type": "execute_result"
    }
   ],
   "source": [
    "phi = math.pi\n",
    "phi"
   ]
  },
  {
   "cell_type": "markdown",
   "id": "c4c410ca",
   "metadata": {},
   "source": [
    "#### ceil \n",
    "The math.ceil() method rounds a number upwards to its nearest integer."
   ]
  },
  {
   "cell_type": "code",
   "execution_count": 4,
   "id": "32784456",
   "metadata": {},
   "outputs": [
    {
     "data": {
      "text/plain": [
       "4"
      ]
     },
     "execution_count": 4,
     "metadata": {},
     "output_type": "execute_result"
    }
   ],
   "source": [
    "upperBound = math.ceil(phi)\n",
    "upperBound"
   ]
  },
  {
   "cell_type": "markdown",
   "id": "3375b360",
   "metadata": {},
   "source": [
    "The code above return 4, that is the upperBound value of 3.14(pi)."
   ]
  },
  {
   "cell_type": "markdown",
   "id": "275ed391",
   "metadata": {},
   "source": [
    "#### floor\n",
    "The math.floor() method rounds a number downwards to its nearest integer."
   ]
  },
  {
   "cell_type": "code",
   "execution_count": 5,
   "id": "73a53671",
   "metadata": {},
   "outputs": [
    {
     "data": {
      "text/plain": [
       "3"
      ]
     },
     "execution_count": 5,
     "metadata": {},
     "output_type": "execute_result"
    }
   ],
   "source": [
    "lowerBound = math.floor(phi)\n",
    "lowerBound"
   ]
  },
  {
   "cell_type": "markdown",
   "id": "c71705c4",
   "metadata": {},
   "source": [
    "The code above return 3, that is the lowerBound value of 3.14(pi)."
   ]
  },
  {
   "cell_type": "markdown",
   "id": "9ce1e5f9",
   "metadata": {},
   "source": [
    "#### sqrt\n",
    "The math.sqrt() method returns the square root of a number."
   ]
  },
  {
   "cell_type": "code",
   "execution_count": 7,
   "id": "592d0d34",
   "metadata": {},
   "outputs": [
    {
     "data": {
      "text/plain": [
       "2.0"
      ]
     },
     "execution_count": 7,
     "metadata": {},
     "output_type": "execute_result"
    }
   ],
   "source": [
    "square_root = math.sqrt(4)\n",
    "square_root"
   ]
  },
  {
   "cell_type": "markdown",
   "id": "90a11622",
   "metadata": {},
   "source": [
    "The code above return 2, that is the square root value of 4."
   ]
  },
  {
   "cell_type": "markdown",
   "id": "08b41474",
   "metadata": {},
   "source": [
    "### case example\n",
    "make a code that input a radius of circle and return the area of circle."
   ]
  },
  {
   "cell_type": "code",
   "execution_count": null,
   "id": "be4705dc",
   "metadata": {},
   "outputs": [],
   "source": [
    "import math"
   ]
  },
  {
   "cell_type": "code",
   "execution_count": 8,
   "id": "710dcf70",
   "metadata": {},
   "outputs": [
    {
     "name": "stdout",
     "output_type": "stream",
     "text": [
      "Input radius of circle: 5\n",
      "area of circle:  78.53981633974483\n"
     ]
    }
   ],
   "source": [
    "phi = math.pi\n",
    "r = float(input(\"Input radius of circle: \"))\n",
    "\n",
    "area_of_circle = phi*r*r\n",
    "print(\"area of circle: \",area_of_circle)"
   ]
  },
  {
   "cell_type": "markdown",
   "id": "6420f958",
   "metadata": {},
   "source": [
    "The code above use math.pi for the input of formula of area of circle."
   ]
  }
 ],
 "metadata": {
  "kernelspec": {
   "display_name": "Python 3",
   "language": "python",
   "name": "python3"
  },
  "language_info": {
   "codemirror_mode": {
    "name": "ipython",
    "version": 3
   },
   "file_extension": ".py",
   "mimetype": "text/x-python",
   "name": "python",
   "nbconvert_exporter": "python",
   "pygments_lexer": "ipython3",
   "version": "3.8.8"
  }
 },
 "nbformat": 4,
 "nbformat_minor": 5
}
