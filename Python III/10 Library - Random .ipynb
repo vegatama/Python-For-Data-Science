{
 "cells": [
  {
   "cell_type": "markdown",
   "id": "b06a567b",
   "metadata": {},
   "source": [
    "# random Library\n",
    "The random module is a built-in module to generate the pseudo-random variables. It can be used perform some action randomly such as to get a random number, selecting a random elements from a list, shuffle elements randomly, etc.\n",
    "\n",
    "To use it, you must import the datetime module:"
   ]
  },
  {
   "cell_type": "code",
   "execution_count": 4,
   "id": "101095ea",
   "metadata": {},
   "outputs": [],
   "source": [
    "import random\n",
    "from random import randint"
   ]
  },
  {
   "cell_type": "markdown",
   "id": "1bb1fdb2",
   "metadata": {},
   "source": [
    "here a few function that can be used from random library and the cases:"
   ]
  },
  {
   "cell_type": "markdown",
   "id": "992d3703",
   "metadata": {},
   "source": [
    "#### randint()\n",
    "The random.randint() method returns a random integer between the specified integers."
   ]
  },
  {
   "cell_type": "code",
   "execution_count": 6,
   "id": "55026056",
   "metadata": {},
   "outputs": [
    {
     "name": "stdout",
     "output_type": "stream",
     "text": [
      "Random num 0 is 10\n",
      "Random num 1 is 9\n",
      "Random num 2 is 5\n",
      "Random num 3 is 1\n",
      "Random num 4 is 8\n",
      "Random num 5 is 10\n",
      "Random num 6 is 7\n",
      "Random num 7 is 6\n",
      "Random num 8 is 8\n",
      "Random num 9 is 4\n"
     ]
    }
   ],
   "source": [
    "for i in range(10):\n",
    "    print(f\"Random num {i} is {randint(1,10)}\")"
   ]
  },
  {
   "cell_type": "markdown",
   "id": "99d9274b",
   "metadata": {},
   "source": [
    "The code above show 10 random integer with range 1 to 10."
   ]
  },
  {
   "cell_type": "markdown",
   "id": "854566f2",
   "metadata": {},
   "source": [
    "#### random.randrange()\n",
    "The random.randrange() method returns a randomly selected element from the range created by the start, stop and step arguments. The value of start is 0 by default. Similarly, the value of step is 1 by default."
   ]
  },
  {
   "cell_type": "code",
   "execution_count": 7,
   "id": "866f4d58",
   "metadata": {},
   "outputs": [
    {
     "name": "stdout",
     "output_type": "stream",
     "text": [
      "Random num 0 is 16\n",
      "Random num 1 is 10\n",
      "Random num 2 is 4\n",
      "Random num 3 is 4\n",
      "Random num 4 is 10\n",
      "Random num 5 is 10\n",
      "Random num 6 is 18\n",
      "Random num 7 is 16\n",
      "Random num 8 is 10\n",
      "Random num 9 is 16\n"
     ]
    }
   ],
   "source": [
    "for i in range(10):\n",
    "    print(f\"Random num {i} is {random.randrange(2,20,2)}\")"
   ]
  },
  {
   "cell_type": "markdown",
   "id": "c59bd186",
   "metadata": {},
   "source": [
    "The code above show 10 random integer with range 2 to 20 and only resulting odd numbers."
   ]
  }
 ],
 "metadata": {
  "kernelspec": {
   "display_name": "Python 3",
   "language": "python",
   "name": "python3"
  },
  "language_info": {
   "codemirror_mode": {
    "name": "ipython",
    "version": 3
   },
   "file_extension": ".py",
   "mimetype": "text/x-python",
   "name": "python",
   "nbconvert_exporter": "python",
   "pygments_lexer": "ipython3",
   "version": "3.8.8"
  }
 },
 "nbformat": 4,
 "nbformat_minor": 5
}
