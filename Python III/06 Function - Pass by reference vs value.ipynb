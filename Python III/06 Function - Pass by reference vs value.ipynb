{
 "cells": [
  {
   "cell_type": "markdown",
   "id": "dcd6d74c",
   "metadata": {},
   "source": [
    "# Pass by reference vs value"
   ]
  },
  {
   "cell_type": "markdown",
   "id": "5db2c00d",
   "metadata": {},
   "source": [
    "## Pass by Reference\n",
    "Pass by reference means that you have to pass the function(reference) to a variable which refers that the variable already exists in memory."
   ]
  },
  {
   "cell_type": "code",
   "execution_count": 1,
   "id": "9d58c9a7",
   "metadata": {},
   "outputs": [],
   "source": [
    "def change(x):\n",
    "    x.append([3,4])\n",
    "    print(\"The value inside the function is : {}\".format(x))"
   ]
  },
  {
   "cell_type": "code",
   "execution_count": 2,
   "id": "085fc6ab",
   "metadata": {},
   "outputs": [
    {
     "name": "stdout",
     "output_type": "stream",
     "text": [
      "The value inside the function is : [10, [3, 4]]\n",
      "The value outside the function is : [10, [3, 4]]\n"
     ]
    }
   ],
   "source": [
    "a = [10]\n",
    "change(a)\n",
    "print(\"The value outside the function is : {}\".format(a))"
   ]
  },
  {
   "cell_type": "markdown",
   "id": "5ddaa127",
   "metadata": {},
   "source": [
    "## Pass by Value\n",
    "We pass a copy of actual variables in function as a parameter. Hence any modification on parameters inside the function will not reflect in the actual variable."
   ]
  },
  {
   "cell_type": "code",
   "execution_count": 3,
   "id": "db542456",
   "metadata": {},
   "outputs": [],
   "source": [
    "def change1(x):\n",
    "    x = [3,4]\n",
    "    x.append(5)\n",
    "    print('The value inside the function is : {}'.format(x))"
   ]
  },
  {
   "cell_type": "code",
   "execution_count": 4,
   "id": "6924d9df",
   "metadata": {},
   "outputs": [
    {
     "name": "stdout",
     "output_type": "stream",
     "text": [
      "The value inside the function is : [3, 4, 5]\n",
      "The value outside the function is : [10, 20, 30]\n"
     ]
    }
   ],
   "source": [
    "mylist = [10,20,30];\n",
    "change1( mylist );\n",
    "print(\"The value outside the function is : {}\".format(mylist))"
   ]
  }
 ],
 "metadata": {
  "kernelspec": {
   "display_name": "Python 3",
   "language": "python",
   "name": "python3"
  },
  "language_info": {
   "codemirror_mode": {
    "name": "ipython",
    "version": 3
   },
   "file_extension": ".py",
   "mimetype": "text/x-python",
   "name": "python",
   "nbconvert_exporter": "python",
   "pygments_lexer": "ipython3",
   "version": "3.8.8"
  }
 },
 "nbformat": 4,
 "nbformat_minor": 5
}
