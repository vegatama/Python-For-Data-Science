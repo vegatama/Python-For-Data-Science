{
 "cells": [
  {
   "cell_type": "markdown",
   "id": "c080c4ae",
   "metadata": {},
   "source": [
    "# Catching Specific Exception"
   ]
  },
  {
   "cell_type": "markdown",
   "id": "4bb9cc0e",
   "metadata": {},
   "source": [
    "A try statement can have more than one except clause, to specify handlers for different exceptions."
   ]
  },
  {
   "cell_type": "markdown",
   "id": "87df736d",
   "metadata": {},
   "source": [
    "### Using 2 or More Excepts "
   ]
  },
  {
   "cell_type": "code",
   "execution_count": 1,
   "id": "6f533292",
   "metadata": {},
   "outputs": [
    {
     "name": "stdout",
     "output_type": "stream",
     "text": [
      ".append method is only work with data type list,dict,set and tuple\n"
     ]
    }
   ],
   "source": [
    "x = '10'\n",
    "try:\n",
    "    x.append(6) #AtributError\n",
    "    #x[3] #IndexError\n",
    "   \n",
    "except AttributeError:\n",
    "    print('.append method is only work with data type list,dict,set and tuple')\n",
    "except IndexError:\n",
    "    print('Index has cross the value limit on a variable')"
   ]
  },
  {
   "cell_type": "markdown",
   "id": "33bf9c71",
   "metadata": {},
   "source": [
    "### Using Tuple"
   ]
  },
  {
   "cell_type": "code",
   "execution_count": 2,
   "id": "65d2972b",
   "metadata": {},
   "outputs": [
    {
     "name": "stdout",
     "output_type": "stream",
     "text": [
      "There is an error in attribute or index\n"
     ]
    }
   ],
   "source": [
    "x = '10'\n",
    "try:\n",
    "    #x.append(6) #AtributError\n",
    "    x[3] #IndexError\n",
    "except (AttributeError, IndexError):\n",
    "    print('There is an error in attribute or index')"
   ]
  },
  {
   "cell_type": "markdown",
   "id": "610ec96f",
   "metadata": {},
   "source": [
    "# Using alias (as)\n",
    "Doing alias (as) so that it can display the error writing in python"
   ]
  },
  {
   "cell_type": "code",
   "execution_count": 3,
   "id": "8743bccc",
   "metadata": {},
   "outputs": [
    {
     "name": "stdout",
     "output_type": "stream",
     "text": [
      "There is an error on : 'str' object has no attribute 'append'\n"
     ]
    }
   ],
   "source": [
    "x = '10'\n",
    "try:\n",
    "    x.append(6)\n",
    "    #x[3]\n",
    "except AttributeError as AE:\n",
    "    print('There is an error on :', AE)\n",
    "except IndexError as IE:\n",
    "    print('There is an error on : ',IE)"
   ]
  },
  {
   "cell_type": "code",
   "execution_count": 4,
   "id": "69f4d70d",
   "metadata": {},
   "outputs": [
    {
     "name": "stdout",
     "output_type": "stream",
     "text": [
      "There is an Error on Attribute or Index : 'str' object has no attribute 'append'\n"
     ]
    }
   ],
   "source": [
    "# Combine errors in one except and perform aliasing\n",
    "x = '10'\n",
    "try:\n",
    "    x.append(6)\n",
    "    #x[3]\n",
    "except (AttributeError, IndexError) as AI:\n",
    "    print('There is an Error on Attribute or Index :', AI)"
   ]
  }
 ],
 "metadata": {
  "kernelspec": {
   "display_name": "Python 3",
   "language": "python",
   "name": "python3"
  },
  "language_info": {
   "codemirror_mode": {
    "name": "ipython",
    "version": 3
   },
   "file_extension": ".py",
   "mimetype": "text/x-python",
   "name": "python",
   "nbconvert_exporter": "python",
   "pygments_lexer": "ipython3",
   "version": "3.8.8"
  }
 },
 "nbformat": 4,
 "nbformat_minor": 5
}
