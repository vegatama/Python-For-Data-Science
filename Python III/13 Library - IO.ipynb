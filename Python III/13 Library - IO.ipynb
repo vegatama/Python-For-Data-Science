{
 "cells": [
  {
   "cell_type": "markdown",
   "id": "a14fcca3",
   "metadata": {},
   "source": [
    "# IO\n",
    "The io module provides Python’s main facilities for dealing with various types of I/O.\n",
    "\n",
    "This module is a part of the standard library, so there’s no need to install it separately using pip.\n",
    "\n",
    "To use it, you must import the io module:"
   ]
  },
  {
   "cell_type": "code",
   "execution_count": 1,
   "id": "9b7a5c67",
   "metadata": {},
   "outputs": [],
   "source": [
    "import io"
   ]
  },
  {
   "cell_type": "markdown",
   "id": "ac8ad30a",
   "metadata": {},
   "source": [
    "here a case woth i/o used:"
   ]
  },
  {
   "cell_type": "code",
   "execution_count": 2,
   "id": "7faf5d32",
   "metadata": {},
   "outputs": [
    {
     "name": "stdout",
     "output_type": "stream",
     "text": [
      "masukkan data:halo\n"
     ]
    }
   ],
   "source": [
    "with open('log.txt', 'w') as writeFile:\n",
    "    tolog = input(\"masukkan data:\")\n",
    "    writeFile.write(tolog)"
   ]
  },
  {
   "cell_type": "markdown",
   "id": "09a1cf32",
   "metadata": {},
   "source": [
    "this code used to input a sentence to log.txt file, the code will open log.txt file than close  it after write complete.\n",
    "file is closed after the with statement’s suite is finished—even if an exception occurs."
   ]
  }
 ],
 "metadata": {
  "kernelspec": {
   "display_name": "Python 3",
   "language": "python",
   "name": "python3"
  },
  "language_info": {
   "codemirror_mode": {
    "name": "ipython",
    "version": 3
   },
   "file_extension": ".py",
   "mimetype": "text/x-python",
   "name": "python",
   "nbconvert_exporter": "python",
   "pygments_lexer": "ipython3",
   "version": "3.8.8"
  }
 },
 "nbformat": 4,
 "nbformat_minor": 5
}
