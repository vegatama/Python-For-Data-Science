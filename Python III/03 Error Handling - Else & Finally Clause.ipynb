{
 "cells": [
  {
   "cell_type": "markdown",
   "id": "4b27696c",
   "metadata": {},
   "source": [
    "# Else Clause\n",
    "In some situations, you may want to run a specific block of code if the code block in the test runs without errors. In this case, you can use the optional else keyword with a try statement."
   ]
  },
  {
   "cell_type": "code",
   "execution_count": 1,
   "id": "05b1b583",
   "metadata": {},
   "outputs": [
    {
     "name": "stdout",
     "output_type": "stream",
     "text": [
      "There is an error on :  list index out of range\n"
     ]
    }
   ],
   "source": [
    "# except IndexError will be executed\n",
    "old = ['10','20','30','40','50']\n",
    "try:\n",
    "    new = old[5]\n",
    "    new\n",
    "except IndexError as IE:\n",
    "    print('There is an error on : ',IE)\n",
    "else:\n",
    "    print(x)"
   ]
  },
  {
   "cell_type": "code",
   "execution_count": 2,
   "id": "84f77109",
   "metadata": {},
   "outputs": [
    {
     "name": "stdout",
     "output_type": "stream",
     "text": [
      "50\n"
     ]
    }
   ],
   "source": [
    "# else will be executed\n",
    "old = ['10','20','30','40','50']\n",
    "try:\n",
    "    new = old[4]\n",
    "    new\n",
    "except IndexError as IE:\n",
    "    print('There is an error on : ',IE)\n",
    "else:\n",
    "    print(new)\n",
    "    "
   ]
  },
  {
   "cell_type": "markdown",
   "id": "25e6e9b3",
   "metadata": {},
   "source": [
    "# Finally Clause\n",
    "The try statement in Python can have an optional Finally clause. This clause is executed no matter what, and is generally used to release external resources."
   ]
  },
  {
   "cell_type": "code",
   "execution_count": 3,
   "id": "176fd4c0",
   "metadata": {},
   "outputs": [
    {
     "name": "stdout",
     "output_type": "stream",
     "text": [
      "50\n",
      "Good Job\n"
     ]
    }
   ],
   "source": [
    "# finally clause always will be executed\n",
    "old = ['10','20','30','40','50']\n",
    "try:\n",
    "    new = old[4]\n",
    "    new\n",
    "except IndexError as IE:\n",
    "    print('There is an error on : ',IE)\n",
    "else:\n",
    "    print(new)\n",
    "finally:\n",
    "    print(\"Good Job\")"
   ]
  },
  {
   "cell_type": "code",
   "execution_count": null,
   "id": "1c7118e5",
   "metadata": {},
   "outputs": [],
   "source": []
  }
 ],
 "metadata": {
  "kernelspec": {
   "display_name": "Python 3",
   "language": "python",
   "name": "python3"
  },
  "language_info": {
   "codemirror_mode": {
    "name": "ipython",
    "version": 3
   },
   "file_extension": ".py",
   "mimetype": "text/x-python",
   "name": "python",
   "nbconvert_exporter": "python",
   "pygments_lexer": "ipython3",
   "version": "3.8.8"
  }
 },
 "nbformat": 4,
 "nbformat_minor": 5
}
