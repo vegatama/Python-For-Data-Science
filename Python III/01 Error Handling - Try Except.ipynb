{
 "cells": [
  {
   "cell_type": "markdown",
   "id": "ec2370ad",
   "metadata": {},
   "source": [
    "# Error Handling On Python\n",
    "As you know, there are 2 types of errors:\n",
    "- Syntax errors\n",
    "- Logical errors/Exceptions\n",
    "\n",
    "Handling error using the (try) and (except) statement\n",
    "\n",
    "Try and except statements are used to catch and handle exceptions in Python."
   ]
  },
  {
   "cell_type": "markdown",
   "id": "807699fc",
   "metadata": {},
   "source": [
    "## Try and Except Statement\n",
    "- The try block lets you test a block of code for errors.\n",
    "- The except block lets you handle the error."
   ]
  },
  {
   "cell_type": "markdown",
   "id": "e34dc3da",
   "metadata": {},
   "source": [
    "#### Example of handle ZeroDivisionError "
   ]
  },
  {
   "cell_type": "code",
   "execution_count": 1,
   "id": "88e97d7b",
   "metadata": {},
   "outputs": [
    {
     "ename": "ZeroDivisionError",
     "evalue": "division by zero",
     "output_type": "error",
     "traceback": [
      "\u001b[1;31m---------------------------------------------------------------------------\u001b[0m",
      "\u001b[1;31mZeroDivisionError\u001b[0m                         Traceback (most recent call last)",
      "\u001b[1;32m<ipython-input-1-a3cb4f9a3dc1>\u001b[0m in \u001b[0;36m<module>\u001b[1;34m\u001b[0m\n\u001b[0;32m      1\u001b[0m \u001b[1;31m# Generates ZeroDivisionError .\u001b[0m\u001b[1;33m\u001b[0m\u001b[1;33m\u001b[0m\u001b[1;33m\u001b[0m\u001b[0m\n\u001b[0;32m      2\u001b[0m \u001b[0ma\u001b[0m \u001b[1;33m=\u001b[0m \u001b[1;36m0\u001b[0m\u001b[1;33m\u001b[0m\u001b[1;33m\u001b[0m\u001b[0m\n\u001b[1;32m----> 3\u001b[1;33m \u001b[0mdivison\u001b[0m \u001b[1;33m=\u001b[0m \u001b[1;36m1\u001b[0m\u001b[1;33m/\u001b[0m\u001b[0ma\u001b[0m\u001b[1;33m\u001b[0m\u001b[1;33m\u001b[0m\u001b[0m\n\u001b[0m\u001b[0;32m      4\u001b[0m \u001b[0mprint\u001b[0m\u001b[1;33m(\u001b[0m\u001b[0mdivison\u001b[0m\u001b[1;33m)\u001b[0m\u001b[1;33m\u001b[0m\u001b[1;33m\u001b[0m\u001b[0m\n",
      "\u001b[1;31mZeroDivisionError\u001b[0m: division by zero"
     ]
    }
   ],
   "source": [
    "# Generates ZeroDivisionError .\n",
    "a = 0\n",
    "divison = 1/a\n",
    "print(divison)"
   ]
  },
  {
   "cell_type": "code",
   "execution_count": 2,
   "id": "a9b73002",
   "metadata": {},
   "outputs": [
    {
     "name": "stdout",
     "output_type": "stream",
     "text": [
      "It Can't division by 0\n"
     ]
    }
   ],
   "source": [
    "# Using Try and Except to handle an error ZeroDivisionError\n",
    "a = 0\n",
    "\n",
    "try:\n",
    "    division = 1/a\n",
    "    print(division)\n",
    "except ZeroDivisionError: # if ZeroDivisionError occurs, then the command below is executed \n",
    "    print('It Can\\'t division by 0')"
   ]
  },
  {
   "cell_type": "markdown",
   "id": "f46d3f12",
   "metadata": {},
   "source": [
    "#### Example of handle IndexError"
   ]
  },
  {
   "cell_type": "code",
   "execution_count": 3,
   "id": "9dd071ef",
   "metadata": {},
   "outputs": [
    {
     "ename": "IndexError",
     "evalue": "list index out of range",
     "output_type": "error",
     "traceback": [
      "\u001b[1;31m---------------------------------------------------------------------------\u001b[0m",
      "\u001b[1;31mIndexError\u001b[0m                                Traceback (most recent call last)",
      "\u001b[1;32m<ipython-input-3-a7a7f8ed119d>\u001b[0m in \u001b[0;36m<module>\u001b[1;34m\u001b[0m\n\u001b[0;32m      1\u001b[0m \u001b[0mb\u001b[0m \u001b[1;33m=\u001b[0m \u001b[1;33m[\u001b[0m\u001b[1;36m1\u001b[0m\u001b[1;33m,\u001b[0m\u001b[1;36m2\u001b[0m\u001b[1;33m,\u001b[0m\u001b[1;36m3\u001b[0m\u001b[1;33m,\u001b[0m\u001b[1;36m4\u001b[0m\u001b[1;33m,\u001b[0m\u001b[1;36m5\u001b[0m\u001b[1;33m]\u001b[0m\u001b[1;33m\u001b[0m\u001b[1;33m\u001b[0m\u001b[0m\n\u001b[1;32m----> 2\u001b[1;33m \u001b[0mprint\u001b[0m\u001b[1;33m(\u001b[0m\u001b[0mb\u001b[0m\u001b[1;33m[\u001b[0m\u001b[1;36m6\u001b[0m\u001b[1;33m]\u001b[0m\u001b[1;33m)\u001b[0m \u001b[1;31m# There is no index 6\u001b[0m\u001b[1;33m\u001b[0m\u001b[1;33m\u001b[0m\u001b[0m\n\u001b[0m",
      "\u001b[1;31mIndexError\u001b[0m: list index out of range"
     ]
    }
   ],
   "source": [
    "b = [1,2,3,4,5]\n",
    "print(b[6]) # There is no index 6"
   ]
  },
  {
   "cell_type": "code",
   "execution_count": 4,
   "id": "81ac9f26",
   "metadata": {},
   "outputs": [
    {
     "name": "stdout",
     "output_type": "stream",
     "text": [
      "List is only have 5 index\n"
     ]
    }
   ],
   "source": [
    "b = [1,2,3,4,5]\n",
    "\n",
    "try:\n",
    "    print(b[6])\n",
    "except IndexError:\n",
    "    print('List is only have 5 index')"
   ]
  },
  {
   "cell_type": "markdown",
   "id": "8a02de10",
   "metadata": {},
   "source": [
    "#### Example of handle FileNotFoundError"
   ]
  },
  {
   "cell_type": "code",
   "execution_count": 5,
   "id": "781bd071",
   "metadata": {},
   "outputs": [
    {
     "ename": "FileNotFoundError",
     "evalue": "[Errno 2] No such file or directory: 'example_does_not_exist.py'",
     "output_type": "error",
     "traceback": [
      "\u001b[1;31m---------------------------------------------------------------------------\u001b[0m",
      "\u001b[1;31mFileNotFoundError\u001b[0m                         Traceback (most recent call last)",
      "\u001b[1;32m<ipython-input-5-a3de0878cc89>\u001b[0m in \u001b[0;36m<module>\u001b[1;34m\u001b[0m\n\u001b[1;32m----> 1\u001b[1;33m \u001b[1;32mwith\u001b[0m \u001b[0mopen\u001b[0m\u001b[1;33m(\u001b[0m\u001b[1;34m'example_does_not_exist.py'\u001b[0m\u001b[1;33m)\u001b[0m \u001b[1;32mas\u001b[0m \u001b[0mfile\u001b[0m\u001b[1;33m:\u001b[0m\u001b[1;33m\u001b[0m\u001b[1;33m\u001b[0m\u001b[0m\n\u001b[0m\u001b[0;32m      2\u001b[0m     \u001b[0mprint\u001b[0m\u001b[1;33m(\u001b[0m\u001b[0mfile\u001b[0m\u001b[1;33m.\u001b[0m\u001b[0mread\u001b[0m\u001b[1;33m(\u001b[0m\u001b[1;33m)\u001b[0m\u001b[1;33m)\u001b[0m\u001b[1;33m\u001b[0m\u001b[1;33m\u001b[0m\u001b[0m\n",
      "\u001b[1;31mFileNotFoundError\u001b[0m: [Errno 2] No such file or directory: 'example_does_not_exist.py'"
     ]
    }
   ],
   "source": [
    "with open('example_does_not_exist.py') as file:\n",
    "    print(file.read())"
   ]
  },
  {
   "cell_type": "code",
   "execution_count": 6,
   "id": "a4ca2aeb",
   "metadata": {},
   "outputs": [
    {
     "name": "stdout",
     "output_type": "stream",
     "text": [
      "File is not found\n"
     ]
    }
   ],
   "source": [
    "try:\n",
    "    with open('example_does_not_exist.py') as file:\n",
    "        print(file.read())\n",
    "except FileNotFoundError:\n",
    "    print('File is not found')"
   ]
  },
  {
   "cell_type": "code",
   "execution_count": null,
   "id": "746be7b8",
   "metadata": {},
   "outputs": [],
   "source": []
  }
 ],
 "metadata": {
  "kernelspec": {
   "display_name": "Python 3",
   "language": "python",
   "name": "python3"
  },
  "language_info": {
   "codemirror_mode": {
    "name": "ipython",
    "version": 3
   },
   "file_extension": ".py",
   "mimetype": "text/x-python",
   "name": "python",
   "nbconvert_exporter": "python",
   "pygments_lexer": "ipython3",
   "version": "3.8.8"
  }
 },
 "nbformat": 4,
 "nbformat_minor": 5
}
