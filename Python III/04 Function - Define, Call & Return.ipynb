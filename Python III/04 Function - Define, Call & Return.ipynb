{
 "cells": [
  {
   "cell_type": "markdown",
   "id": "bcb39fa4",
   "metadata": {},
   "source": [
    "# Function\n",
    "Python Functions is a block of statements that return the specific task.\n",
    "\n",
    "The idea is to put some commonly or repeatedly done tasks together and make a function so that instead of writing the same code again and again for different inputs, we can do the function calls to reuse code contained in it over and over again.\n",
    "\n",
    "A Syntax Function is :\n",
    "\n",
    "def FunctionName(parameters):\n",
    "       \n",
    "        statement\n",
    "        return expression\n"
   ]
  },
  {
   "cell_type": "markdown",
   "id": "5a44859c",
   "metadata": {},
   "source": [
    "## Define a Function\n",
    "a syntax when you want to create a function\n",
    "\n",
    "def FunctionName():\n",
    "\n",
    "       statement"
   ]
  },
  {
   "cell_type": "code",
   "execution_count": 2,
   "id": "ec50592f",
   "metadata": {},
   "outputs": [],
   "source": [
    "def myFunction():\n",
    "    print(\"Hello World\")"
   ]
  },
  {
   "cell_type": "markdown",
   "id": "e153724a",
   "metadata": {},
   "source": [
    "## Calling a Function\n",
    "When you want to call your function\n",
    "\n",
    "FunctionName()"
   ]
  },
  {
   "cell_type": "code",
   "execution_count": 3,
   "id": "fe3d1001",
   "metadata": {},
   "outputs": [
    {
     "name": "stdout",
     "output_type": "stream",
     "text": [
      "Hello World\n"
     ]
    }
   ],
   "source": [
    "myFunction()"
   ]
  },
  {
   "cell_type": "markdown",
   "id": "61814ca1",
   "metadata": {},
   "source": [
    "## Return Statement\n",
    "You can use the return keyword to exit a function so it goes back to where it was called. That is, send something out of the function.\n",
    "\n",
    "The return statement can contain an expression to execute once the function is called.\n",
    "\n",
    "def FunctionName():\n",
    "       \n",
    "        statement\n",
    "        return expression"
   ]
  },
  {
   "cell_type": "code",
   "execution_count": 4,
   "id": "3371cb2f",
   "metadata": {},
   "outputs": [],
   "source": [
    "def square(x):\n",
    "    return x**2"
   ]
  },
  {
   "cell_type": "code",
   "execution_count": 5,
   "id": "91051747",
   "metadata": {},
   "outputs": [
    {
     "data": {
      "text/plain": [
       "16"
      ]
     },
     "execution_count": 5,
     "metadata": {},
     "output_type": "execute_result"
    }
   ],
   "source": [
    "square(4)"
   ]
  }
 ],
 "metadata": {
  "kernelspec": {
   "display_name": "Python 3",
   "language": "python",
   "name": "python3"
  },
  "language_info": {
   "codemirror_mode": {
    "name": "ipython",
    "version": 3
   },
   "file_extension": ".py",
   "mimetype": "text/x-python",
   "name": "python",
   "nbconvert_exporter": "python",
   "pygments_lexer": "ipython3",
   "version": "3.8.8"
  }
 },
 "nbformat": 4,
 "nbformat_minor": 5
}
