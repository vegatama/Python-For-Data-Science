{
 "cells": [
  {
   "cell_type": "markdown",
   "id": "aeddb56a",
   "metadata": {},
   "source": [
    "# Function with Argument\n",
    " While defining a function in Python, you can pass argument(s) into the function by putting them inside the parenthesis."
   ]
  },
  {
   "cell_type": "code",
   "execution_count": 1,
   "id": "19fcc5fe",
   "metadata": {},
   "outputs": [],
   "source": [
    "def name(x):\n",
    "    halo = \"Hai {}\".format(x)\n",
    "    return halo"
   ]
  },
  {
   "cell_type": "code",
   "execution_count": 2,
   "id": "405a74cb",
   "metadata": {},
   "outputs": [
    {
     "data": {
      "text/plain": [
       "'Hai Joko'"
      ]
     },
     "execution_count": 2,
     "metadata": {},
     "output_type": "execute_result"
    }
   ],
   "source": [
    "name('Joko')"
   ]
  },
  {
   "cell_type": "markdown",
   "id": "58872c22",
   "metadata": {},
   "source": [
    "# Argument and Parameter\n",
    "### Difference Between Argument and Paramater is :\n",
    "- A parameter is the variable listed inside the parentheses in the function definition\n",
    "- An argument is the value that is sent to the function when it is called."
   ]
  },
  {
   "cell_type": "code",
   "execution_count": 3,
   "id": "1c1944f1",
   "metadata": {},
   "outputs": [],
   "source": [
    "# what we fill when creating the function are paramaters\n",
    "def CheckEvenOdd(x): # x is a paramater \n",
    "    if (x % 2 == 0):\n",
    "        print(\"even\")\n",
    "    else:\n",
    "        print(\"odd\")"
   ]
  },
  {
   "cell_type": "code",
   "execution_count": 4,
   "id": "0d4b510a",
   "metadata": {},
   "outputs": [
    {
     "name": "stdout",
     "output_type": "stream",
     "text": [
      "odd\n"
     ]
    }
   ],
   "source": [
    "# what we fill when calling the function are arguments\n",
    "CheckEvenOdd(3) # 3 is an argument "
   ]
  },
  {
   "cell_type": "markdown",
   "id": "6dd58fa3",
   "metadata": {},
   "source": [
    "# Number of Arguments\n",
    "a function must be called with the correct number of arguments. Meaning that if your function expects 2 parameters, you have to call the function with 2 arguments, not more, and not less."
   ]
  },
  {
   "cell_type": "code",
   "execution_count": 5,
   "id": "ea153e8f",
   "metadata": {},
   "outputs": [
    {
     "name": "stdout",
     "output_type": "stream",
     "text": [
      "The sum of 2 + 5 is = 7\n"
     ]
    }
   ],
   "source": [
    "# This function expects 2 parameters, and gets 2 arguments\n",
    "def plus(x,y):\n",
    "    result = x + y\n",
    "    print(\"The sum of {} + {} is = {}\".format(x,y,result))\n",
    "\n",
    "plus(2,5)"
   ]
  },
  {
   "cell_type": "code",
   "execution_count": 6,
   "id": "674871c6",
   "metadata": {},
   "outputs": [
    {
     "ename": "TypeError",
     "evalue": "plus() missing 1 required positional argument: 'y'",
     "output_type": "error",
     "traceback": [
      "\u001b[1;31m---------------------------------------------------------------------------\u001b[0m",
      "\u001b[1;31mTypeError\u001b[0m                                 Traceback (most recent call last)",
      "\u001b[1;32m<ipython-input-6-78851cb88d77>\u001b[0m in \u001b[0;36m<module>\u001b[1;34m\u001b[0m\n\u001b[0;32m      4\u001b[0m     \u001b[0mprint\u001b[0m\u001b[1;33m(\u001b[0m\u001b[1;34m\"The sum of {} + {} is = {}\"\u001b[0m\u001b[1;33m.\u001b[0m\u001b[0mformat\u001b[0m\u001b[1;33m(\u001b[0m\u001b[0mx\u001b[0m\u001b[1;33m,\u001b[0m\u001b[0my\u001b[0m\u001b[1;33m,\u001b[0m\u001b[0mresult\u001b[0m\u001b[1;33m)\u001b[0m\u001b[1;33m)\u001b[0m\u001b[1;33m\u001b[0m\u001b[1;33m\u001b[0m\u001b[0m\n\u001b[0;32m      5\u001b[0m \u001b[1;33m\u001b[0m\u001b[0m\n\u001b[1;32m----> 6\u001b[1;33m \u001b[0mplus\u001b[0m\u001b[1;33m(\u001b[0m\u001b[1;36m2\u001b[0m\u001b[1;33m)\u001b[0m\u001b[1;33m\u001b[0m\u001b[1;33m\u001b[0m\u001b[0m\n\u001b[0m",
      "\u001b[1;31mTypeError\u001b[0m: plus() missing 1 required positional argument: 'y'"
     ]
    }
   ],
   "source": [
    "# This function expects 2 parameters, and gets 1 argument, so there will be an error\n",
    "def plus(x,y):\n",
    "    result = x + y\n",
    "    print(\"The sum of {} + {} is = {}\".format(x,y,result))\n",
    "\n",
    "plus(2)"
   ]
  },
  {
   "cell_type": "code",
   "execution_count": 7,
   "id": "ccc328d5",
   "metadata": {},
   "outputs": [
    {
     "ename": "TypeError",
     "evalue": "plus() takes 2 positional arguments but 3 were given",
     "output_type": "error",
     "traceback": [
      "\u001b[1;31m---------------------------------------------------------------------------\u001b[0m",
      "\u001b[1;31mTypeError\u001b[0m                                 Traceback (most recent call last)",
      "\u001b[1;32m<ipython-input-7-76dcbbdd0df7>\u001b[0m in \u001b[0;36m<module>\u001b[1;34m\u001b[0m\n\u001b[0;32m      4\u001b[0m     \u001b[0mprint\u001b[0m\u001b[1;33m(\u001b[0m\u001b[1;34m\"The sum of {} + {} is = {}\"\u001b[0m\u001b[1;33m.\u001b[0m\u001b[0mformat\u001b[0m\u001b[1;33m(\u001b[0m\u001b[0mx\u001b[0m\u001b[1;33m,\u001b[0m\u001b[0my\u001b[0m\u001b[1;33m,\u001b[0m\u001b[0mresult\u001b[0m\u001b[1;33m)\u001b[0m\u001b[1;33m)\u001b[0m\u001b[1;33m\u001b[0m\u001b[1;33m\u001b[0m\u001b[0m\n\u001b[0;32m      5\u001b[0m \u001b[1;33m\u001b[0m\u001b[0m\n\u001b[1;32m----> 6\u001b[1;33m \u001b[0mplus\u001b[0m\u001b[1;33m(\u001b[0m\u001b[1;36m2\u001b[0m\u001b[1;33m,\u001b[0m\u001b[1;36m5\u001b[0m\u001b[1;33m,\u001b[0m\u001b[1;36m7\u001b[0m\u001b[1;33m)\u001b[0m\u001b[1;33m\u001b[0m\u001b[1;33m\u001b[0m\u001b[0m\n\u001b[0m",
      "\u001b[1;31mTypeError\u001b[0m: plus() takes 2 positional arguments but 3 were given"
     ]
    }
   ],
   "source": [
    "# This function expects 2 parameters, and gets 3 argument, so there will be an error\n",
    "def plus(x,y):\n",
    "    result = x + y\n",
    "    print(\"The sum of {} + {} is = {}\".format(x,y,result))\n",
    "\n",
    "plus(2,5,7)"
   ]
  }
 ],
 "metadata": {
  "kernelspec": {
   "display_name": "Python 3",
   "language": "python",
   "name": "python3"
  },
  "language_info": {
   "codemirror_mode": {
    "name": "ipython",
    "version": 3
   },
   "file_extension": ".py",
   "mimetype": "text/x-python",
   "name": "python",
   "nbconvert_exporter": "python",
   "pygments_lexer": "ipython3",
   "version": "3.8.8"
  }
 },
 "nbformat": 4,
 "nbformat_minor": 5
}
