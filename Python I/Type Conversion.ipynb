{
 "cells": [
  {
   "cell_type": "markdown",
   "id": "b9ef66a8",
   "metadata": {},
   "source": [
    "## Type Conversion in Python\n",
    "\n",
    "Type conversion functions to directly convert one data type to another.\n",
    "\n",
    "There are two types of Type Conversion in Python:\n",
    "1. Implicit Type Conversion\n",
    "2. Explicit Type Conversion\n",
    "\n",
    "### Implicit Type Conversion\n",
    "Automatically converts one data type to another without any user involvement."
   ]
  },
  {
   "cell_type": "code",
   "execution_count": 3,
   "id": "b6c80af4",
   "metadata": {},
   "outputs": [],
   "source": [
    "i = 10\n",
    "j = 10.0"
   ]
  },
  {
   "cell_type": "code",
   "execution_count": 2,
   "id": "79329777",
   "metadata": {},
   "outputs": [
    {
     "data": {
      "text/plain": [
       "int"
      ]
     },
     "execution_count": 2,
     "metadata": {},
     "output_type": "execute_result"
    }
   ],
   "source": [
    "type(i)"
   ]
  },
  {
   "cell_type": "code",
   "execution_count": 4,
   "id": "9d2a4cba",
   "metadata": {
    "scrolled": true
   },
   "outputs": [
    {
     "data": {
      "text/plain": [
       "float"
      ]
     },
     "execution_count": 4,
     "metadata": {},
     "output_type": "execute_result"
    }
   ],
   "source": [
    "type(j)"
   ]
  },
  {
   "cell_type": "markdown",
   "id": "a66e7bba",
   "metadata": {},
   "source": [
    "### Explicit Type Conversion\n",
    "In explicit type conversion, the data type is manually changed by the user as per their requirement."
   ]
  },
  {
   "cell_type": "code",
   "execution_count": 5,
   "id": "c03df87f",
   "metadata": {},
   "outputs": [],
   "source": [
    "num = 10"
   ]
  },
  {
   "cell_type": "code",
   "execution_count": 6,
   "id": "2de3a108",
   "metadata": {},
   "outputs": [
    {
     "data": {
      "text/plain": [
       "int"
      ]
     },
     "execution_count": 6,
     "metadata": {},
     "output_type": "execute_result"
    }
   ],
   "source": [
    "type(num)"
   ]
  },
  {
   "cell_type": "code",
   "execution_count": 7,
   "id": "1af2e7c0",
   "metadata": {},
   "outputs": [],
   "source": [
    "num = float(10)"
   ]
  },
  {
   "cell_type": "code",
   "execution_count": 8,
   "id": "34f5003e",
   "metadata": {},
   "outputs": [
    {
     "data": {
      "text/plain": [
       "float"
      ]
     },
     "execution_count": 8,
     "metadata": {},
     "output_type": "execute_result"
    }
   ],
   "source": [
    "type(num)"
   ]
  },
  {
   "cell_type": "markdown",
   "id": "87ff8b21",
   "metadata": {},
   "source": [
    "#### Exercises"
   ]
  },
  {
   "cell_type": "code",
   "execution_count": 8,
   "id": "b9012c9c",
   "metadata": {},
   "outputs": [
    {
     "data": {
      "text/plain": [
       "float"
      ]
     },
     "execution_count": 8,
     "metadata": {},
     "output_type": "execute_result"
    }
   ],
   "source": [
    "type(5.2)"
   ]
  },
  {
   "cell_type": "code",
   "execution_count": 9,
   "id": "62bf0d23",
   "metadata": {},
   "outputs": [
    {
     "data": {
      "text/plain": [
       "5"
      ]
     },
     "execution_count": 9,
     "metadata": {},
     "output_type": "execute_result"
    }
   ],
   "source": [
    "int(5.2)"
   ]
  },
  {
   "cell_type": "code",
   "execution_count": 11,
   "id": "53b8318f",
   "metadata": {},
   "outputs": [
    {
     "data": {
      "text/plain": [
       "int"
      ]
     },
     "execution_count": 11,
     "metadata": {},
     "output_type": "execute_result"
    }
   ],
   "source": [
    "type(int(5.5))"
   ]
  },
  {
   "cell_type": "code",
   "execution_count": 12,
   "id": "a7c7aecf",
   "metadata": {},
   "outputs": [],
   "source": [
    "i = 5"
   ]
  },
  {
   "cell_type": "code",
   "execution_count": 18,
   "id": "e4dffa34",
   "metadata": {},
   "outputs": [
    {
     "data": {
      "text/plain": [
       "int"
      ]
     },
     "execution_count": 18,
     "metadata": {},
     "output_type": "execute_result"
    }
   ],
   "source": [
    "type(i)"
   ]
  },
  {
   "cell_type": "code",
   "execution_count": 13,
   "id": "647cb553",
   "metadata": {},
   "outputs": [
    {
     "data": {
      "text/plain": [
       "5.0"
      ]
     },
     "execution_count": 13,
     "metadata": {},
     "output_type": "execute_result"
    }
   ],
   "source": [
    "float(i)"
   ]
  },
  {
   "cell_type": "code",
   "execution_count": 14,
   "id": "77444d12",
   "metadata": {},
   "outputs": [
    {
     "name": "stdout",
     "output_type": "stream",
     "text": [
      "<class 'float'>\n"
     ]
    }
   ],
   "source": [
    "print(type(float(i)))"
   ]
  },
  {
   "cell_type": "code",
   "execution_count": 15,
   "id": "706a0272",
   "metadata": {},
   "outputs": [],
   "source": [
    "j = 10.0"
   ]
  },
  {
   "cell_type": "code",
   "execution_count": 19,
   "id": "940d82c6",
   "metadata": {},
   "outputs": [
    {
     "data": {
      "text/plain": [
       "float"
      ]
     },
     "execution_count": 19,
     "metadata": {},
     "output_type": "execute_result"
    }
   ],
   "source": [
    "type(j)"
   ]
  },
  {
   "cell_type": "code",
   "execution_count": 16,
   "id": "ef0494b5",
   "metadata": {},
   "outputs": [
    {
     "data": {
      "text/plain": [
       "10"
      ]
     },
     "execution_count": 16,
     "metadata": {},
     "output_type": "execute_result"
    }
   ],
   "source": [
    "int(j)"
   ]
  },
  {
   "cell_type": "code",
   "execution_count": 17,
   "id": "9f21496b",
   "metadata": {},
   "outputs": [
    {
     "name": "stdout",
     "output_type": "stream",
     "text": [
      "<class 'int'>\n"
     ]
    }
   ],
   "source": [
    "print(type(int(j)))"
   ]
  }
 ],
 "metadata": {
  "kernelspec": {
   "display_name": "Python 3 (ipykernel)",
   "language": "python",
   "name": "python3"
  },
  "language_info": {
   "codemirror_mode": {
    "name": "ipython",
    "version": 3
   },
   "file_extension": ".py",
   "mimetype": "text/x-python",
   "name": "python",
   "nbconvert_exporter": "python",
   "pygments_lexer": "ipython3",
   "version": "3.9.12"
  }
 },
 "nbformat": 4,
 "nbformat_minor": 5
}
