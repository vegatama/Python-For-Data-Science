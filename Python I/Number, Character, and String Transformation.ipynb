{
 "cells": [
  {
   "cell_type": "markdown",
   "id": "7adb19e7",
   "metadata": {},
   "source": [
    "## Uppercase\n",
    "The upper() method on a string converts all of the characters to uppercase."
   ]
  },
  {
   "cell_type": "code",
   "execution_count": 2,
   "id": "26663b7b",
   "metadata": {},
   "outputs": [],
   "source": [
    "name = \"Dwayne Rock Johnson\""
   ]
  },
  {
   "cell_type": "code",
   "execution_count": 3,
   "id": "60f91a04",
   "metadata": {},
   "outputs": [
    {
     "data": {
      "text/plain": [
       "'DWAYNE ROCK JOHNSON'"
      ]
     },
     "execution_count": 3,
     "metadata": {},
     "output_type": "execute_result"
    }
   ],
   "source": [
    "name.upper()"
   ]
  },
  {
   "cell_type": "markdown",
   "id": "8d5612cd",
   "metadata": {},
   "source": [
    "## Uppercase\n",
    "The lower() method on a string converts all of the characters to lowercase."
   ]
  },
  {
   "cell_type": "code",
   "execution_count": 4,
   "id": "877dc335",
   "metadata": {},
   "outputs": [
    {
     "data": {
      "text/plain": [
       "'dwayne rock johnson'"
      ]
     },
     "execution_count": 4,
     "metadata": {},
     "output_type": "execute_result"
    }
   ],
   "source": [
    "name.lower()"
   ]
  },
  {
   "cell_type": "markdown",
   "id": "709cf7e8",
   "metadata": {},
   "source": [
    "What will happen if there's numbers inside the string?"
   ]
  },
  {
   "cell_type": "code",
   "execution_count": 5,
   "id": "d5852a4d",
   "metadata": {},
   "outputs": [],
   "source": [
    "name = \"Dwayne Rock Johnson 2022\""
   ]
  },
  {
   "cell_type": "code",
   "execution_count": 6,
   "id": "27d36abc",
   "metadata": {},
   "outputs": [
    {
     "data": {
      "text/plain": [
       "'DWAYNE ROCK JOHNSON 2022'"
      ]
     },
     "execution_count": 6,
     "metadata": {},
     "output_type": "execute_result"
    }
   ],
   "source": [
    "name.upper()"
   ]
  },
  {
   "cell_type": "markdown",
   "id": "ee7567d2",
   "metadata": {},
   "source": [
    "The script will still run!"
   ]
  },
  {
   "cell_type": "markdown",
   "id": "c72cfd57",
   "metadata": {},
   "source": [
    "## Python Trim String - rstrip(), lstrip(), strip()\n",
    "\n",
    "### Right Strip | rstrip()\n",
    "The rstrip() method used to remove white spaces from “right” side of the string."
   ]
  },
  {
   "cell_type": "code",
   "execution_count": 7,
   "id": "e4efea68",
   "metadata": {},
   "outputs": [],
   "source": [
    "name = \"Azkia  \""
   ]
  },
  {
   "cell_type": "code",
   "execution_count": 8,
   "id": "1c2911d5",
   "metadata": {},
   "outputs": [
    {
     "data": {
      "text/plain": [
       "'Azkia'"
      ]
     },
     "execution_count": 8,
     "metadata": {},
     "output_type": "execute_result"
    }
   ],
   "source": [
    "name.rstrip()"
   ]
  },
  {
   "cell_type": "markdown",
   "id": "c1fb4470",
   "metadata": {},
   "source": [
    "### Left Strip | lstrip()\n",
    "The lstrip() method used to remove white spaces from “left” side of the string."
   ]
  },
  {
   "cell_type": "code",
   "execution_count": 9,
   "id": "b4a96125",
   "metadata": {},
   "outputs": [],
   "source": [
    "name = \"  Azkia\""
   ]
  },
  {
   "cell_type": "code",
   "execution_count": 10,
   "id": "b9a394eb",
   "metadata": {},
   "outputs": [
    {
     "data": {
      "text/plain": [
       "'Azkia'"
      ]
     },
     "execution_count": 10,
     "metadata": {},
     "output_type": "execute_result"
    }
   ],
   "source": [
    "name.lstrip()"
   ]
  },
  {
   "cell_type": "markdown",
   "id": "04dab3bc",
   "metadata": {},
   "source": [
    "### Strip | strip()\n",
    "The strip() method used to remove any leading and trailing whitespaces including tabs (\\t)."
   ]
  },
  {
   "cell_type": "code",
   "execution_count": 11,
   "id": "dce337ac",
   "metadata": {},
   "outputs": [],
   "source": [
    "name = \"  Azkia  \""
   ]
  },
  {
   "cell_type": "code",
   "execution_count": 12,
   "id": "2f7449b9",
   "metadata": {},
   "outputs": [
    {
     "data": {
      "text/plain": [
       "'Azkia'"
      ]
     },
     "execution_count": 12,
     "metadata": {},
     "output_type": "execute_result"
    }
   ],
   "source": [
    "name.strip()"
   ]
  },
  {
   "cell_type": "markdown",
   "id": "512f4ef1",
   "metadata": {},
   "source": [
    "You can also input a parameter to remove any leading characters with the same input if it's not beside of a whitespace."
   ]
  },
  {
   "cell_type": "code",
   "execution_count": 14,
   "id": "4f39dce1",
   "metadata": {},
   "outputs": [],
   "source": [
    "name = \" AzkiaRahmahAzkia\""
   ]
  },
  {
   "cell_type": "code",
   "execution_count": 15,
   "id": "71c57f92",
   "metadata": {},
   "outputs": [
    {
     "data": {
      "text/plain": [
       "' AzkiaRahmah'"
      ]
     },
     "execution_count": 15,
     "metadata": {},
     "output_type": "execute_result"
    }
   ],
   "source": [
    "name.strip(\"Azkia\")"
   ]
  },
  {
   "cell_type": "code",
   "execution_count": 16,
   "id": "76a72bc2",
   "metadata": {},
   "outputs": [],
   "source": [
    "name = \"AzkiaRahmahAzkia\""
   ]
  },
  {
   "cell_type": "code",
   "execution_count": 17,
   "id": "552eb522",
   "metadata": {},
   "outputs": [
    {
     "data": {
      "text/plain": [
       "'Rahmah'"
      ]
     },
     "execution_count": 17,
     "metadata": {},
     "output_type": "execute_result"
    }
   ],
   "source": [
    "name.strip(\"Azkia\")"
   ]
  },
  {
   "cell_type": "markdown",
   "id": "a7f22340",
   "metadata": {},
   "source": [
    "## Startswith\n",
    "The startswith() method returns True if the string starts with the specified value, otherwise False.\n",
    "\n",
    "Syntax:"
   ]
  },
  {
   "cell_type": "code",
   "execution_count": null,
   "id": "3b8e07fc",
   "metadata": {},
   "outputs": [],
   "source": [
    "string.startswith(value, start, end)"
   ]
  },
  {
   "cell_type": "code",
   "execution_count": 18,
   "id": "74f73100",
   "metadata": {},
   "outputs": [],
   "source": [
    "i = \"Data Science\""
   ]
  },
  {
   "cell_type": "code",
   "execution_count": 19,
   "id": "ea923c4e",
   "metadata": {},
   "outputs": [
    {
     "data": {
      "text/plain": [
       "False"
      ]
     },
     "execution_count": 19,
     "metadata": {},
     "output_type": "execute_result"
    }
   ],
   "source": [
    "i.startswith(\"Science\")"
   ]
  },
  {
   "cell_type": "code",
   "execution_count": 20,
   "id": "22c6b0a3",
   "metadata": {},
   "outputs": [],
   "source": [
    "j = \"Data Science Track\""
   ]
  },
  {
   "cell_type": "code",
   "execution_count": 21,
   "id": "41d3a2a5",
   "metadata": {},
   "outputs": [
    {
     "data": {
      "text/plain": [
       "True"
      ]
     },
     "execution_count": 21,
     "metadata": {},
     "output_type": "execute_result"
    }
   ],
   "source": [
    "j.startswith(\"Data\")"
   ]
  },
  {
   "cell_type": "code",
   "execution_count": 5,
   "id": "4ba5abde",
   "metadata": {
    "scrolled": true
   },
   "outputs": [
    {
     "data": {
      "text/plain": [
       "True"
      ]
     },
     "execution_count": 5,
     "metadata": {},
     "output_type": "execute_result"
    }
   ],
   "source": [
    "j.startswith(\"Data Science\")"
   ]
  },
  {
   "cell_type": "code",
   "execution_count": 6,
   "id": "087a2b55",
   "metadata": {},
   "outputs": [
    {
     "data": {
      "text/plain": [
       "False"
      ]
     },
     "execution_count": 6,
     "metadata": {},
     "output_type": "execute_result"
    }
   ],
   "source": [
    "j.startswith(\"Track\")"
   ]
  },
  {
   "cell_type": "markdown",
   "id": "b5bae105",
   "metadata": {},
   "source": [
    "## Endswith\n",
    "The startswith() method returns True if the string ends with the specified value, otherwise False.\n",
    "\n",
    "Syntax:"
   ]
  },
  {
   "cell_type": "code",
   "execution_count": null,
   "id": "5c106086",
   "metadata": {},
   "outputs": [],
   "source": [
    "string.endswith(value, start, end)"
   ]
  },
  {
   "cell_type": "code",
   "execution_count": 20,
   "id": "1f95216d",
   "metadata": {},
   "outputs": [],
   "source": [
    "j = \"Data Science Track\""
   ]
  },
  {
   "cell_type": "code",
   "execution_count": 23,
   "id": "b1e1dae1",
   "metadata": {},
   "outputs": [
    {
     "data": {
      "text/plain": [
       "True"
      ]
     },
     "execution_count": 23,
     "metadata": {},
     "output_type": "execute_result"
    }
   ],
   "source": [
    "j.endswith(\"Track\")"
   ]
  }
 ],
 "metadata": {
  "kernelspec": {
   "display_name": "Python 3 (ipykernel)",
   "language": "python",
   "name": "python3"
  },
  "language_info": {
   "codemirror_mode": {
    "name": "ipython",
    "version": 3
   },
   "file_extension": ".py",
   "mimetype": "text/x-python",
   "name": "python",
   "nbconvert_exporter": "python",
   "pygments_lexer": "ipython3",
   "version": "3.9.12"
  }
 },
 "nbformat": 4,
 "nbformat_minor": 5
}
