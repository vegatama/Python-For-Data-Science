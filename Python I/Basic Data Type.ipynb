{
 "cells": [
  {
   "cell_type": "markdown",
   "id": "03bfdfa3",
   "metadata": {},
   "source": [
    "# Python Basic Data Type\n",
    "Python has three basic data types:\n",
    "1. Numeric\n",
    "2. String\n",
    "3. Boolean\n",
    "\n",
    "There are three types of numeric:\n",
    "1. Integers\n",
    "2. Floating-point numbers\n",
    "3. Complex numbers"
   ]
  },
  {
   "cell_type": "markdown",
   "id": "b923c917",
   "metadata": {},
   "source": [
    "## Numeric Data Types\n",
    "### Integers\n",
    "An integer is a whole number with no decimal places. For example, 10 is an integer, but 10.0 isn’t. The name for the integer data type is **int**, which you can see with type():"
   ]
  },
  {
   "cell_type": "code",
   "execution_count": 5,
   "id": "98488ece",
   "metadata": {
    "scrolled": true
   },
   "outputs": [
    {
     "data": {
      "text/plain": [
       "int"
      ]
     },
     "execution_count": 5,
     "metadata": {},
     "output_type": "execute_result"
    }
   ],
   "source": [
    "type(10)"
   ]
  },
  {
   "cell_type": "markdown",
   "id": "aef28dd8",
   "metadata": {},
   "source": [
    "You can create an integer by typing the desired number. For instance, the following assigns the integer 25 to the variable number:"
   ]
  },
  {
   "cell_type": "code",
   "execution_count": 7,
   "id": "a8efbf4c",
   "metadata": {},
   "outputs": [],
   "source": [
    "number = 10"
   ]
  },
  {
   "cell_type": "code",
   "execution_count": 8,
   "id": "a574fc7b",
   "metadata": {},
   "outputs": [
    {
     "data": {
      "text/plain": [
       "int"
      ]
     },
     "execution_count": 8,
     "metadata": {},
     "output_type": "execute_result"
    }
   ],
   "source": [
    "type(number)"
   ]
  },
  {
   "cell_type": "markdown",
   "id": "4484f1b0",
   "metadata": {},
   "source": [
    "When you create an integer like this, the value 25 is called an **integer literal** because the integer is literally typed into the code."
   ]
  },
  {
   "cell_type": "markdown",
   "id": "482f0049",
   "metadata": {},
   "source": [
    "### Floating-Point Numbers\n",
    "A floating-point number, or float, is a number with a decimal place. 10.0 is a floating-point number, as is -0.25. The name of the floating-point data type is float."
   ]
  },
  {
   "cell_type": "code",
   "execution_count": 11,
   "id": "d94b5c78",
   "metadata": {},
   "outputs": [
    {
     "data": {
      "text/plain": [
       "float"
      ]
     },
     "execution_count": 11,
     "metadata": {},
     "output_type": "execute_result"
    }
   ],
   "source": [
    "type(10.0)"
   ]
  },
  {
   "cell_type": "code",
   "execution_count": 12,
   "id": "1c35528b",
   "metadata": {},
   "outputs": [],
   "source": [
    "number = 10.0"
   ]
  },
  {
   "cell_type": "code",
   "execution_count": 13,
   "id": "636eb6df",
   "metadata": {},
   "outputs": [
    {
     "data": {
      "text/plain": [
       "float"
      ]
     },
     "execution_count": 13,
     "metadata": {},
     "output_type": "execute_result"
    }
   ],
   "source": [
    "type(number)"
   ]
  },
  {
   "cell_type": "markdown",
   "id": "99bf9475",
   "metadata": {},
   "source": [
    "### Complex Numbers\n",
    "The complex data type in python consists of two values, the real part of the complex number and the imaginary part of the complex number. We usually denote the real part using i and the imaginary part with j."
   ]
  },
  {
   "cell_type": "code",
   "execution_count": 14,
   "id": "1e2e40f6",
   "metadata": {},
   "outputs": [
    {
     "data": {
      "text/plain": [
       "complex"
      ]
     },
     "execution_count": 14,
     "metadata": {},
     "output_type": "execute_result"
    }
   ],
   "source": [
    "type(1 + 2j)"
   ]
  },
  {
   "cell_type": "code",
   "execution_count": 15,
   "id": "741049ef",
   "metadata": {},
   "outputs": [],
   "source": [
    "c = 1 + 2j"
   ]
  },
  {
   "cell_type": "code",
   "execution_count": 16,
   "id": "78404f70",
   "metadata": {},
   "outputs": [
    {
     "data": {
      "text/plain": [
       "complex"
      ]
     },
     "execution_count": 16,
     "metadata": {},
     "output_type": "execute_result"
    }
   ],
   "source": [
    "type(c)"
   ]
  },
  {
   "cell_type": "markdown",
   "id": "2972a987",
   "metadata": {},
   "source": [
    "## String Data Type\n",
    "A string is an array data structure of words (or bytes) that stores a sequence of elements, typically alphabets, words or other characters. "
   ]
  },
  {
   "cell_type": "markdown",
   "id": "6c54db30",
   "metadata": {},
   "source": [
    "Strings in python are surrounded by either single quotation marks, or double quotation marks.\n",
    "\n",
    "\"Hello, World!\" is the same as 'hello, world!'\n",
    "\n",
    "You can display it with the print() function:"
   ]
  },
  {
   "cell_type": "code",
   "execution_count": 21,
   "id": "5d175bd4",
   "metadata": {},
   "outputs": [
    {
     "name": "stdout",
     "output_type": "stream",
     "text": [
      "Hello, World!\n"
     ]
    }
   ],
   "source": [
    "print(\"Hello, World!\")"
   ]
  },
  {
   "cell_type": "code",
   "execution_count": 24,
   "id": "198f2125",
   "metadata": {},
   "outputs": [
    {
     "name": "stdout",
     "output_type": "stream",
     "text": [
      "Hello, World!\n"
     ]
    }
   ],
   "source": [
    "print('Hello, World!')"
   ]
  },
  {
   "cell_type": "markdown",
   "id": "f4e57651",
   "metadata": {},
   "source": [
    "### Assign String to a Variable\n",
    "Assigning a string to a variable is done with the variable name followed by an equal sign and the string:"
   ]
  },
  {
   "cell_type": "code",
   "execution_count": 25,
   "id": "a24f288d",
   "metadata": {},
   "outputs": [],
   "source": [
    "i = \"Hello, World!\""
   ]
  },
  {
   "cell_type": "code",
   "execution_count": 19,
   "id": "6920a592",
   "metadata": {},
   "outputs": [
    {
     "name": "stdout",
     "output_type": "stream",
     "text": [
      "Hello, World!\n"
     ]
    }
   ],
   "source": [
    "print(i)"
   ]
  },
  {
   "cell_type": "markdown",
   "id": "9ebf3586",
   "metadata": {},
   "source": [
    "### Multiline Strings\n",
    "A multiline string is done by using three quotes:"
   ]
  },
  {
   "cell_type": "code",
   "execution_count": 26,
   "id": "f358e164",
   "metadata": {},
   "outputs": [],
   "source": [
    "i = \"\"\"We're studying\n",
    "Data Science\n",
    "at MyEduSolve\"\"\""
   ]
  },
  {
   "cell_type": "code",
   "execution_count": 27,
   "id": "9d2954e2",
   "metadata": {
    "scrolled": true
   },
   "outputs": [
    {
     "name": "stdout",
     "output_type": "stream",
     "text": [
      "We're studying\n",
      "Data Science\n",
      "at MyEduSolve\n"
     ]
    }
   ],
   "source": [
    "print(i)"
   ]
  },
  {
   "cell_type": "markdown",
   "id": "cc2557bd",
   "metadata": {},
   "source": [
    "Or three single quotes:"
   ]
  },
  {
   "cell_type": "code",
   "execution_count": 28,
   "id": "4b3d69ba",
   "metadata": {},
   "outputs": [],
   "source": [
    "i = '''We're studying\n",
    "Data Science\n",
    "at MyEduSolve'''"
   ]
  },
  {
   "cell_type": "code",
   "execution_count": 29,
   "id": "205f0a46",
   "metadata": {
    "scrolled": true
   },
   "outputs": [
    {
     "name": "stdout",
     "output_type": "stream",
     "text": [
      "We're studying\n",
      "Data Science\n",
      "at MyEduSolve\n"
     ]
    }
   ],
   "source": [
    "print(i)"
   ]
  },
  {
   "cell_type": "markdown",
   "id": "fe1a09a1",
   "metadata": {},
   "source": [
    "It can also be done by using **\\n**:"
   ]
  },
  {
   "cell_type": "code",
   "execution_count": 30,
   "id": "a48deb48",
   "metadata": {},
   "outputs": [],
   "source": [
    "j = \"We're studying\\nData Science\\nat MyEduSolve\""
   ]
  },
  {
   "cell_type": "code",
   "execution_count": 32,
   "id": "4b13e6fb",
   "metadata": {},
   "outputs": [
    {
     "name": "stdout",
     "output_type": "stream",
     "text": [
      "We're studying\n",
      "Data Science\n",
      "at MyEduSolve\n"
     ]
    }
   ],
   "source": [
    "print(i)"
   ]
  },
  {
   "cell_type": "markdown",
   "id": "b90f5ecf",
   "metadata": {},
   "source": [
    "## Boolean\n",
    "Boolean refers to a system of logical thought that is used to create true/false\n",
    "statements.\n",
    "When you compare two values, the expression is evaluated and will be returned with the Boolean answer:"
   ]
  },
  {
   "cell_type": "code",
   "execution_count": 33,
   "id": "859b1e8b",
   "metadata": {},
   "outputs": [
    {
     "data": {
      "text/plain": [
       "True"
      ]
     },
     "execution_count": 33,
     "metadata": {},
     "output_type": "execute_result"
    }
   ],
   "source": [
    "2 <= 2"
   ]
  },
  {
   "cell_type": "code",
   "execution_count": 34,
   "id": "30f50fd7",
   "metadata": {},
   "outputs": [
    {
     "data": {
      "text/plain": [
       "False"
      ]
     },
     "execution_count": 34,
     "metadata": {},
     "output_type": "execute_result"
    }
   ],
   "source": [
    "2 < 2"
   ]
  },
  {
   "cell_type": "code",
   "execution_count": 35,
   "id": "0ea87608",
   "metadata": {},
   "outputs": [
    {
     "data": {
      "text/plain": [
       "False"
      ]
     },
     "execution_count": 35,
     "metadata": {},
     "output_type": "execute_result"
    }
   ],
   "source": [
    "4 == 8"
   ]
  },
  {
   "cell_type": "code",
   "execution_count": 51,
   "id": "a1852d76",
   "metadata": {},
   "outputs": [
    {
     "data": {
      "text/plain": [
       "True"
      ]
     },
     "execution_count": 51,
     "metadata": {},
     "output_type": "execute_result"
    }
   ],
   "source": [
    "100 <= 100"
   ]
  }
 ],
 "metadata": {
  "kernelspec": {
   "display_name": "Python 3 (ipykernel)",
   "language": "python",
   "name": "python3"
  },
  "language_info": {
   "codemirror_mode": {
    "name": "ipython",
    "version": 3
   },
   "file_extension": ".py",
   "mimetype": "text/x-python",
   "name": "python",
   "nbconvert_exporter": "python",
   "pygments_lexer": "ipython3",
   "version": "3.9.12"
  }
 },
 "nbformat": 4,
 "nbformat_minor": 5
}
