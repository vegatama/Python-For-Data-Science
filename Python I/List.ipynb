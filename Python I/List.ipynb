{
 "cells": [
  {
   "cell_type": "markdown",
   "id": "a0f43852",
   "metadata": {},
   "source": [
    "# Python Lists\n",
    "Lists are used to store multiple items in a single variable. It's created using square brackets:"
   ]
  },
  {
   "cell_type": "code",
   "execution_count": 2,
   "id": "af9b84e7",
   "metadata": {},
   "outputs": [],
   "source": [
    "a = [1, 11.2, \"a list\"]"
   ]
  },
  {
   "cell_type": "markdown",
   "id": "45944262",
   "metadata": {},
   "source": [
    "Lists are defined as objects with the data type 'list':"
   ]
  },
  {
   "cell_type": "code",
   "execution_count": 8,
   "id": "892b27d7",
   "metadata": {},
   "outputs": [
    {
     "data": {
      "text/plain": [
       "list"
      ]
     },
     "execution_count": 8,
     "metadata": {},
     "output_type": "execute_result"
    }
   ],
   "source": [
    "type(a)"
   ]
  },
  {
   "cell_type": "markdown",
   "id": "8b83cf39",
   "metadata": {},
   "source": [
    "* List items are ordered, changeable, and allow duplicate values.\n",
    "\n",
    "* The first item has index [0], the second item has index [1] etc.\n",
    "\n",
    "## Access Items\n",
    "To access items, refer to the index number:"
   ]
  },
  {
   "cell_type": "code",
   "execution_count": 3,
   "id": "607b8830",
   "metadata": {},
   "outputs": [
    {
     "data": {
      "text/plain": [
       "1"
      ]
     },
     "execution_count": 3,
     "metadata": {},
     "output_type": "execute_result"
    }
   ],
   "source": [
    "a[0]"
   ]
  },
  {
   "cell_type": "code",
   "execution_count": 9,
   "id": "477bd3e8",
   "metadata": {},
   "outputs": [
    {
     "data": {
      "text/plain": [
       "'a list'"
      ]
     },
     "execution_count": 9,
     "metadata": {},
     "output_type": "execute_result"
    }
   ],
   "source": [
    "a[2]"
   ]
  },
  {
   "cell_type": "markdown",
   "id": "40046a5f",
   "metadata": {},
   "source": [
    "## Negative Indexing\n",
    "Negative indexing means the index start from the end.\n",
    "* -1 refers to the last item\n",
    "* -2 refers to the second last item etc."
   ]
  },
  {
   "cell_type": "code",
   "execution_count": 4,
   "id": "06fd2d57",
   "metadata": {},
   "outputs": [
    {
     "data": {
      "text/plain": [
       "'a list'"
      ]
     },
     "execution_count": 4,
     "metadata": {},
     "output_type": "execute_result"
    }
   ],
   "source": [
    "a[-1]"
   ]
  },
  {
   "cell_type": "code",
   "execution_count": 5,
   "id": "d015b49c",
   "metadata": {},
   "outputs": [
    {
     "data": {
      "text/plain": [
       "int"
      ]
     },
     "execution_count": 5,
     "metadata": {},
     "output_type": "execute_result"
    }
   ],
   "source": [
    "type(a[0])"
   ]
  },
  {
   "cell_type": "markdown",
   "id": "fcf70a88",
   "metadata": {},
   "source": [
    "## Range of Indexes\n",
    "To specify a range of indexes you can specify where to start and where to end the range of indexes."
   ]
  },
  {
   "cell_type": "code",
   "execution_count": 13,
   "id": "a7f8d4a7",
   "metadata": {},
   "outputs": [],
   "source": [
    "data = [9, 20.22, \"Azkia\", \"Nabila\", \"Arnes\", \"Vega\", \"Arini\"]"
   ]
  },
  {
   "cell_type": "code",
   "execution_count": 16,
   "id": "472dc5b0",
   "metadata": {},
   "outputs": [
    {
     "data": {
      "text/plain": [
       "[9, 20.22]"
      ]
     },
     "execution_count": 16,
     "metadata": {},
     "output_type": "execute_result"
    }
   ],
   "source": [
    "data[0:2]"
   ]
  },
  {
   "cell_type": "markdown",
   "id": "1f9ebf83",
   "metadata": {},
   "source": [
    "The range will start at index 0 (included) and end at index 2, which is not included. It can be described like this:\n",
    "#### list[start:(end-1)]"
   ]
  },
  {
   "cell_type": "markdown",
   "id": "17bf4377",
   "metadata": {},
   "source": [
    "By leaving out the start value, the range will start at the first item:"
   ]
  },
  {
   "cell_type": "code",
   "execution_count": 14,
   "id": "1faa29ed",
   "metadata": {},
   "outputs": [
    {
     "data": {
      "text/plain": [
       "[9, 20.22, 'Azkia', 'Nabila']"
      ]
     },
     "execution_count": 14,
     "metadata": {},
     "output_type": "execute_result"
    }
   ],
   "source": [
    "data[:4]"
   ]
  },
  {
   "cell_type": "markdown",
   "id": "c100a74d",
   "metadata": {},
   "source": [
    "By leaving out the end value, the range will go on to the end of the list:\n",
    "\n"
   ]
  },
  {
   "cell_type": "code",
   "execution_count": 15,
   "id": "c3250f05",
   "metadata": {},
   "outputs": [
    {
     "data": {
      "text/plain": [
       "['Nabila', 'Arnes', 'Vega', 'Arini']"
      ]
     },
     "execution_count": 15,
     "metadata": {},
     "output_type": "execute_result"
    }
   ],
   "source": [
    "data[3:]"
   ]
  },
  {
   "cell_type": "markdown",
   "id": "df321ac8",
   "metadata": {},
   "source": [
    "## Step (Slicing a List)\n",
    "If num is a list, the expression **num[ start : stop : step ]** returns the portion of the list from index start to index stop, at a step size step."
   ]
  },
  {
   "cell_type": "code",
   "execution_count": 11,
   "id": "d2268526",
   "metadata": {},
   "outputs": [],
   "source": [
    "num = [5, 6, 7, 8, 9, 10, 11, 12, 13, 14, 15, 16, 17, 18, 19, 20]"
   ]
  },
  {
   "cell_type": "code",
   "execution_count": 12,
   "id": "22c2fd03",
   "metadata": {},
   "outputs": [
    {
     "data": {
      "text/plain": [
       "[5, 6, 7, 8, 9, 10, 11, 12, 13, 14, 15]"
      ]
     },
     "execution_count": 12,
     "metadata": {},
     "output_type": "execute_result"
    }
   ],
   "source": [
    "num[0:11]"
   ]
  },
  {
   "cell_type": "code",
   "execution_count": 13,
   "id": "209adcfc",
   "metadata": {},
   "outputs": [
    {
     "data": {
      "text/plain": [
       "[5, 7, 9, 11, 13, 15, 17, 19]"
      ]
     },
     "execution_count": 13,
     "metadata": {},
     "output_type": "execute_result"
    }
   ],
   "source": [
    "num[0:16:2]"
   ]
  },
  {
   "cell_type": "markdown",
   "id": "9b09d13d",
   "metadata": {},
   "source": [
    "## Length of List\n",
    "The len() method to find the length of a list in Python."
   ]
  },
  {
   "cell_type": "code",
   "execution_count": 14,
   "id": "513ce441",
   "metadata": {},
   "outputs": [
    {
     "data": {
      "text/plain": [
       "16"
      ]
     },
     "execution_count": 14,
     "metadata": {},
     "output_type": "execute_result"
    }
   ],
   "source": [
    "len(num)"
   ]
  },
  {
   "cell_type": "markdown",
   "id": "b43efbb3",
   "metadata": {},
   "source": [
    "## Append\n",
    "The append() method appends an element to the end of the list."
   ]
  },
  {
   "cell_type": "code",
   "execution_count": 15,
   "id": "6b037739",
   "metadata": {},
   "outputs": [],
   "source": [
    "num.append(21)"
   ]
  },
  {
   "cell_type": "code",
   "execution_count": 16,
   "id": "6c06c6d0",
   "metadata": {},
   "outputs": [
    {
     "name": "stdout",
     "output_type": "stream",
     "text": [
      "[5, 6, 7, 8, 9, 10, 11, 12, 13, 14, 15, 16, 17, 18, 19, 20, 21]\n"
     ]
    }
   ],
   "source": [
    "print(num)"
   ]
  },
  {
   "cell_type": "code",
   "execution_count": 17,
   "id": "804c826a",
   "metadata": {
    "scrolled": true
   },
   "outputs": [
    {
     "data": {
      "text/plain": [
       "17"
      ]
     },
     "execution_count": 17,
     "metadata": {},
     "output_type": "execute_result"
    }
   ],
   "source": [
    "len(num)"
   ]
  }
 ],
 "metadata": {
  "kernelspec": {
   "display_name": "Python 3 (ipykernel)",
   "language": "python",
   "name": "python3"
  },
  "language_info": {
   "codemirror_mode": {
    "name": "ipython",
    "version": 3
   },
   "file_extension": ".py",
   "mimetype": "text/x-python",
   "name": "python",
   "nbconvert_exporter": "python",
   "pygments_lexer": "ipython3",
   "version": "3.9.12"
  }
 },
 "nbformat": 4,
 "nbformat_minor": 5
}
