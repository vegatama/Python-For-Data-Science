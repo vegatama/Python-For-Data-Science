{
 "cells": [
  {
   "cell_type": "markdown",
   "id": "2e885d19",
   "metadata": {},
   "source": [
    "## Tuple\n",
    "Tuples are used to store multiple items in a single variable. It's ordered, unchangeable, and allow duplicate values.\n",
    "\n",
    "* The first item has index [0]\n",
    "* the second item has index [1] etc.\n",
    "\n",
    "Tuples are written with round brackets."
   ]
  },
  {
   "cell_type": "code",
   "execution_count": 2,
   "id": "1df3b047",
   "metadata": {},
   "outputs": [],
   "source": [
    "a = (2, \"home\", 4.5)"
   ]
  },
  {
   "cell_type": "code",
   "execution_count": 3,
   "id": "e1ffd176",
   "metadata": {},
   "outputs": [
    {
     "name": "stdout",
     "output_type": "stream",
     "text": [
      "home\n"
     ]
    }
   ],
   "source": [
    "print(a[1])"
   ]
  },
  {
   "cell_type": "markdown",
   "id": "eba6b2e4",
   "metadata": {},
   "source": [
    "## Access Tuple Items\n",
    "\n",
    "To access items in a tuple, refer to the index number."
   ]
  },
  {
   "cell_type": "code",
   "execution_count": 6,
   "id": "bdea9e4c",
   "metadata": {},
   "outputs": [
    {
     "name": "stdout",
     "output_type": "stream",
     "text": [
      "2\n"
     ]
    }
   ],
   "source": [
    "print(a[0])"
   ]
  },
  {
   "cell_type": "markdown",
   "id": "3a7bbd1e",
   "metadata": {},
   "source": [
    "## Negative Indexing\n",
    "Negative indexing means start from the end.\n",
    "\n",
    "* -1 refers to the last item\n",
    "* -2 refers to the second last item etc."
   ]
  },
  {
   "cell_type": "code",
   "execution_count": 8,
   "id": "eccf431c",
   "metadata": {},
   "outputs": [
    {
     "name": "stdout",
     "output_type": "stream",
     "text": [
      "4.5\n"
     ]
    }
   ],
   "source": [
    "print(a[-1])"
   ]
  },
  {
   "cell_type": "markdown",
   "id": "5bd3a2c4",
   "metadata": {},
   "source": [
    "## Range of Indexes\n",
    "To create a range of indexes, specify where to start and where to end the range."
   ]
  },
  {
   "cell_type": "code",
   "execution_count": 9,
   "id": "2e8adb37",
   "metadata": {},
   "outputs": [
    {
     "name": "stdout",
     "output_type": "stream",
     "text": [
      "(2, 'home', 4.5)\n"
     ]
    }
   ],
   "source": [
    "print(a[0:3])"
   ]
  },
  {
   "cell_type": "markdown",
   "id": "57b6ba34",
   "metadata": {},
   "source": [
    "## Join Two Tuples\n",
    "To join two or more tuples you can use the + operator:"
   ]
  },
  {
   "cell_type": "code",
   "execution_count": 13,
   "id": "bbd68dbd",
   "metadata": {},
   "outputs": [],
   "source": [
    "i = (1, 2, 3, 4)\n",
    "j = (9, 3, 4, 5)\n",
    "k = (3, 4)"
   ]
  },
  {
   "cell_type": "code",
   "execution_count": 15,
   "id": "a55f53c2",
   "metadata": {},
   "outputs": [],
   "source": [
    "thistuple = i + j + k"
   ]
  },
  {
   "cell_type": "code",
   "execution_count": 17,
   "id": "13d3affe",
   "metadata": {},
   "outputs": [
    {
     "name": "stdout",
     "output_type": "stream",
     "text": [
      "(1, 2, 3, 4, 9, 3, 4, 5, 3, 4)\n"
     ]
    }
   ],
   "source": [
    "print(thistuple)"
   ]
  },
  {
   "cell_type": "markdown",
   "id": "656d7d1a",
   "metadata": {},
   "source": [
    "## Count\n",
    "\n",
    "The count() method returns the number of times a specified value occurs in a tuple."
   ]
  },
  {
   "cell_type": "code",
   "execution_count": 18,
   "id": "db4a3d2d",
   "metadata": {},
   "outputs": [
    {
     "data": {
      "text/plain": [
       "3"
      ]
     },
     "execution_count": 18,
     "metadata": {},
     "output_type": "execute_result"
    }
   ],
   "source": [
    "thistuple.count(3)"
   ]
  }
 ],
 "metadata": {
  "kernelspec": {
   "display_name": "Python 3 (ipykernel)",
   "language": "python",
   "name": "python3"
  },
  "language_info": {
   "codemirror_mode": {
    "name": "ipython",
    "version": 3
   },
   "file_extension": ".py",
   "mimetype": "text/x-python",
   "name": "python",
   "nbconvert_exporter": "python",
   "pygments_lexer": "ipython3",
   "version": "3.9.12"
  }
 },
 "nbformat": 4,
 "nbformat_minor": 5
}
