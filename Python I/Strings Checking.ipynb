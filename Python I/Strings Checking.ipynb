{
 "cells": [
  {
   "cell_type": "markdown",
   "id": "b4883af8",
   "metadata": {},
   "source": [
    "## isupper()\n",
    "This method returns True if all characters in the string are uppercase, otherwise, returns “False”. \n",
    "\n",
    "* It does not take any arguments\n",
    "* If there is only whitespace in the string then returns “False”, otherwise it's \"True\"\n",
    "* If the string contains only digits and numbers then returns “False”, otherwise it's \"True\""
   ]
  },
  {
   "cell_type": "code",
   "execution_count": 2,
   "id": "1f19d995",
   "metadata": {},
   "outputs": [],
   "source": [
    "i = \"Data Science\"\n",
    "j = \"DATA SCIENCE\"\n",
    "k = \"data science\"\n",
    "l = \"Data science\""
   ]
  },
  {
   "cell_type": "code",
   "execution_count": 4,
   "id": "35cc9b06",
   "metadata": {},
   "outputs": [
    {
     "data": {
      "text/plain": [
       "True"
      ]
     },
     "execution_count": 4,
     "metadata": {},
     "output_type": "execute_result"
    }
   ],
   "source": [
    "j.isupper()"
   ]
  },
  {
   "cell_type": "code",
   "execution_count": 3,
   "id": "45406122",
   "metadata": {},
   "outputs": [
    {
     "data": {
      "text/plain": [
       "False"
      ]
     },
     "execution_count": 3,
     "metadata": {},
     "output_type": "execute_result"
    }
   ],
   "source": [
    "i.isupper()"
   ]
  },
  {
   "cell_type": "markdown",
   "id": "c6e67af0",
   "metadata": {},
   "source": [
    "## islower()\n",
    "This method returns True if all characters in the string are lowercase, otherwise, returns “False”. \n",
    "\n",
    "* It does not take any arguments\n",
    "* If there is only whitespace in the string then returns “False”, otherwise it's \"True\"\n",
    "* If the string contains only digits and numbers then returns “False”, otherwise it's \"True\""
   ]
  },
  {
   "cell_type": "code",
   "execution_count": 6,
   "id": "baa62fb7",
   "metadata": {},
   "outputs": [],
   "source": [
    "i = \"Data Science\"\n",
    "j = \"DATA SCIENCE\"\n",
    "k = \"data science\"\n",
    "l = \"Data science\""
   ]
  },
  {
   "cell_type": "code",
   "execution_count": 7,
   "id": "db927602",
   "metadata": {},
   "outputs": [
    {
     "data": {
      "text/plain": [
       "True"
      ]
     },
     "execution_count": 7,
     "metadata": {},
     "output_type": "execute_result"
    }
   ],
   "source": [
    "k.islower()"
   ]
  },
  {
   "cell_type": "code",
   "execution_count": 8,
   "id": "f2235052",
   "metadata": {},
   "outputs": [
    {
     "data": {
      "text/plain": [
       "False"
      ]
     },
     "execution_count": 8,
     "metadata": {},
     "output_type": "execute_result"
    }
   ],
   "source": [
    "j.islower()"
   ]
  },
  {
   "cell_type": "code",
   "execution_count": 12,
   "id": "4da86cba",
   "metadata": {},
   "outputs": [
    {
     "name": "stdout",
     "output_type": "stream",
     "text": [
      "False\n"
     ]
    }
   ],
   "source": [
    "print(j.upper().lower().isupper())"
   ]
  },
  {
   "cell_type": "code",
   "execution_count": 13,
   "id": "de413ba3",
   "metadata": {},
   "outputs": [
    {
     "name": "stdout",
     "output_type": "stream",
     "text": [
      "False\n"
     ]
    }
   ],
   "source": [
    "print(j.lower().upper().islower())"
   ]
  },
  {
   "cell_type": "code",
   "execution_count": 14,
   "id": "f0dfb214",
   "metadata": {},
   "outputs": [
    {
     "name": "stdout",
     "output_type": "stream",
     "text": [
      "True\n"
     ]
    }
   ],
   "source": [
    "print(j.lower().upper().isupper())"
   ]
  },
  {
   "cell_type": "markdown",
   "id": "d4d75b05",
   "metadata": {},
   "source": [
    "## isalpha()\n",
    "The isalpha() method returns True if all the characters are alphabet letters (a-z)."
   ]
  },
  {
   "cell_type": "code",
   "execution_count": 12,
   "id": "90ecbc53",
   "metadata": {},
   "outputs": [],
   "source": [
    "j2 = \"DATASCIENCE\""
   ]
  },
  {
   "cell_type": "code",
   "execution_count": 13,
   "id": "a8ac242c",
   "metadata": {},
   "outputs": [
    {
     "name": "stdout",
     "output_type": "stream",
     "text": [
      "True\n"
     ]
    }
   ],
   "source": [
    "print(j2.isalpha())"
   ]
  },
  {
   "cell_type": "code",
   "execution_count": 10,
   "id": "20e83e3a",
   "metadata": {},
   "outputs": [],
   "source": [
    "j = \"DATA SCIENCE\""
   ]
  },
  {
   "cell_type": "code",
   "execution_count": 11,
   "id": "cf21e20f",
   "metadata": {},
   "outputs": [
    {
     "name": "stdout",
     "output_type": "stream",
     "text": [
      "False\n"
     ]
    }
   ],
   "source": [
    "print(j.isalpha())"
   ]
  },
  {
   "cell_type": "markdown",
   "id": "f87af9ee",
   "metadata": {},
   "source": [
    "## isalnum()\n",
    "The isalnum() method returns True if all the characters are alphabet letters (a-z)."
   ]
  },
  {
   "cell_type": "code",
   "execution_count": 14,
   "id": "9aa43893",
   "metadata": {},
   "outputs": [],
   "source": [
    "name = \"AzkiaRahmah\""
   ]
  },
  {
   "cell_type": "code",
   "execution_count": 15,
   "id": "377ea5e5",
   "metadata": {},
   "outputs": [
    {
     "name": "stdout",
     "output_type": "stream",
     "text": [
      "True\n"
     ]
    }
   ],
   "source": [
    "print(name.isalnum())"
   ]
  },
  {
   "cell_type": "markdown",
   "id": "75023652",
   "metadata": {},
   "source": [
    "## isdecimal()\n",
    "The isdecimal() method returns True if all characters in a string are decimal characters. If not, it returns False."
   ]
  },
  {
   "cell_type": "code",
   "execution_count": 16,
   "id": "5cd95ebd",
   "metadata": {},
   "outputs": [],
   "source": [
    "t = \"2020\""
   ]
  },
  {
   "cell_type": "code",
   "execution_count": 17,
   "id": "4db21da9",
   "metadata": {},
   "outputs": [
    {
     "name": "stdout",
     "output_type": "stream",
     "text": [
      "True\n"
     ]
    }
   ],
   "source": [
    "print(t.isdecimal())"
   ]
  },
  {
   "cell_type": "markdown",
   "id": "c7fb8d63",
   "metadata": {},
   "source": [
    "## isspace()\n",
    "The isspace() method returns True if all the characters in a string are whitespaces, otherwise False."
   ]
  },
  {
   "cell_type": "code",
   "execution_count": 18,
   "id": "32ad25cb",
   "metadata": {},
   "outputs": [
    {
     "name": "stdout",
     "output_type": "stream",
     "text": [
      "True\n"
     ]
    }
   ],
   "source": [
    "print(\" \".isspace())"
   ]
  },
  {
   "cell_type": "markdown",
   "id": "a69efb67",
   "metadata": {},
   "source": [
    "## istitle()\n",
    "The istitle() method returns True if all words in a text start with a upper case letter, AND the rest of the word are lower case letters, otherwise False."
   ]
  },
  {
   "cell_type": "code",
   "execution_count": 19,
   "id": "447a42f4",
   "metadata": {},
   "outputs": [
    {
     "name": "stdout",
     "output_type": "stream",
     "text": [
      "True\n"
     ]
    }
   ],
   "source": [
    "i = \"Data Science\"\n",
    "j = \"Data science\"\n",
    "print(i.istitle())"
   ]
  },
  {
   "cell_type": "code",
   "execution_count": 20,
   "id": "538b6e57",
   "metadata": {},
   "outputs": [
    {
     "name": "stdout",
     "output_type": "stream",
     "text": [
      "False\n"
     ]
    }
   ],
   "source": [
    "print(j.istitle())"
   ]
  },
  {
   "cell_type": "markdown",
   "id": "c26ab6f3",
   "metadata": {},
   "source": [
    "## Exercise using isalpha()"
   ]
  },
  {
   "cell_type": "code",
   "execution_count": 21,
   "id": "253960e2",
   "metadata": {},
   "outputs": [
    {
     "name": "stdout",
     "output_type": "stream",
     "text": [
      "Enter name: \n",
      "Azkia\n",
      "Hello Azkia\n"
     ]
    }
   ],
   "source": [
    "while True:\n",
    "    print(\"Enter name: \")\n",
    "    name = input()\n",
    "    if name.isalpha():\n",
    "        print(\"Hello\", name)\n",
    "        break\n",
    "    print(\"Enter your name correctly.\")"
   ]
  },
  {
   "cell_type": "markdown",
   "id": "07c9985c",
   "metadata": {},
   "source": [
    "## Exercise using isalnum()"
   ]
  },
  {
   "cell_type": "code",
   "execution_count": 24,
   "id": "b9dcb67f",
   "metadata": {},
   "outputs": [
    {
     "name": "stdout",
     "output_type": "stream",
     "text": [
      "Enter code: \n",
      "23434535\n",
      "The code is 23434535\n"
     ]
    }
   ],
   "source": [
    "while True:\n",
    "    print(\"Enter code: \")\n",
    "    jurusan = input()\n",
    "    if jurusan.isalnum():\n",
    "        print(\"The code is\", jurusan)\n",
    "        break\n",
    "    print(\"Enter the code correctly.\")"
   ]
  },
  {
   "cell_type": "markdown",
   "id": "d0a19312",
   "metadata": {},
   "source": [
    "## Exercise using isdecimal()"
   ]
  },
  {
   "cell_type": "code",
   "execution_count": 25,
   "id": "3f0aa9a8",
   "metadata": {},
   "outputs": [
    {
     "name": "stdout",
     "output_type": "stream",
     "text": [
      "Enter age: \n",
      "16\n",
      "Age: 16\n"
     ]
    }
   ],
   "source": [
    "while True:\n",
    "    print(\"Enter age: \")\n",
    "    age = input()\n",
    "    if age.isdecimal():\n",
    "        print(\"Age:\", age)\n",
    "        break\n",
    "    print(\"Enter your age correctly.\")"
   ]
  },
  {
   "cell_type": "markdown",
   "id": "8b4ef7c3",
   "metadata": {},
   "source": [
    "## Exercise using isspace()"
   ]
  },
  {
   "cell_type": "code",
   "execution_count": 26,
   "id": "b62fd7ae",
   "metadata": {},
   "outputs": [
    {
     "name": "stdout",
     "output_type": "stream",
     "text": [
      "Enter whitespace: \n",
      "s\n",
      "Re-enter whitespace.\n",
      "Enter whitespace: \n",
      " \n",
      "Whitespace indicated!\n"
     ]
    }
   ],
   "source": [
    "while True:\n",
    "    print(\"Enter whitespace: \")\n",
    "    jurusan = input()\n",
    "    if jurusan.isspace():\n",
    "        print(\"Whitespace indicated!\")\n",
    "        break\n",
    "    print(\"Re-enter whitespace.\")"
   ]
  },
  {
   "cell_type": "markdown",
   "id": "9d9c090b",
   "metadata": {},
   "source": [
    "## Exercise using istitle()"
   ]
  },
  {
   "cell_type": "code",
   "execution_count": 27,
   "id": "051c74f0",
   "metadata": {},
   "outputs": [
    {
     "name": "stdout",
     "output_type": "stream",
     "text": [
      "Enter book title: \n",
      "A Little Life\n",
      "Book title:  A Little Life\n"
     ]
    }
   ],
   "source": [
    "while True:\n",
    "    print(\"Enter book title: \")\n",
    "    judul = input()\n",
    "    if judul.istitle():\n",
    "        print(\"Book title: \", judul)\n",
    "        break\n",
    "    print(\"Enter Book Title Correctly.\")"
   ]
  }
 ],
 "metadata": {
  "kernelspec": {
   "display_name": "Python 3 (ipykernel)",
   "language": "python",
   "name": "python3"
  },
  "language_info": {
   "codemirror_mode": {
    "name": "ipython",
    "version": 3
   },
   "file_extension": ".py",
   "mimetype": "text/x-python",
   "name": "python",
   "nbconvert_exporter": "python",
   "pygments_lexer": "ipython3",
   "version": "3.9.12"
  }
 },
 "nbformat": 4,
 "nbformat_minor": 5
}
