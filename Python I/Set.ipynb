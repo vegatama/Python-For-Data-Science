{
 "cells": [
  {
   "cell_type": "markdown",
   "id": "cab359d1",
   "metadata": {},
   "source": [
    "## Set\n",
    "Sets are used to store multiple items in a single variable. A set is a collection which is unordered, unchangeable (but you can remove items and add new items), and unindexed.\n",
    "\n",
    "Sets are written with curly brackets:"
   ]
  },
  {
   "cell_type": "code",
   "execution_count": 7,
   "id": "964f5769",
   "metadata": {},
   "outputs": [],
   "source": [
    "num = {1,1,2,2,2,3,3,3,4,4,4,4,5,5}"
   ]
  },
  {
   "cell_type": "code",
   "execution_count": 8,
   "id": "2a8e2f46",
   "metadata": {},
   "outputs": [
    {
     "name": "stdout",
     "output_type": "stream",
     "text": [
      "{1, 2, 3, 4, 5}\n"
     ]
    }
   ],
   "source": [
    "print(num)"
   ]
  },
  {
   "cell_type": "markdown",
   "id": "2f753475",
   "metadata": {},
   "source": [
    "Sets cannot have two items with the same value."
   ]
  },
  {
   "cell_type": "markdown",
   "id": "72091619",
   "metadata": {},
   "source": [
    "## Add Items\n",
    "To add one item to a set use the add() method.\n",
    "\n"
   ]
  },
  {
   "cell_type": "code",
   "execution_count": 15,
   "id": "219759b3",
   "metadata": {},
   "outputs": [],
   "source": [
    "num.add(6)"
   ]
  },
  {
   "cell_type": "code",
   "execution_count": 16,
   "id": "6689adb3",
   "metadata": {
    "scrolled": true
   },
   "outputs": [
    {
     "name": "stdout",
     "output_type": "stream",
     "text": [
      "{1, 2, 3, 4, 5, 6}\n"
     ]
    }
   ],
   "source": [
    "print(num)"
   ]
  },
  {
   "cell_type": "code",
   "execution_count": 9,
   "id": "4adb5310",
   "metadata": {},
   "outputs": [],
   "source": [
    "data = {\"our\", \"home\", 2, 10}"
   ]
  },
  {
   "cell_type": "code",
   "execution_count": 10,
   "id": "562926ce",
   "metadata": {
    "scrolled": true
   },
   "outputs": [
    {
     "name": "stdout",
     "output_type": "stream",
     "text": [
      "{'home', 2, 10, 'our'}\n"
     ]
    }
   ],
   "source": [
    "print(data)"
   ]
  },
  {
   "cell_type": "markdown",
   "id": "8161beb0",
   "metadata": {},
   "source": [
    "## Remove Item\n",
    "To remove an item in a set, use the remove(), or the discard() method.\n",
    "\n"
   ]
  },
  {
   "cell_type": "code",
   "execution_count": 21,
   "id": "c7906e37",
   "metadata": {},
   "outputs": [],
   "source": [
    "days = {\"Sunday\", \"Monday\", \"Tuesday\", \"Wednesday\", \"Thursday\", \"Friday\", \"Saturday\"}"
   ]
  },
  {
   "cell_type": "code",
   "execution_count": 22,
   "id": "93e47f6f",
   "metadata": {},
   "outputs": [],
   "source": [
    "days.remove(\"Sunday\")"
   ]
  },
  {
   "cell_type": "code",
   "execution_count": 23,
   "id": "24dfc116",
   "metadata": {},
   "outputs": [
    {
     "name": "stdout",
     "output_type": "stream",
     "text": [
      "{'Saturday', 'Monday', 'Tuesday', 'Thursday', 'Wednesday', 'Friday'}\n"
     ]
    }
   ],
   "source": [
    "print(days)"
   ]
  },
  {
   "cell_type": "code",
   "execution_count": 24,
   "id": "8b02fd83",
   "metadata": {},
   "outputs": [],
   "source": [
    "days.discard(\"Monday\")"
   ]
  },
  {
   "cell_type": "code",
   "execution_count": 25,
   "id": "056c9e14",
   "metadata": {
    "scrolled": true
   },
   "outputs": [
    {
     "name": "stdout",
     "output_type": "stream",
     "text": [
      "{'Saturday', 'Tuesday', 'Thursday', 'Wednesday', 'Friday'}\n"
     ]
    }
   ],
   "source": [
    "print(days)"
   ]
  },
  {
   "cell_type": "markdown",
   "id": "426f3bdc",
   "metadata": {},
   "source": [
    "## Length of Set\n",
    "The len() method determine how many items a set has.\n"
   ]
  },
  {
   "cell_type": "code",
   "execution_count": 19,
   "id": "50168a5e",
   "metadata": {},
   "outputs": [
    {
     "name": "stdout",
     "output_type": "stream",
     "text": [
      "4\n"
     ]
    }
   ],
   "source": [
    "print(len(data))"
   ]
  },
  {
   "cell_type": "code",
   "execution_count": 20,
   "id": "b2fc909a",
   "metadata": {},
   "outputs": [
    {
     "name": "stdout",
     "output_type": "stream",
     "text": [
      "6\n"
     ]
    }
   ],
   "source": [
    "print(len(num))"
   ]
  },
  {
   "cell_type": "markdown",
   "id": "11f44574",
   "metadata": {},
   "source": [
    "## Join Two Sets\n",
    "The union() method that returns a new set containing all items from both sets."
   ]
  },
  {
   "cell_type": "code",
   "execution_count": 11,
   "id": "414d937d",
   "metadata": {},
   "outputs": [],
   "source": [
    "sets = num.union(data)"
   ]
  },
  {
   "cell_type": "code",
   "execution_count": 12,
   "id": "134af01d",
   "metadata": {},
   "outputs": [
    {
     "name": "stdout",
     "output_type": "stream",
     "text": [
      "{1, 2, 3, 4, 5, 'home', 10, 'our'}\n"
     ]
    }
   ],
   "source": [
    "print(sets)"
   ]
  },
  {
   "cell_type": "markdown",
   "id": "d5d97893",
   "metadata": {},
   "source": [
    "## Intersection\n",
    "The intersection() method returs a set that contains the items that exist in both set x, and set y."
   ]
  },
  {
   "cell_type": "code",
   "execution_count": 13,
   "id": "30686796",
   "metadata": {},
   "outputs": [],
   "source": [
    "sets = num.intersection(data)"
   ]
  },
  {
   "cell_type": "code",
   "execution_count": 14,
   "id": "55f29d64",
   "metadata": {},
   "outputs": [
    {
     "name": "stdout",
     "output_type": "stream",
     "text": [
      "{2}\n"
     ]
    }
   ],
   "source": [
    "print(sets)"
   ]
  }
 ],
 "metadata": {
  "kernelspec": {
   "display_name": "Python 3 (ipykernel)",
   "language": "python",
   "name": "python3"
  },
  "language_info": {
   "codemirror_mode": {
    "name": "ipython",
    "version": 3
   },
   "file_extension": ".py",
   "mimetype": "text/x-python",
   "name": "python",
   "nbconvert_exporter": "python",
   "pygments_lexer": "ipython3",
   "version": "3.9.12"
  }
 },
 "nbformat": 4,
 "nbformat_minor": 5
}
