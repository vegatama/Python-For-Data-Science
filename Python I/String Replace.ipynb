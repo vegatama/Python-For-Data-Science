{
 "cells": [
  {
   "cell_type": "markdown",
   "id": "9ea6893f",
   "metadata": {},
   "source": [
    "## Replace\n",
    "\n",
    "The replace() method replaces a certain phrase with another phrase.\n",
    "Syntax:"
   ]
  },
  {
   "cell_type": "code",
   "execution_count": 12,
   "id": "ac5898c3",
   "metadata": {},
   "outputs": [],
   "source": [
    "string.replace(oldvalue, newvalue, count)"
   ]
  },
  {
   "cell_type": "code",
   "execution_count": 9,
   "id": "1ce49fc0",
   "metadata": {},
   "outputs": [],
   "source": [
    "# Example 1\n",
    "i = \"There was once a horse and a horse\""
   ]
  },
  {
   "cell_type": "code",
   "execution_count": 8,
   "id": "bd1a15ec",
   "metadata": {},
   "outputs": [
    {
     "name": "stdout",
     "output_type": "stream",
     "text": [
      "There was once a human and a horse\n"
     ]
    }
   ],
   "source": [
    "print(i.replace(\"horse\", \"human\", 1))"
   ]
  },
  {
   "cell_type": "markdown",
   "id": "9d6cc15d",
   "metadata": {},
   "source": [
    "Or, do it without specifying the count."
   ]
  },
  {
   "cell_type": "code",
   "execution_count": 10,
   "id": "17dfd9f0",
   "metadata": {},
   "outputs": [],
   "source": [
    "# Example 2\n",
    "i = \"There was once a horse\""
   ]
  },
  {
   "cell_type": "code",
   "execution_count": 11,
   "id": "7231fc0c",
   "metadata": {},
   "outputs": [
    {
     "name": "stdout",
     "output_type": "stream",
     "text": [
      "There was once a frog\n"
     ]
    }
   ],
   "source": [
    "print(i.replace(\"horse\", \"frog\"))"
   ]
  }
 ],
 "metadata": {
  "kernelspec": {
   "display_name": "Python 3 (ipykernel)",
   "language": "python",
   "name": "python3"
  },
  "language_info": {
   "codemirror_mode": {
    "name": "ipython",
    "version": 3
   },
   "file_extension": ".py",
   "mimetype": "text/x-python",
   "name": "python",
   "nbconvert_exporter": "python",
   "pygments_lexer": "ipython3",
   "version": "3.9.12"
  }
 },
 "nbformat": 4,
 "nbformat_minor": 5
}
