{
 "cells": [
  {
   "cell_type": "markdown",
   "id": "dd2d5c4c",
   "metadata": {},
   "source": [
    "## Python Output Using print() function\n"
   ]
  },
  {
   "cell_type": "code",
   "execution_count": 1,
   "id": "de3d4c16",
   "metadata": {},
   "outputs": [
    {
     "name": "stdout",
     "output_type": "stream",
     "text": [
      "Hello, World!\n"
     ]
    }
   ],
   "source": [
    "print(\"Hello, World!\")"
   ]
  },
  {
   "cell_type": "markdown",
   "id": "49d01010",
   "metadata": {},
   "source": [
    "Another example is given below:\n",
    "\n"
   ]
  },
  {
   "cell_type": "code",
   "execution_count": 2,
   "id": "89d60f7d",
   "metadata": {},
   "outputs": [],
   "source": [
    "a = 3"
   ]
  },
  {
   "cell_type": "code",
   "execution_count": 5,
   "id": "d72ff500",
   "metadata": {},
   "outputs": [
    {
     "name": "stdout",
     "output_type": "stream",
     "text": [
      "The value is of a is 3\n"
     ]
    }
   ],
   "source": [
    "print(\"The value is of a is\", a)"
   ]
  },
  {
   "cell_type": "markdown",
   "id": "4847fe98",
   "metadata": {},
   "source": [
    "## Python Print output with custom sep and end parameter\n"
   ]
  },
  {
   "cell_type": "code",
   "execution_count": 9,
   "id": "3c71a1df",
   "metadata": {},
   "outputs": [
    {
     "name": "stdout",
     "output_type": "stream",
     "text": [
      "datascience@"
     ]
    }
   ],
   "source": [
    "print(\"datascience\", end = \"@\") # Specify Ending"
   ]
  },
  {
   "cell_type": "code",
   "execution_count": 10,
   "id": "72dd258f",
   "metadata": {},
   "outputs": [
    {
     "name": "stdout",
     "output_type": "stream",
     "text": [
      "N*O*V\n"
     ]
    }
   ],
   "source": [
    "print('N', 'O', 'V', sep = \"*\") # Specify separator"
   ]
  },
  {
   "cell_type": "markdown",
   "id": "a770413e",
   "metadata": {},
   "source": [
    "## Output Formatting\n",
    "\n",
    "### Using format()\n",
    "With this output format, the curly braces { } work as placeholders. We can specify the order in which variables occur in the output. "
   ]
  },
  {
   "cell_type": "code",
   "execution_count": 12,
   "id": "2bbddfe9",
   "metadata": {},
   "outputs": [
    {
     "name": "stdout",
     "output_type": "stream",
     "text": [
      "The value of a is 5 and b is 10\n",
      "15 is the sum of 5 and 10\n",
      "-5 is the subtraction of 5 and 10\n"
     ]
    }
   ],
   "source": [
    "# Initializing variables\n",
    "a = 5\n",
    "b = 10\n",
    " \n",
    "# addition\n",
    "sum = a + b\n",
    " \n",
    "# subtraction\n",
    "sub = a- b\n",
    " \n",
    "# Output\n",
    "print('The value of a is {} and b is {}'.format(a, b))\n",
    " \n",
    "print('{2} is the sum of {0} and {1}'.format(a, b, sum))\n",
    " \n",
    "print('{sub_value} is the subtraction of {value_a} and {value_b}'.format(value_a = a ,value_b = b, sub_value = sub))\n",
    "                                                             "
   ]
  },
  {
   "cell_type": "markdown",
   "id": "cef4916d",
   "metadata": {},
   "source": [
    "%s string\n",
    "%d integer\n",
    "%f float"
   ]
  },
  {
   "cell_type": "markdown",
   "id": "05d68f0e",
   "metadata": {},
   "source": [
    "### Using % Operator\n",
    "% values are replaced with zero or more value of elements.\n",
    "* %d – integer\n",
    "* %f – float\n",
    "* %s – string\n",
    "* %x – hexadecimal\n",
    "* %o – octal"
   ]
  },
  {
   "cell_type": "code",
   "execution_count": 13,
   "id": "5cdd5bdb",
   "metadata": {},
   "outputs": [
    {
     "name": "stdout",
     "output_type": "stream",
     "text": [
      "The sum is 9\n"
     ]
    }
   ],
   "source": [
    "add = 4 + 5\n",
    " \n",
    "# Output\n",
    "print(\"The sum is %d\" %add)"
   ]
  },
  {
   "cell_type": "markdown",
   "id": "d61be448",
   "metadata": {},
   "source": [
    "## Input\n",
    "\n",
    "To take user input, use the input() function.\n",
    "\n",
    "### Get user input with a message"
   ]
  },
  {
   "cell_type": "code",
   "execution_count": 16,
   "id": "d06c0440",
   "metadata": {},
   "outputs": [
    {
     "name": "stdout",
     "output_type": "stream",
     "text": [
      "Name: Juliet\n",
      "<class 'str'>\n"
     ]
    }
   ],
   "source": [
    "name = input(\"Name: \")\n",
    "print(type(name))"
   ]
  },
  {
   "cell_type": "markdown",
   "id": "8acfa888",
   "metadata": {},
   "source": [
    "### Integer input"
   ]
  },
  {
   "cell_type": "code",
   "execution_count": 17,
   "id": "634aadb5",
   "metadata": {},
   "outputs": [
    {
     "name": "stdout",
     "output_type": "stream",
     "text": [
      "Enter a number: 10\n",
      "20\n"
     ]
    }
   ],
   "source": [
    "num = int(input(\"Enter a number: \"))\n",
    " \n",
    "add = num + 10\n",
    " \n",
    "# Output\n",
    "print(add)"
   ]
  },
  {
   "cell_type": "markdown",
   "id": "8dc00a79",
   "metadata": {},
   "source": [
    "### Take Multiple Inputs\n",
    "\n",
    "By using map() method in python, we can take multiple inputs of the same data type at a time."
   ]
  },
  {
   "cell_type": "code",
   "execution_count": 21,
   "id": "aa8814fe",
   "metadata": {},
   "outputs": [
    {
     "name": "stdout",
     "output_type": "stream",
     "text": [
      "Enter the Numbers : 1 2 3\n",
      "The Numbers are :  1 2 3\n"
     ]
    }
   ],
   "source": [
    "a, b, c = map(int, input(\"Enter the Numbers : \").split())\n",
    "print(\"The Numbers are : \", end = \" \")\n",
    "print(a, b, c)"
   ]
  }
 ],
 "metadata": {
  "kernelspec": {
   "display_name": "Python 3 (ipykernel)",
   "language": "python",
   "name": "python3"
  },
  "language_info": {
   "codemirror_mode": {
    "name": "ipython",
    "version": 3
   },
   "file_extension": ".py",
   "mimetype": "text/x-python",
   "name": "python",
   "nbconvert_exporter": "python",
   "pygments_lexer": "ipython3",
   "version": "3.9.12"
  }
 },
 "nbformat": 4,
 "nbformat_minor": 5
}
