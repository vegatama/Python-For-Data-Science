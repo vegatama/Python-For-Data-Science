{
 "cells": [
  {
   "cell_type": "markdown",
   "id": "e908da53",
   "metadata": {},
   "source": [
    "## Dictionaries\n",
    "Dictionaries are used to store data values in pairs. It is ordered (In Python 3.6 and earlier, dictionaries are unordered), changeable, and do not allow duplicates.\n",
    "\n",
    "Dictionaries are defined as objects with the data type 'dict'.\n",
    "\n",
    "Dictionaries are written with curly brackets, and have keys and values."
   ]
  },
  {
   "cell_type": "code",
   "execution_count": 1,
   "id": "c8e5dc7f",
   "metadata": {},
   "outputs": [],
   "source": [
    "dict = {\n",
    "    \"nama\": \"Juliet\",\n",
    "    \"umur\": 27,\n",
    "    \"jurusan\": \"Sistem Informasi\"\n",
    "}"
   ]
  },
  {
   "cell_type": "code",
   "execution_count": 2,
   "id": "ac5ba694",
   "metadata": {},
   "outputs": [
    {
     "data": {
      "text/plain": [
       "dict"
      ]
     },
     "execution_count": 2,
     "metadata": {},
     "output_type": "execute_result"
    }
   ],
   "source": [
    "type(dict)"
   ]
  },
  {
   "cell_type": "markdown",
   "id": "a32b6248",
   "metadata": {},
   "source": [
    "Dictionary items can be referred to by using the key name."
   ]
  },
  {
   "cell_type": "code",
   "execution_count": 3,
   "id": "85efa039",
   "metadata": {},
   "outputs": [
    {
     "data": {
      "text/plain": [
       "'Juliet'"
      ]
     },
     "execution_count": 3,
     "metadata": {},
     "output_type": "execute_result"
    }
   ],
   "source": [
    "dict[\"nama\"]"
   ]
  },
  {
   "cell_type": "code",
   "execution_count": 4,
   "id": "1f2eee4d",
   "metadata": {},
   "outputs": [
    {
     "data": {
      "text/plain": [
       "27"
      ]
     },
     "execution_count": 4,
     "metadata": {},
     "output_type": "execute_result"
    }
   ],
   "source": [
    "dict[\"umur\"]"
   ]
  },
  {
   "cell_type": "markdown",
   "id": "4112bb3a",
   "metadata": {},
   "source": [
    "## Change Values\n",
    "\n",
    "You can change the value of a specific item by referring to its key name:"
   ]
  },
  {
   "cell_type": "code",
   "execution_count": 6,
   "id": "6f2eebcb",
   "metadata": {},
   "outputs": [],
   "source": [
    "dict[\"umur\"] = 20"
   ]
  },
  {
   "cell_type": "code",
   "execution_count": 7,
   "id": "10bd12af",
   "metadata": {},
   "outputs": [
    {
     "name": "stdout",
     "output_type": "stream",
     "text": [
      "{'nama': 'Juliet', 'umur': 20, 'jurusan': 'Sistem Informasi'}\n"
     ]
    }
   ],
   "source": [
    "print(dict)"
   ]
  },
  {
   "cell_type": "markdown",
   "id": "255a83ee",
   "metadata": {},
   "source": [
    "## Update Dictionary\n",
    "\n",
    "The update() method will update the dictionary with the items from the given argument."
   ]
  },
  {
   "cell_type": "code",
   "execution_count": 9,
   "id": "c6ccc809",
   "metadata": {},
   "outputs": [],
   "source": [
    "dict.update({\"jurusan\": \"Teknik Komputer\"})"
   ]
  },
  {
   "cell_type": "code",
   "execution_count": 10,
   "id": "5dc536df",
   "metadata": {},
   "outputs": [
    {
     "name": "stdout",
     "output_type": "stream",
     "text": [
      "{'nama': 'Juliet', 'umur': 20, 'jurusan': 'Teknik Komputer'}\n"
     ]
    }
   ],
   "source": [
    "print(dict)"
   ]
  },
  {
   "cell_type": "markdown",
   "id": "88c3aabc",
   "metadata": {},
   "source": [
    "## Dictionary Length\n",
    "\n",
    "To determine how many items a dictionary has, use the len() function:"
   ]
  },
  {
   "cell_type": "code",
   "execution_count": 5,
   "id": "bb0771a8",
   "metadata": {},
   "outputs": [
    {
     "name": "stdout",
     "output_type": "stream",
     "text": [
      "3\n"
     ]
    }
   ],
   "source": [
    "print(len(dict))"
   ]
  },
  {
   "cell_type": "markdown",
   "id": "afe3e6f8",
   "metadata": {},
   "source": [
    "## Nested Dictionaries\n",
    "\n",
    "A dictionary can contain dictionaries, this is called nested dictionaries."
   ]
  },
  {
   "cell_type": "code",
   "execution_count": 12,
   "id": "7eb4a972",
   "metadata": {},
   "outputs": [],
   "source": [
    "bilangan = {\n",
    "  \"satu\" : {\n",
    "    \"eng\" : \"One\",\n",
    "    \"sp\" : \"Uno\"\n",
    "  },\n",
    "  \"dua\" : {\n",
    "    \"eng\" : \"Two\",\n",
    "    \"sp\" : \"Dos\"\n",
    "  },\n",
    "  \"tiga\" : {\n",
    "    \"eng\" : \"Three\",\n",
    "    \"sp\" : \"Tres\"\n",
    "  }\n",
    "}"
   ]
  },
  {
   "cell_type": "code",
   "execution_count": 13,
   "id": "9849c7f4",
   "metadata": {},
   "outputs": [
    {
     "name": "stdout",
     "output_type": "stream",
     "text": [
      "{'satu': {'eng': 'One', 'sp': 'Uno'}, 'dua': {'eng': 'Two', 'sp': 'Dos'}, 'tiga': {'eng': 'Three', 'sp': 'Tres'}}\n"
     ]
    }
   ],
   "source": [
    "print(bilangan)"
   ]
  },
  {
   "cell_type": "markdown",
   "id": "572bc4ad",
   "metadata": {},
   "source": [
    "To access element of a nested dictionary, we use indexing [] syntax in Python."
   ]
  },
  {
   "cell_type": "code",
   "execution_count": 14,
   "id": "d63cf319",
   "metadata": {},
   "outputs": [
    {
     "name": "stdout",
     "output_type": "stream",
     "text": [
      "Two\n"
     ]
    }
   ],
   "source": [
    "print(bilangan[\"dua\"][\"eng\"]) #To access items"
   ]
  }
 ],
 "metadata": {
  "kernelspec": {
   "display_name": "Python 3 (ipykernel)",
   "language": "python",
   "name": "python3"
  },
  "language_info": {
   "codemirror_mode": {
    "name": "ipython",
    "version": 3
   },
   "file_extension": ".py",
   "mimetype": "text/x-python",
   "name": "python",
   "nbconvert_exporter": "python",
   "pygments_lexer": "ipython3",
   "version": "3.9.12"
  }
 },
 "nbformat": 4,
 "nbformat_minor": 5
}
