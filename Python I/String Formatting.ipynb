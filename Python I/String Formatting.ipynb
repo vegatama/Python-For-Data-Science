{
 "cells": [
  {
   "cell_type": "markdown",
   "id": "cb7d8089",
   "metadata": {},
   "source": [
    "## String zfill() Method\n",
    "The zfill() method adds zeros (0) at the beginning of the string, until it reaches the specified length.\n",
    "\n",
    "If the value of the len parameter is < the length of the string, there will be no filling.\n",
    "Syntax:\n"
   ]
  },
  {
   "cell_type": "code",
   "execution_count": null,
   "id": "25c2fd17",
   "metadata": {},
   "outputs": [],
   "source": [
    "string.zfill(len)"
   ]
  },
  {
   "cell_type": "code",
   "execution_count": 1,
   "id": "cc0f17a5",
   "metadata": {},
   "outputs": [
    {
     "data": {
      "text/plain": [
       "'007'"
      ]
     },
     "execution_count": 1,
     "metadata": {},
     "output_type": "execute_result"
    }
   ],
   "source": [
    "a = 7\n",
    "str(a).zfill(3)"
   ]
  },
  {
   "cell_type": "code",
   "execution_count": 2,
   "id": "f02f37ab",
   "metadata": {},
   "outputs": [
    {
     "data": {
      "text/plain": [
       "'00200'"
      ]
     },
     "execution_count": 2,
     "metadata": {},
     "output_type": "execute_result"
    }
   ],
   "source": [
    "b = \"200\"\n",
    "b.zfill(5)"
   ]
  },
  {
   "cell_type": "code",
   "execution_count": 3,
   "id": "50265f49",
   "metadata": {},
   "outputs": [
    {
     "data": {
      "text/plain": [
       "'-00.25'"
      ]
     },
     "execution_count": 3,
     "metadata": {},
     "output_type": "execute_result"
    }
   ],
   "source": [
    "c = -0.25\n",
    "str(c).zfill(6)"
   ]
  },
  {
   "cell_type": "code",
   "execution_count": 6,
   "id": "3918ae53",
   "metadata": {},
   "outputs": [
    {
     "data": {
      "text/plain": [
       "'000yes'"
      ]
     },
     "execution_count": 6,
     "metadata": {},
     "output_type": "execute_result"
    }
   ],
   "source": [
    "a = \"yes\"\n",
    "a.zfill(6)"
   ]
  },
  {
   "cell_type": "code",
   "execution_count": 7,
   "id": "38a30413",
   "metadata": {},
   "outputs": [
    {
     "data": {
      "text/plain": [
       "'00book'"
      ]
     },
     "execution_count": 7,
     "metadata": {},
     "output_type": "execute_result"
    }
   ],
   "source": [
    "b = \"book\"\n",
    "b.zfill(6)"
   ]
  },
  {
   "cell_type": "code",
   "execution_count": 8,
   "id": "63e49152",
   "metadata": {},
   "outputs": [
    {
     "data": {
      "text/plain": [
       "'withyou'"
      ]
     },
     "execution_count": 8,
     "metadata": {},
     "output_type": "execute_result"
    }
   ],
   "source": [
    "c = \"untukmu\"\n",
    "c.zfill(6)"
   ]
  },
  {
   "cell_type": "markdown",
   "id": "de6800af",
   "metadata": {},
   "source": [
    "## Right Align | rjust()\n",
    "This method right aligns the string according to the width specified and fills remaining space of line with blank space.\n",
    "\n",
    "Syntax:"
   ]
  },
  {
   "cell_type": "code",
   "execution_count": null,
   "id": "586cb6fa",
   "metadata": {},
   "outputs": [],
   "source": [
    "rjust( len, fillchr )"
   ]
  },
  {
   "cell_type": "markdown",
   "id": "239090a5",
   "metadata": {},
   "source": [
    "len : The width of string to expand it.\n",
    "\n",
    "fillchr (optional): The character to fill in remaining space."
   ]
  },
  {
   "cell_type": "code",
   "execution_count": 15,
   "id": "78242cd3",
   "metadata": {},
   "outputs": [
    {
     "data": {
      "text/plain": [
       "'      Data'"
      ]
     },
     "execution_count": 15,
     "metadata": {},
     "output_type": "execute_result"
    }
   ],
   "source": [
    "\"Data\".rjust(10)"
   ]
  },
  {
   "cell_type": "code",
   "execution_count": 11,
   "id": "a05de107",
   "metadata": {},
   "outputs": [
    {
     "data": {
      "text/plain": [
       "'******Data'"
      ]
     },
     "execution_count": 11,
     "metadata": {},
     "output_type": "execute_result"
    }
   ],
   "source": [
    "\"Data\".rjust(10, \"*\")"
   ]
  },
  {
   "cell_type": "markdown",
   "id": "7e23d97f",
   "metadata": {},
   "source": [
    "## Left Align | ljust()\n",
    "This method left aligns the string according to the width specified and fills remaining space of line with blank space.\n",
    "\n",
    "Syntax:"
   ]
  },
  {
   "cell_type": "code",
   "execution_count": null,
   "id": "8365b1f8",
   "metadata": {},
   "outputs": [],
   "source": [
    "ljust( len, fillchr )"
   ]
  },
  {
   "cell_type": "markdown",
   "id": "b545c344",
   "metadata": {},
   "source": [
    "len : The width of string to expand it.\n",
    "\n",
    "fillchr (optional): The character to fill in remaining space."
   ]
  },
  {
   "cell_type": "code",
   "execution_count": 9,
   "id": "16b44849",
   "metadata": {},
   "outputs": [
    {
     "data": {
      "text/plain": [
       "'Data      '"
      ]
     },
     "execution_count": 9,
     "metadata": {},
     "output_type": "execute_result"
    }
   ],
   "source": [
    "\"Data\".ljust(10)"
   ]
  },
  {
   "cell_type": "code",
   "execution_count": 12,
   "id": "a905800b",
   "metadata": {},
   "outputs": [
    {
     "data": {
      "text/plain": [
       "'Data######'"
      ]
     },
     "execution_count": 12,
     "metadata": {},
     "output_type": "execute_result"
    }
   ],
   "source": [
    "\"Data\".ljust(10, \"#\")"
   ]
  },
  {
   "cell_type": "markdown",
   "id": "d0ace303",
   "metadata": {},
   "source": [
    "## Center Align | center()\n",
    "This method center aligns the string according to the width specified and fills remaining space of line with blank space.\n",
    "\n",
    "Syntax:"
   ]
  },
  {
   "cell_type": "code",
   "execution_count": null,
   "id": "550387a3",
   "metadata": {},
   "outputs": [],
   "source": [
    "center( len, fillchr )"
   ]
  },
  {
   "cell_type": "markdown",
   "id": "2adf1c3a",
   "metadata": {},
   "source": [
    "len : The width of string to expand it.\n",
    "\n",
    "fillchr (optional): The character to fill in remaining space."
   ]
  },
  {
   "cell_type": "code",
   "execution_count": 17,
   "id": "dbdade6c",
   "metadata": {},
   "outputs": [
    {
     "data": {
      "text/plain": [
       "'   Data   '"
      ]
     },
     "execution_count": 17,
     "metadata": {},
     "output_type": "execute_result"
    }
   ],
   "source": [
    "\"Data\".center(10)"
   ]
  },
  {
   "cell_type": "code",
   "execution_count": 18,
   "id": "1d32cca1",
   "metadata": {},
   "outputs": [
    {
     "data": {
      "text/plain": [
       "'---Data---'"
      ]
     },
     "execution_count": 18,
     "metadata": {},
     "output_type": "execute_result"
    }
   ],
   "source": [
    "\"Data\".center(10, \"-\")"
   ]
  },
  {
   "cell_type": "markdown",
   "id": "6d1603ca",
   "metadata": {},
   "source": [
    "## String Literal\n",
    "\n",
    "There's a way to use an apostrophe inside a string literal."
   ]
  },
  {
   "cell_type": "code",
   "execution_count": 20,
   "id": "63cf70aa",
   "metadata": {
    "scrolled": true
   },
   "outputs": [
    {
     "ename": "SyntaxError",
     "evalue": "invalid syntax (3735155389.py, line 1)",
     "output_type": "error",
     "traceback": [
      "\u001b[1;36m  Input \u001b[1;32mIn [20]\u001b[1;36m\u001b[0m\n\u001b[1;33m    'jum'at'\u001b[0m\n\u001b[1;37m         ^\u001b[0m\n\u001b[1;31mSyntaxError\u001b[0m\u001b[1;31m:\u001b[0m invalid syntax\n"
     ]
    }
   ],
   "source": [
    "'jum'at'"
   ]
  },
  {
   "cell_type": "markdown",
   "id": "70b37a30",
   "metadata": {},
   "source": [
    "Use double quote instead of single quote."
   ]
  },
  {
   "cell_type": "code",
   "execution_count": 19,
   "id": "4a9ec8fb",
   "metadata": {},
   "outputs": [
    {
     "data": {
      "text/plain": [
       "\"jum'at\""
      ]
     },
     "execution_count": 19,
     "metadata": {},
     "output_type": "execute_result"
    }
   ],
   "source": [
    "#string literal\n",
    "\n",
    "\"jum'at\""
   ]
  },
  {
   "cell_type": "markdown",
   "id": "b15121a6",
   "metadata": {},
   "source": [
    "Or, use backslash as an **escape character** before the apostrophe."
   ]
  },
  {
   "cell_type": "code",
   "execution_count": 21,
   "id": "22f5ae42",
   "metadata": {},
   "outputs": [
    {
     "data": {
      "text/plain": [
       "\"Jum'at\""
      ]
     },
     "execution_count": 21,
     "metadata": {},
     "output_type": "execute_result"
    }
   ],
   "source": [
    "#escape character\n",
    "'Jum\\'at'"
   ]
  },
  {
   "cell_type": "markdown",
   "id": "291ccc4c",
   "metadata": {},
   "source": [
    "## Raw Strings\n",
    "You can use r before a string starts to write a string as it is."
   ]
  },
  {
   "cell_type": "code",
   "execution_count": 13,
   "id": "784948e0",
   "metadata": {},
   "outputs": [
    {
     "name": "stdout",
     "output_type": "stream",
     "text": [
      "Data\\tScience\n"
     ]
    }
   ],
   "source": [
    "# with raw strings\n",
    "\n",
    "print(r\"Data\\tScience\")"
   ]
  },
  {
   "cell_type": "code",
   "execution_count": 14,
   "id": "db7e6d27",
   "metadata": {},
   "outputs": [
    {
     "name": "stdout",
     "output_type": "stream",
     "text": [
      "Data\tScience\n"
     ]
    }
   ],
   "source": [
    "# without raw strings\n",
    "print(\"Data\\tScience\")"
   ]
  }
 ],
 "metadata": {
  "kernelspec": {
   "display_name": "Python 3 (ipykernel)",
   "language": "python",
   "name": "python3"
  },
  "language_info": {
   "codemirror_mode": {
    "name": "ipython",
    "version": 3
   },
   "file_extension": ".py",
   "mimetype": "text/x-python",
   "name": "python",
   "nbconvert_exporter": "python",
   "pygments_lexer": "ipython3",
   "version": "3.9.12"
  }
 },
 "nbformat": 4,
 "nbformat_minor": 5
}
