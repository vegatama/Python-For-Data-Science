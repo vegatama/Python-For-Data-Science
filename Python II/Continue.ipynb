{
 "cells": [
  {
   "cell_type": "markdown",
   "id": "bd8dad9a",
   "metadata": {},
   "source": [
    "# Continue\n",
    "Loops iterate over a block of code until the test expression is false, but sometimes we wish to skip the current iteration or even the whole loop without checking test expression.\n",
    "\n",
    "The continue statement is used to skip the rest of the code inside a loop for the current iteration only. Loop does not terminate but continues on with the next iteration.\n",
    "\n",
    "The continue statement can be used in for loop and while loop with different kind of parameters."
   ]
  },
  {
   "cell_type": "markdown",
   "id": "7cf750f7",
   "metadata": {},
   "source": [
    "### Range as parameter\n",
    "range() usually used to generate a series of numbers within a given range."
   ]
  },
  {
   "cell_type": "code",
   "execution_count": 5,
   "id": "8c6df8a8",
   "metadata": {},
   "outputs": [
    {
     "name": "stdout",
     "output_type": "stream",
     "text": [
      "0\n",
      "1\n",
      "2\n",
      "4\n",
      "5\n",
      "6\n",
      "7\n",
      "8\n"
     ]
    }
   ],
   "source": [
    "for i in range(9):\n",
    "  if i == 3:\n",
    "    continue\n",
    "  print(i)"
   ]
  },
  {
   "cell_type": "markdown",
   "id": "cdcaf2ee",
   "metadata": {},
   "source": [
    "This program skip the iteration and not printing if values of i is equal to 3 in range 0 to 8."
   ]
  },
  {
   "cell_type": "markdown",
   "id": "9164cb9d",
   "metadata": {},
   "source": [
    "### String as parameter\n",
    "A string can be used as parameter usually for checking the character contained in the string."
   ]
  },
  {
   "cell_type": "code",
   "execution_count": 7,
   "id": "2d2214c3",
   "metadata": {},
   "outputs": [
    {
     "name": "stdout",
     "output_type": "stream",
     "text": [
      "d\n",
      "a\n",
      "t\n",
      "a\n",
      "s\n",
      "c\n",
      "i\n"
     ]
    }
   ],
   "source": [
    "for i in \"dantansci\":\n",
    "  if i == \"n\":\n",
    "    continue\n",
    "  print(i)"
   ]
  },
  {
   "cell_type": "markdown",
   "id": "973f22ef",
   "metadata": {},
   "source": [
    "This program skip the iteration and not printing if n character equal to i in \"dantansci\" string."
   ]
  },
  {
   "cell_type": "markdown",
   "id": "b1c084a1",
   "metadata": {},
   "source": [
    "### List as parameter\n",
    "List can be used as parameter in a loop that iterate item contained in the list."
   ]
  },
  {
   "cell_type": "code",
   "execution_count": 8,
   "id": "d1c094e7",
   "metadata": {},
   "outputs": [
    {
     "name": "stdout",
     "output_type": "stream",
     "text": [
      "data\n",
      "dara\n"
     ]
    }
   ],
   "source": [
    "list = [\"data\", \"dana\", \"dara\"]\n",
    "for i in list:\n",
    "  if i == \"dana\":\n",
    "    continue\n",
    "  print(i)"
   ]
  },
  {
   "cell_type": "markdown",
   "id": "35dbdc31",
   "metadata": {},
   "source": [
    "This program  skip the iteration and not printing if value of the i item is \"dana\" in the list."
   ]
  }
 ],
 "metadata": {
  "kernelspec": {
   "display_name": "Python 3 (ipykernel)",
   "language": "python",
   "name": "python3"
  },
  "language_info": {
   "codemirror_mode": {
    "name": "ipython",
    "version": 3
   },
   "file_extension": ".py",
   "mimetype": "text/x-python",
   "name": "python",
   "nbconvert_exporter": "python",
   "pygments_lexer": "ipython3",
   "version": "3.9.12"
  }
 },
 "nbformat": 4,
 "nbformat_minor": 5
}
