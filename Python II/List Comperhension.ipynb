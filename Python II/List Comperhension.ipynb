{
 "cells": [
  {
   "cell_type": "markdown",
   "id": "5b082be2",
   "metadata": {},
   "source": [
    "# List Comprehension\n",
    "List comprehension offers a shorter syntax when you want to create a new list based on the values of an existing list.\n",
    "\n",
    "A Python list comprehension consists of brackets containing the expression, which is executed for each element along with the for loop to iterate over each element in the Python list. \n",
    "\n",
    "Advantages of List Comprehension\n",
    "* More time-efficient and space-efficient than loops.\n",
    "* Require fewer lines of code.\n",
    "* Transforms iterative statement into a formula."
   ]
  },
  {
   "cell_type": "markdown",
   "id": "84ef00ed",
   "metadata": {},
   "source": [
    "### Case Example\n",
    "the code below is using for loop to make a list of square root from the number list."
   ]
  },
  {
   "cell_type": "code",
   "execution_count": 1,
   "id": "d2d8299a",
   "metadata": {},
   "outputs": [
    {
     "name": "stdout",
     "output_type": "stream",
     "text": [
      "[1.0, 2.0, 5.0, 10.0, 12.0]\n"
     ]
    }
   ],
   "source": [
    "number = [1,4,25,100,144]\n",
    "sRoot = []\n",
    "\n",
    "for i in number:\n",
    "    sRoot.append(i**(1/2))\n",
    "print(sRoot)"
   ]
  },
  {
   "cell_type": "markdown",
   "id": "c360d3cf",
   "metadata": {},
   "source": [
    "we can make the code above more simple and efficient using List Comprehension so the code just have minimal lines like the code below:"
   ]
  },
  {
   "cell_type": "code",
   "execution_count": 2,
   "id": "5703c4df",
   "metadata": {},
   "outputs": [
    {
     "name": "stdout",
     "output_type": "stream",
     "text": [
      "[1.0, 2.0, 5.0, 10.0, 12.0]\n"
     ]
    }
   ],
   "source": [
    "number = [1,4,25,100,144]\n",
    "sRoot = [i**(1/2) for i in number]\n",
    "print(sRoot)"
   ]
  },
  {
   "cell_type": "markdown",
   "id": "12fc52d8",
   "metadata": {},
   "source": [
    "### Other Example"
   ]
  },
  {
   "cell_type": "code",
   "execution_count": 5,
   "id": "657172e7",
   "metadata": {},
   "outputs": [
    {
     "name": "stdout",
     "output_type": "stream",
     "text": [
      "['DATAdata', 'SCIENCEscience']\n"
     ]
    }
   ],
   "source": [
    "data = [\"data\", \"science\"]\n",
    "double = [_.upper()+_.lower() for _ in data]\n",
    "print(double)"
   ]
  },
  {
   "cell_type": "markdown",
   "id": "042e34c9",
   "metadata": {},
   "source": [
    "the code above make a new list that contain double the string item of the data list that uppercase the fist string and lowercase the second string."
   ]
  },
  {
   "cell_type": "code",
   "execution_count": 7,
   "id": "ee3a204e",
   "metadata": {},
   "outputs": [
    {
     "name": "stdout",
     "output_type": "stream",
     "text": [
      "[[1, 1], [9, 27], [25, 125], [49, 343]]\n"
     ]
    }
   ],
   "source": [
    "number = range(1,8,2)\n",
    "square_cubic = [[_**2,_**3] for _ in number]\n",
    "print(square_cubic)"
   ]
  },
  {
   "cell_type": "markdown",
   "id": "8f3faab6",
   "metadata": {},
   "source": [
    "the code above make a new list that contain square and cubic result of items in the number list."
   ]
  }
 ],
 "metadata": {
  "kernelspec": {
   "display_name": "Python 3 (ipykernel)",
   "language": "python",
   "name": "python3"
  },
  "language_info": {
   "codemirror_mode": {
    "name": "ipython",
    "version": 3
   },
   "file_extension": ".py",
   "mimetype": "text/x-python",
   "name": "python",
   "nbconvert_exporter": "python",
   "pygments_lexer": "ipython3",
   "version": "3.9.12"
  }
 },
 "nbformat": 4,
 "nbformat_minor": 5
}
