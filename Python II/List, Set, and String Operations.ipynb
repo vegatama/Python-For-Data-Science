{
 "cells": [
  {
   "cell_type": "code",
   "execution_count": 1,
   "id": "ad77e21c",
   "metadata": {},
   "outputs": [],
   "source": [
    "a  = [1, 2, 3, 4, 5, 6]"
   ]
  },
  {
   "cell_type": "markdown",
   "id": "e34fa873",
   "metadata": {},
   "source": [
    "## Length\n",
    "The len() function is used to determine how many items a list, set, and string has."
   ]
  },
  {
   "cell_type": "code",
   "execution_count": 3,
   "id": "62bb9f61",
   "metadata": {},
   "outputs": [
    {
     "data": {
      "text/plain": [
       "6"
      ]
     },
     "execution_count": 3,
     "metadata": {},
     "output_type": "execute_result"
    }
   ],
   "source": [
    "len(a)"
   ]
  },
  {
   "cell_type": "code",
   "execution_count": 4,
   "id": "e964978c",
   "metadata": {},
   "outputs": [],
   "source": [
    "b = {2, 2, 3, 4, 4, 4, 5}"
   ]
  },
  {
   "cell_type": "code",
   "execution_count": 6,
   "id": "a13dbe26",
   "metadata": {},
   "outputs": [
    {
     "data": {
      "text/plain": [
       "4"
      ]
     },
     "execution_count": 6,
     "metadata": {},
     "output_type": "execute_result"
    }
   ],
   "source": [
    "len(b)"
   ]
  },
  {
   "cell_type": "code",
   "execution_count": 7,
   "id": "93f31451",
   "metadata": {},
   "outputs": [],
   "source": [
    "c = \"Data Science\""
   ]
  },
  {
   "cell_type": "code",
   "execution_count": 9,
   "id": "007f1142",
   "metadata": {},
   "outputs": [
    {
     "data": {
      "text/plain": [
       "12"
      ]
     },
     "execution_count": 9,
     "metadata": {},
     "output_type": "execute_result"
    }
   ],
   "source": [
    "len(c)"
   ]
  },
  {
   "cell_type": "markdown",
   "id": "b0a6d80c",
   "metadata": {},
   "source": [
    "## Min and Max\n",
    "\n",
    "### Min\n",
    "If strings are provided as parameters, this function computes the lexicographically lowest value and the minimum of the values sent in as arguments."
   ]
  },
  {
   "cell_type": "code",
   "execution_count": 1,
   "id": "372503b8",
   "metadata": {},
   "outputs": [],
   "source": [
    "a  = [1, 2, 3, 4, 5, 6]"
   ]
  },
  {
   "cell_type": "code",
   "execution_count": 10,
   "id": "052c974e",
   "metadata": {},
   "outputs": [
    {
     "data": {
      "text/plain": [
       "1"
      ]
     },
     "execution_count": 10,
     "metadata": {},
     "output_type": "execute_result"
    }
   ],
   "source": [
    "min(a)"
   ]
  },
  {
   "cell_type": "markdown",
   "id": "acec5e9f",
   "metadata": {},
   "source": [
    "### Max\n",
    "If strings are provided as parameters, this function computes the lexicographically highest value and the maximum of the values sent in as arguments."
   ]
  },
  {
   "cell_type": "code",
   "execution_count": 1,
   "id": "9f1a34a5",
   "metadata": {},
   "outputs": [],
   "source": [
    "b  = [1, 2, 10, 4, 5, 6]"
   ]
  },
  {
   "cell_type": "code",
   "execution_count": 2,
   "id": "03a19445",
   "metadata": {},
   "outputs": [
    {
     "data": {
      "text/plain": [
       "10"
      ]
     },
     "execution_count": 2,
     "metadata": {},
     "output_type": "execute_result"
    }
   ],
   "source": [
    "max(b)"
   ]
  },
  {
   "cell_type": "code",
   "execution_count": 11,
   "id": "9ec998eb",
   "metadata": {},
   "outputs": [],
   "source": [
    "ds = \"Data Science\""
   ]
  },
  {
   "cell_type": "code",
   "execution_count": 12,
   "id": "461aef52",
   "metadata": {},
   "outputs": [
    {
     "data": {
      "text/plain": [
       "'t'"
      ]
     },
     "execution_count": 12,
     "metadata": {},
     "output_type": "execute_result"
    }
   ],
   "source": [
    "max(ds)"
   ]
  },
  {
   "cell_type": "markdown",
   "id": "92a78d55",
   "metadata": {},
   "source": [
    "## Count\n",
    "The count() method returns the number of elements with the specified value."
   ]
  },
  {
   "cell_type": "code",
   "execution_count": 7,
   "id": "61cd2de2",
   "metadata": {},
   "outputs": [],
   "source": [
    "num = (1, 2, 3, 4, 5, 5, 6, 6, 7)"
   ]
  },
  {
   "cell_type": "code",
   "execution_count": 10,
   "id": "912299df",
   "metadata": {},
   "outputs": [
    {
     "data": {
      "text/plain": [
       "2"
      ]
     },
     "execution_count": 10,
     "metadata": {},
     "output_type": "execute_result"
    }
   ],
   "source": [
    "num.count(6)"
   ]
  },
  {
   "cell_type": "code",
   "execution_count": 3,
   "id": "4d1584a6",
   "metadata": {},
   "outputs": [],
   "source": [
    "a  = [1, 2, 3, 3, 3, 4, 5, 6]"
   ]
  },
  {
   "cell_type": "code",
   "execution_count": 4,
   "id": "d294ad4c",
   "metadata": {},
   "outputs": [
    {
     "data": {
      "text/plain": [
       "3"
      ]
     },
     "execution_count": 4,
     "metadata": {},
     "output_type": "execute_result"
    }
   ],
   "source": [
    "a.count(3)"
   ]
  },
  {
   "cell_type": "code",
   "execution_count": 5,
   "id": "6e8546ae",
   "metadata": {},
   "outputs": [],
   "source": [
    "ds = \"Data Science\""
   ]
  },
  {
   "cell_type": "code",
   "execution_count": 6,
   "id": "480d5247",
   "metadata": {},
   "outputs": [
    {
     "data": {
      "text/plain": [
       "2"
      ]
     },
     "execution_count": 6,
     "metadata": {},
     "output_type": "execute_result"
    }
   ],
   "source": [
    "ds.count(\"e\")"
   ]
  },
  {
   "cell_type": "markdown",
   "id": "ba1fdf8c",
   "metadata": {},
   "source": [
    "## Join\n",
    "There are several ways to join, or concatenate, two or more lists in Python.\n",
    "Using the + operator is one of the simplest methods."
   ]
  },
  {
   "cell_type": "code",
   "execution_count": 24,
   "id": "78850285",
   "metadata": {},
   "outputs": [],
   "source": [
    "num = (\"one\", \"two\", \"three\", \"four\")\n",
    "num2 = (2, 3, 4, 5, 6, 7, 7)"
   ]
  },
  {
   "cell_type": "code",
   "execution_count": 31,
   "id": "4942d7a8",
   "metadata": {},
   "outputs": [],
   "source": [
    "fixed_num1 = num + num2"
   ]
  },
  {
   "cell_type": "code",
   "execution_count": 32,
   "id": "b6cd3ac0",
   "metadata": {},
   "outputs": [
    {
     "name": "stdout",
     "output_type": "stream",
     "text": [
      "('one', 'two', 'three', 'four', 2, 3, 4, 5, 6, 7, 7)\n"
     ]
    }
   ],
   "source": [
    "print(fixed_num1)"
   ]
  },
  {
   "cell_type": "code",
   "execution_count": 38,
   "id": "c334affb",
   "metadata": {},
   "outputs": [],
   "source": [
    "num = [\"one\", \"two\", \"three\", \"four\"]\n",
    "num2 = [2, 3, 4, 5, 6, 7, 7]"
   ]
  },
  {
   "cell_type": "code",
   "execution_count": 39,
   "id": "a4e03733",
   "metadata": {},
   "outputs": [],
   "source": [
    "fixed_num2 = num + num2"
   ]
  },
  {
   "cell_type": "code",
   "execution_count": 40,
   "id": "1f231d37",
   "metadata": {},
   "outputs": [
    {
     "name": "stdout",
     "output_type": "stream",
     "text": [
      "['one', 'two', 'three', 'four', 2, 3, 4, 5, 6, 7, 7]\n"
     ]
    }
   ],
   "source": [
    "print(fixed_num2)"
   ]
  },
  {
   "cell_type": "code",
   "execution_count": 27,
   "id": "1e1ac145",
   "metadata": {},
   "outputs": [],
   "source": [
    "ds = \"Data Science\"\n",
    "c = \"B\""
   ]
  },
  {
   "cell_type": "code",
   "execution_count": 28,
   "id": "e2da15e9",
   "metadata": {},
   "outputs": [],
   "source": [
    "name = ds + c"
   ]
  },
  {
   "cell_type": "code",
   "execution_count": 29,
   "id": "7d78d8c4",
   "metadata": {},
   "outputs": [
    {
     "name": "stdout",
     "output_type": "stream",
     "text": [
      "Data ScienceB\n"
     ]
    }
   ],
   "source": [
    "print(name)"
   ]
  },
  {
   "cell_type": "markdown",
   "id": "7e934ae9",
   "metadata": {},
   "source": [
    "## Multiplication\n",
    "We can multiply lists, sets, and strings using the * operator just like multiplying numbers in general."
   ]
  },
  {
   "cell_type": "code",
   "execution_count": 35,
   "id": "54190a6d",
   "metadata": {},
   "outputs": [
    {
     "data": {
      "text/plain": [
       "('one',\n",
       " 'two',\n",
       " 'three',\n",
       " 'four',\n",
       " 2,\n",
       " 3,\n",
       " 4,\n",
       " 5,\n",
       " 6,\n",
       " 7,\n",
       " 7,\n",
       " 'one',\n",
       " 'two',\n",
       " 'three',\n",
       " 'four',\n",
       " 2,\n",
       " 3,\n",
       " 4,\n",
       " 5,\n",
       " 6,\n",
       " 7,\n",
       " 7)"
      ]
     },
     "execution_count": 35,
     "metadata": {},
     "output_type": "execute_result"
    }
   ],
   "source": [
    "fixed_num1 * 2"
   ]
  },
  {
   "cell_type": "code",
   "execution_count": 41,
   "id": "82e572e5",
   "metadata": {},
   "outputs": [
    {
     "data": {
      "text/plain": [
       "['one',\n",
       " 'two',\n",
       " 'three',\n",
       " 'four',\n",
       " 2,\n",
       " 3,\n",
       " 4,\n",
       " 5,\n",
       " 6,\n",
       " 7,\n",
       " 7,\n",
       " 'one',\n",
       " 'two',\n",
       " 'three',\n",
       " 'four',\n",
       " 2,\n",
       " 3,\n",
       " 4,\n",
       " 5,\n",
       " 6,\n",
       " 7,\n",
       " 7]"
      ]
     },
     "execution_count": 41,
     "metadata": {},
     "output_type": "execute_result"
    }
   ],
   "source": [
    "fixed_num2 * 2"
   ]
  },
  {
   "cell_type": "code",
   "execution_count": 44,
   "id": "f986a603",
   "metadata": {},
   "outputs": [
    {
     "data": {
      "text/plain": [
       "'Data ScienceBData ScienceBData ScienceB'"
      ]
     },
     "execution_count": 44,
     "metadata": {},
     "output_type": "execute_result"
    }
   ],
   "source": [
    "name * 3"
   ]
  },
  {
   "cell_type": "markdown",
   "id": "3ae627b0",
   "metadata": {},
   "source": [
    "## Replication\n",
    "We can replicate lists, sets, and strings using *, similar to multiplication."
   ]
  },
  {
   "cell_type": "code",
   "execution_count": 47,
   "id": "2ac1d112",
   "metadata": {},
   "outputs": [],
   "source": [
    "num = [1, 2, 3]\n",
    "rep1 = [num]*5"
   ]
  },
  {
   "cell_type": "code",
   "execution_count": 48,
   "id": "9417f4e2",
   "metadata": {
    "scrolled": true
   },
   "outputs": [
    {
     "name": "stdout",
     "output_type": "stream",
     "text": [
      "[[1, 2, 3], [1, 2, 3], [1, 2, 3], [1, 2, 3], [1, 2, 3]]\n"
     ]
    }
   ],
   "source": [
    "print(rep1)"
   ]
  },
  {
   "cell_type": "code",
   "execution_count": 50,
   "id": "9958bb7f",
   "metadata": {},
   "outputs": [],
   "source": [
    "num = (3, 4, 6)\n",
    "rep2 = [num]*5"
   ]
  },
  {
   "cell_type": "code",
   "execution_count": 51,
   "id": "fde1007c",
   "metadata": {
    "scrolled": true
   },
   "outputs": [
    {
     "name": "stdout",
     "output_type": "stream",
     "text": [
      "[(3, 4, 6), (3, 4, 6), (3, 4, 6), (3, 4, 6), (3, 4, 6)]\n"
     ]
    }
   ],
   "source": [
    "print(rep2)"
   ]
  },
  {
   "cell_type": "code",
   "execution_count": 54,
   "id": "09fdd1d4",
   "metadata": {},
   "outputs": [],
   "source": [
    "ds = \"data science\"\n",
    "rep3 = [ds]*5"
   ]
  },
  {
   "cell_type": "code",
   "execution_count": 55,
   "id": "26f64e8f",
   "metadata": {
    "scrolled": true
   },
   "outputs": [
    {
     "name": "stdout",
     "output_type": "stream",
     "text": [
      "['data science', 'data science', 'data science', 'data science', 'data science']\n"
     ]
    }
   ],
   "source": [
    "print(rep3)"
   ]
  },
  {
   "cell_type": "markdown",
   "id": "61c6b66d",
   "metadata": {},
   "source": [
    "## Range\n",
    "The range() function returns a sequence of numbers.\n",
    "\n",
    "* Starting from 0 by default\n",
    "* Increments by 1 (by default)\n",
    "* Stops before a specified number [i - 1]\n",
    "\n",
    "Syntax:"
   ]
  },
  {
   "cell_type": "code",
   "execution_count": null,
   "id": "519e02c5",
   "metadata": {},
   "outputs": [],
   "source": [
    "range(start, stop, step)"
   ]
  },
  {
   "cell_type": "code",
   "execution_count": 30,
   "id": "66ced94e",
   "metadata": {},
   "outputs": [
    {
     "name": "stdout",
     "output_type": "stream",
     "text": [
      "0\n",
      "1\n",
      "2\n",
      "3\n",
      "4\n"
     ]
    }
   ],
   "source": [
    "for i in range(5): #start\n",
    "    print(i)"
   ]
  },
  {
   "cell_type": "code",
   "execution_count": 31,
   "id": "6dbfc4dc",
   "metadata": {},
   "outputs": [
    {
     "name": "stdout",
     "output_type": "stream",
     "text": [
      "1\n",
      "2\n",
      "3\n",
      "4\n",
      "5\n",
      "6\n",
      "7\n",
      "8\n",
      "9\n"
     ]
    }
   ],
   "source": [
    "for i in range(1, 10): #start, stop\n",
    "    print(i)"
   ]
  },
  {
   "cell_type": "code",
   "execution_count": 32,
   "id": "80a1fc29",
   "metadata": {},
   "outputs": [
    {
     "name": "stdout",
     "output_type": "stream",
     "text": [
      "2\n",
      "4\n",
      "6\n",
      "8\n",
      "10\n",
      "12\n",
      "14\n"
     ]
    }
   ],
   "source": [
    "for i in range(2, 15, 2): #start, stop, step\n",
    "    print(i)"
   ]
  },
  {
   "cell_type": "markdown",
   "id": "6646f176",
   "metadata": {},
   "source": [
    "## In\n",
    "The in operator used to check if an element is found in the iterable. The in operator returns True if an element is found. It returns False if not."
   ]
  },
  {
   "cell_type": "code",
   "execution_count": 33,
   "id": "c401112a",
   "metadata": {},
   "outputs": [],
   "source": [
    "#in dan not in\n",
    "kita = \"aku dan kamu\""
   ]
  },
  {
   "cell_type": "code",
   "execution_count": 34,
   "id": "6515d9fe",
   "metadata": {},
   "outputs": [
    {
     "data": {
      "text/plain": [
       "True"
      ]
     },
     "execution_count": 34,
     "metadata": {},
     "output_type": "execute_result"
    }
   ],
   "source": [
    "\"aku\" in kita"
   ]
  },
  {
   "cell_type": "code",
   "execution_count": 35,
   "id": "1b6a9ef8",
   "metadata": {},
   "outputs": [
    {
     "data": {
      "text/plain": [
       "False"
      ]
     },
     "execution_count": 35,
     "metadata": {},
     "output_type": "execute_result"
    }
   ],
   "source": [
    "\"dia\" in kita"
   ]
  },
  {
   "cell_type": "markdown",
   "id": "24d08a7c",
   "metadata": {},
   "source": [
    "## Not In\n",
    "The not in operator used to check if an element is not found in the iterable. The in operator returns True if an element is not found. It returns False if found."
   ]
  },
  {
   "cell_type": "code",
   "execution_count": 36,
   "id": "2467f1ad",
   "metadata": {
    "scrolled": true
   },
   "outputs": [
    {
     "data": {
      "text/plain": [
       "True"
      ]
     },
     "execution_count": 36,
     "metadata": {},
     "output_type": "execute_result"
    }
   ],
   "source": [
    "\"dia\" not in kita"
   ]
  },
  {
   "cell_type": "markdown",
   "id": "9b1bbf42",
   "metadata": {},
   "source": [
    "## Multiple Variable\n",
    "Python allows you to assign values to multiple variables in one line"
   ]
  },
  {
   "cell_type": "code",
   "execution_count": 2,
   "id": "7e4545cf",
   "metadata": {},
   "outputs": [],
   "source": [
    "book = [\"A Little Life\", \"Inggris\", 748, 250000]"
   ]
  },
  {
   "cell_type": "code",
   "execution_count": 3,
   "id": "e35644e1",
   "metadata": {},
   "outputs": [],
   "source": [
    "title, lang, page, price = book"
   ]
  },
  {
   "cell_type": "code",
   "execution_count": 4,
   "id": "8b2ec1df",
   "metadata": {},
   "outputs": [
    {
     "name": "stdout",
     "output_type": "stream",
     "text": [
      "A Little Life\n",
      "Inggris\n",
      "748\n",
      "250000\n"
     ]
    }
   ],
   "source": [
    "print(title)\n",
    "print(lang)\n",
    "print(page)\n",
    "print(price)"
   ]
  },
  {
   "cell_type": "code",
   "execution_count": 17,
   "id": "4877f125",
   "metadata": {},
   "outputs": [],
   "source": [
    "ego, percaya_diri = \"tinggi\", \"rendah\""
   ]
  },
  {
   "cell_type": "code",
   "execution_count": 25,
   "id": "75189896",
   "metadata": {},
   "outputs": [],
   "source": [
    "percaya_diri, ego = ego, percaya_diri"
   ]
  },
  {
   "cell_type": "code",
   "execution_count": 26,
   "id": "59e559c9",
   "metadata": {},
   "outputs": [
    {
     "data": {
      "text/plain": [
       "'tinggi'"
      ]
     },
     "execution_count": 26,
     "metadata": {},
     "output_type": "execute_result"
    }
   ],
   "source": [
    "ego"
   ]
  },
  {
   "cell_type": "code",
   "execution_count": 27,
   "id": "e3abd484",
   "metadata": {},
   "outputs": [
    {
     "data": {
      "text/plain": [
       "'rendah'"
      ]
     },
     "execution_count": 27,
     "metadata": {},
     "output_type": "execute_result"
    }
   ],
   "source": [
    "pede"
   ]
  },
  {
   "cell_type": "markdown",
   "id": "495bf8ac",
   "metadata": {},
   "source": [
    "## Sort\n",
    "The sort() method sorts the list ascending by default.\n",
    "You can also make a function to decide the sorting criteria(s)."
   ]
  },
  {
   "cell_type": "code",
   "execution_count": 28,
   "id": "ae80da29",
   "metadata": {},
   "outputs": [],
   "source": [
    "nilai = [90, 80, 60, 30, 50]"
   ]
  },
  {
   "cell_type": "code",
   "execution_count": 29,
   "id": "e2e68aef",
   "metadata": {},
   "outputs": [],
   "source": [
    "nilai.sort()"
   ]
  },
  {
   "cell_type": "code",
   "execution_count": 30,
   "id": "14c05315",
   "metadata": {},
   "outputs": [
    {
     "name": "stdout",
     "output_type": "stream",
     "text": [
      "[30, 50, 60, 80, 90]\n"
     ]
    }
   ],
   "source": [
    "print(nilai)"
   ]
  },
  {
   "cell_type": "code",
   "execution_count": 34,
   "id": "3578667a",
   "metadata": {},
   "outputs": [],
   "source": [
    "siswa = [\"azkia\", \"arnes\", \"nabila\", \"Vega\", \"Arini\"]"
   ]
  },
  {
   "cell_type": "code",
   "execution_count": 35,
   "id": "39959e76",
   "metadata": {},
   "outputs": [],
   "source": [
    "siswa.sort(key = str.lower) #lowercase"
   ]
  },
  {
   "cell_type": "code",
   "execution_count": 36,
   "id": "d8d765f9",
   "metadata": {},
   "outputs": [
    {
     "name": "stdout",
     "output_type": "stream",
     "text": [
      "['Arini', 'arnes', 'azkia', 'nabila', 'Vega']\n"
     ]
    }
   ],
   "source": [
    "print(siswa)"
   ]
  },
  {
   "cell_type": "code",
   "execution_count": 9,
   "id": "2393a895",
   "metadata": {},
   "outputs": [],
   "source": [
    "age = [21, 20, 20, 23, 18]"
   ]
  },
  {
   "cell_type": "code",
   "execution_count": 10,
   "id": "28ea8e69",
   "metadata": {},
   "outputs": [],
   "source": [
    "age.sort()"
   ]
  },
  {
   "cell_type": "code",
   "execution_count": 11,
   "id": "521b8535",
   "metadata": {},
   "outputs": [
    {
     "name": "stdout",
     "output_type": "stream",
     "text": [
      "[18, 20, 20, 21, 23]\n"
     ]
    }
   ],
   "source": [
    "print(age)"
   ]
  },
  {
   "cell_type": "code",
   "execution_count": 12,
   "id": "3acc0231",
   "metadata": {},
   "outputs": [],
   "source": [
    "age.sort(reverse=True)"
   ]
  },
  {
   "cell_type": "code",
   "execution_count": 13,
   "id": "b4855f4d",
   "metadata": {},
   "outputs": [
    {
     "name": "stdout",
     "output_type": "stream",
     "text": [
      "[23, 21, 20, 20, 18]\n"
     ]
    }
   ],
   "source": [
    "print(age)"
   ]
  }
 ],
 "metadata": {
  "kernelspec": {
   "display_name": "Python 3 (ipykernel)",
   "language": "python",
   "name": "python3"
  },
  "language_info": {
   "codemirror_mode": {
    "name": "ipython",
    "version": 3
   },
   "file_extension": ".py",
   "mimetype": "text/x-python",
   "name": "python",
   "nbconvert_exporter": "python",
   "pygments_lexer": "ipython3",
   "version": "3.9.12"
  }
 },
 "nbformat": 4,
 "nbformat_minor": 5
}
