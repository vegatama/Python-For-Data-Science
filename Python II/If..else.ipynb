{
 "cells": [
  {
   "cell_type": "markdown",
   "id": "f0124efe",
   "metadata": {},
   "source": [
    "## Conditional Expression\n",
    "\n",
    "These conditions can be used in several ways, most commonly in \"if statements\" and loops.\n",
    "\n",
    "### If\n",
    "\n",
    "An \"if statement\" is written by using the if keyword.\n"
   ]
  },
  {
   "cell_type": "code",
   "execution_count": 3,
   "id": "d60878b5",
   "metadata": {},
   "outputs": [
    {
     "name": "stdout",
     "output_type": "stream",
     "text": [
      "b is greater than a\n"
     ]
    }
   ],
   "source": [
    "a = 10\n",
    "b = 20\n",
    "if b > a:\n",
    "  print(\"b is greater than a\")"
   ]
  },
  {
   "cell_type": "markdown",
   "id": "5e532a11",
   "metadata": {},
   "source": [
    "In this example we use two variables, a and b, which are used as part of the if statement to test whether b is greater than a. As a is 10, and b is 20, we know that 20 is greater than 10, and so we print to screen that \"b is greater than a\".\n",
    "\n",
    "### Indentation\n",
    "Python relies on indentation (whitespace at the beginning of a line) to define scope in the code."
   ]
  },
  {
   "cell_type": "code",
   "execution_count": 4,
   "id": "6bdaa31f",
   "metadata": {},
   "outputs": [
    {
     "ename": "IndentationError",
     "evalue": "expected an indented block (3635450397.py, line 4)",
     "output_type": "error",
     "traceback": [
      "\u001b[1;36m  Input \u001b[1;32mIn [4]\u001b[1;36m\u001b[0m\n\u001b[1;33m    print(\"b is greater than a\")\u001b[0m\n\u001b[1;37m    ^\u001b[0m\n\u001b[1;31mIndentationError\u001b[0m\u001b[1;31m:\u001b[0m expected an indented block\n"
     ]
    }
   ],
   "source": [
    "a = 10\n",
    "b = 20\n",
    "if b > a:\n",
    "print(\"b is greater than a\")"
   ]
  },
  {
   "cell_type": "markdown",
   "id": "a8510f3e",
   "metadata": {},
   "source": [
    "If statement, without indentation will raise an error."
   ]
  },
  {
   "cell_type": "markdown",
   "id": "3d49c680",
   "metadata": {},
   "source": [
    "### Else\n",
    "\n",
    "The else keyword catches anything which isn't caught by the preceding conditions."
   ]
  },
  {
   "cell_type": "code",
   "execution_count": 5,
   "id": "709b2546",
   "metadata": {},
   "outputs": [
    {
     "name": "stdout",
     "output_type": "stream",
     "text": [
      "Age: 17\n",
      "ID Card is available.\n"
     ]
    }
   ],
   "source": [
    "age = int(input(\"Age: \"))\n",
    "\n",
    "if age >= 17:\n",
    "    print(\"ID Card is available.\")\n",
    "else:\n",
    "    print(\"ID Card is not available.\")"
   ]
  },
  {
   "cell_type": "markdown",
   "id": "5507b832",
   "metadata": {},
   "source": [
    "### Elif\n",
    "\n",
    "The elif keyword is pythons way of saying \"if the previous conditions were not true, then try this condition\"."
   ]
  },
  {
   "cell_type": "code",
   "execution_count": 6,
   "id": "fa655504",
   "metadata": {},
   "outputs": [
    {
     "name": "stdout",
     "output_type": "stream",
     "text": [
      "Input score: 78\n",
      "Your grade is B\n"
     ]
    }
   ],
   "source": [
    "score = int(input(\"Input score: \"))\n",
    "\n",
    "if score >= 80:\n",
    "    print(\"Your grade is A\")\n",
    "elif score >= 60:\n",
    "    print(\"Your grade is B\")\n",
    "else:\n",
    "    print(\"Your grade is C\")"
   ]
  }
 ],
 "metadata": {
  "kernelspec": {
   "display_name": "Python 3 (ipykernel)",
   "language": "python",
   "name": "python3"
  },
  "language_info": {
   "codemirror_mode": {
    "name": "ipython",
    "version": 3
   },
   "file_extension": ".py",
   "mimetype": "text/x-python",
   "name": "python",
   "nbconvert_exporter": "python",
   "pygments_lexer": "ipython3",
   "version": "3.9.12"
  }
 },
 "nbformat": 4,
 "nbformat_minor": 5
}
