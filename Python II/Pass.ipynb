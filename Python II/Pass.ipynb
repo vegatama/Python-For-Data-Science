{
 "cells": [
  {
   "cell_type": "markdown",
   "id": "3c1a8a13",
   "metadata": {},
   "source": [
    "# Pass\n",
    "The pass statement is used as a placeholder for future code.\n",
    "\n",
    "When the pass statement is executed, nothing happens, but you avoid getting an error when empty code is not allowed.\n",
    "\n",
    "Empty code is not allowed in loops, function definitions, class definitions, or in if statements."
   ]
  },
  {
   "cell_type": "markdown",
   "id": "c6e129b0",
   "metadata": {},
   "source": [
    "### Case Example"
   ]
  },
  {
   "cell_type": "code",
   "execution_count": 2,
   "id": "9c458c40",
   "metadata": {},
   "outputs": [
    {
     "name": "stdout",
     "output_type": "stream",
     "text": [
      "earn: 4\n",
      "get numbers 4\n",
      "earn: z\n"
     ]
    },
    {
     "ename": "ValueError",
     "evalue": "invalid literal for int() with base 10: 'z'",
     "output_type": "error",
     "traceback": [
      "\u001b[1;31m---------------------------------------------------------------------------\u001b[0m",
      "\u001b[1;31mValueError\u001b[0m                                Traceback (most recent call last)",
      "\u001b[1;32m~\\AppData\\Local\\Temp/ipykernel_7620/3322209184.py\u001b[0m in \u001b[0;36m<module>\u001b[1;34m\u001b[0m\n\u001b[0;32m      3\u001b[0m \u001b[1;32mwhile\u001b[0m\u001b[1;33m(\u001b[0m\u001b[0mn\u001b[0m \u001b[1;33m!=\u001b[0m \u001b[1;34m\"z\"\u001b[0m\u001b[1;33m)\u001b[0m\u001b[1;33m:\u001b[0m\u001b[1;33m\u001b[0m\u001b[1;33m\u001b[0m\u001b[0m\n\u001b[0;32m      4\u001b[0m     \u001b[0mn\u001b[0m \u001b[1;33m=\u001b[0m \u001b[1;33m(\u001b[0m\u001b[0minput\u001b[0m\u001b[1;33m(\u001b[0m\u001b[1;34m\"earn: \"\u001b[0m\u001b[1;33m)\u001b[0m\u001b[1;33m)\u001b[0m\u001b[1;33m\u001b[0m\u001b[1;33m\u001b[0m\u001b[0m\n\u001b[1;32m----> 5\u001b[1;33m     \u001b[0mprint\u001b[0m\u001b[1;33m(\u001b[0m\u001b[1;34m\"get numbers {}\"\u001b[0m\u001b[1;33m.\u001b[0m\u001b[0mformat\u001b[0m\u001b[1;33m(\u001b[0m\u001b[0mint\u001b[0m\u001b[1;33m(\u001b[0m\u001b[0mn\u001b[0m\u001b[1;33m)\u001b[0m\u001b[1;33m)\u001b[0m\u001b[1;33m)\u001b[0m\u001b[1;33m\u001b[0m\u001b[1;33m\u001b[0m\u001b[0m\n\u001b[0m",
      "\u001b[1;31mValueError\u001b[0m: invalid literal for int() with base 10: 'z'"
     ]
    }
   ],
   "source": [
    "n = \"\"\n",
    "\n",
    "while(n != \"z\"):\n",
    "    n = (input(\"earn: \"))\n",
    "    print(\"get numbers {}\".format(int(n)))"
   ]
  },
  {
   "cell_type": "markdown",
   "id": "abcb12e2",
   "metadata": {},
   "source": [
    "if the code above get input of number it will print get numbers and if it get input of a character or string it will show an error of Value.\n",
    "\n",
    "we can use pass statement to avoid getting error for a certain condition, see the code below:"
   ]
  },
  {
   "cell_type": "code",
   "execution_count": 4,
   "id": "3286485c",
   "metadata": {},
   "outputs": [
    {
     "name": "stdout",
     "output_type": "stream",
     "text": [
      "earn: 1\n",
      "get numbers 1\n",
      "earn: lala\n",
      "get error <class 'ValueError'>\n",
      "earn: z\n"
     ]
    }
   ],
   "source": [
    "import sys\n",
    "\n",
    "n = ''\n",
    "\n",
    "while(n != \"z\"):\n",
    "    try:\n",
    "        n = (input(\"earn: \"))\n",
    "        print(\"get numbers {}\".format(int(n)))\n",
    "    except:\n",
    "        if n == 'z':\n",
    "            pass\n",
    "        else:\n",
    "            print(\"get error {}\".format(sys.exc_info()[0]))"
   ]
  },
  {
   "cell_type": "markdown",
   "id": "c1ecfa89",
   "metadata": {},
   "source": [
    "the code above have the same fuction as the previous code but it will not return an error if the input is a 'z' character."
   ]
  }
 ],
 "metadata": {
  "kernelspec": {
   "display_name": "Python 3 (ipykernel)",
   "language": "python",
   "name": "python3"
  },
  "language_info": {
   "codemirror_mode": {
    "name": "ipython",
    "version": 3
   },
   "file_extension": ".py",
   "mimetype": "text/x-python",
   "name": "python",
   "nbconvert_exporter": "python",
   "pygments_lexer": "ipython3",
   "version": "3.9.12"
  }
 },
 "nbformat": 4,
 "nbformat_minor": 5
}
