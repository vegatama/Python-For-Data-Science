{
 "cells": [
  {
   "cell_type": "markdown",
   "id": "8772b59a",
   "metadata": {},
   "source": [
    "## While\n",
    "\n",
    "With the while loop we can execute a set of statements as long as a condition is true."
   ]
  },
  {
   "cell_type": "code",
   "execution_count": 3,
   "id": "4b3b3229",
   "metadata": {},
   "outputs": [
    {
     "name": "stdout",
     "output_type": "stream",
     "text": [
      "1\n",
      "2\n",
      "3\n",
      "4\n",
      "5\n"
     ]
    }
   ],
   "source": [
    "i = 1\n",
    "while i < 6:\n",
    "    print(i)\n",
    "    i += 1"
   ]
  },
  {
   "cell_type": "code",
   "execution_count": 3,
   "id": "f0ccd28d",
   "metadata": {},
   "outputs": [
    {
     "name": "stdout",
     "output_type": "stream",
     "text": [
      "1\n",
      "Number 1\n",
      "Number 2\n",
      "Number 4\n",
      "Number 8\n"
     ]
    }
   ],
   "source": [
    "num = int(input())\n",
    "\n",
    "while (num < 10):\n",
    "    print(\"Number {}\".format(num))\n",
    "    num += num"
   ]
  },
  {
   "cell_type": "code",
   "execution_count": 6,
   "id": "c41ad843",
   "metadata": {},
   "outputs": [
    {
     "name": "stdout",
     "output_type": "stream",
     "text": [
      "2\n",
      "bilangan 4\n",
      "bilangan 6\n",
      "bilangan 8\n",
      "bilangan 10\n"
     ]
    }
   ],
   "source": [
    "angka = int(input())\n",
    "\n",
    "while (angka < 10):\n",
    "    angka += 2\n",
    "    print(\"bilangan {}\".format(angka))"
   ]
  },
  {
   "cell_type": "code",
   "execution_count": 5,
   "id": "944c3cad",
   "metadata": {},
   "outputs": [
    {
     "name": "stdout",
     "output_type": "stream",
     "text": [
      "10\n",
      "bilangan 10\n",
      "bilangan 8\n",
      "bilangan 6\n",
      "bilangan 4\n",
      "bilangan 2\n",
      "bilangan 0\n"
     ]
    }
   ],
   "source": [
    "angka = int(input())\n",
    "\n",
    "while (angka >= 0):\n",
    "    print(\"bilangan {}\".format(angka))\n",
    "    angka -= 2"
   ]
  }
 ],
 "metadata": {
  "kernelspec": {
   "display_name": "Python 3 (ipykernel)",
   "language": "python",
   "name": "python3"
  },
  "language_info": {
   "codemirror_mode": {
    "name": "ipython",
    "version": 3
   },
   "file_extension": ".py",
   "mimetype": "text/x-python",
   "name": "python",
   "nbconvert_exporter": "python",
   "pygments_lexer": "ipython3",
   "version": "3.9.12"
  }
 },
 "nbformat": 4,
 "nbformat_minor": 5
}
