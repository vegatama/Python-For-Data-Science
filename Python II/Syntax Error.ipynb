{
 "cells": [
  {
   "cell_type": "markdown",
   "id": "1101358d",
   "metadata": {},
   "source": [
    "# Syntax Error\n",
    "A syntax error is an error in the syntax of a coding or programming language, entered by a programmer. \n",
    "\n",
    "Syntax errors are caught by a software program called a compiler, and the programmer must fix them before the program is compiled and then run.\n",
    "\n",
    "Syntax errors is also known as parsing errors."
   ]
  },
  {
   "cell_type": "markdown",
   "id": "df20457f",
   "metadata": {},
   "source": [
    "### Case 1 :"
   ]
  },
  {
   "cell_type": "code",
   "execution_count": 1,
   "id": "fc82f4b4",
   "metadata": {},
   "outputs": [
    {
     "ename": "IndentationError",
     "evalue": "expected an indented block (Temp/ipykernel_3876/3556663445.py, line 2)",
     "output_type": "error",
     "traceback": [
      "\u001b[1;36m  File \u001b[1;32m\"C:\\Users\\vegat\\AppData\\Local\\Temp/ipykernel_3876/3556663445.py\"\u001b[1;36m, line \u001b[1;32m2\u001b[0m\n\u001b[1;33m    print(i)\u001b[0m\n\u001b[1;37m    ^\u001b[0m\n\u001b[1;31mIndentationError\u001b[0m\u001b[1;31m:\u001b[0m expected an indented block\n"
     ]
    }
   ],
   "source": [
    "for i in data:\n",
    "print(i)"
   ]
  },
  {
   "cell_type": "markdown",
   "id": "76c13f57",
   "metadata": {},
   "source": [
    "the code above have an indentation error, the print statement in the second line should have an indentation."
   ]
  },
  {
   "cell_type": "markdown",
   "id": "d9286846",
   "metadata": {},
   "source": [
    "### Case 2 :"
   ]
  },
  {
   "cell_type": "code",
   "execution_count": 2,
   "id": "4339937c",
   "metadata": {},
   "outputs": [
    {
     "ename": "SyntaxError",
     "evalue": "invalid syntax (Temp/ipykernel_3876/3719475686.py, line 1)",
     "output_type": "error",
     "traceback": [
      "\u001b[1;36m  File \u001b[1;32m\"C:\\Users\\vegat\\AppData\\Local\\Temp/ipykernel_3876/3719475686.py\"\u001b[1;36m, line \u001b[1;32m1\u001b[0m\n\u001b[1;33m    for i in \"data\"\u001b[0m\n\u001b[1;37m                   ^\u001b[0m\n\u001b[1;31mSyntaxError\u001b[0m\u001b[1;31m:\u001b[0m invalid syntax\n"
     ]
    }
   ],
   "source": [
    "for i in \"data\"\n",
    "    print(i)"
   ]
  },
  {
   "cell_type": "markdown",
   "id": "2c42dd61",
   "metadata": {},
   "source": [
    "the code above have a missing (:) statement after \"data\" as parameter in for loop that make a syntax error."
   ]
  },
  {
   "cell_type": "markdown",
   "id": "d8e7a3a4",
   "metadata": {},
   "source": [
    "### Case 3 :"
   ]
  },
  {
   "cell_type": "code",
   "execution_count": 3,
   "id": "04fbf1ba",
   "metadata": {},
   "outputs": [
    {
     "ename": "SyntaxError",
     "evalue": "invalid syntax (Temp/ipykernel_3876/2395476427.py, line 1)",
     "output_type": "error",
     "traceback": [
      "\u001b[1;36m  File \u001b[1;32m\"C:\\Users\\vegat\\AppData\\Local\\Temp/ipykernel_3876/2395476427.py\"\u001b[1;36m, line \u001b[1;32m1\u001b[0m\n\u001b[1;33m    for i inside \"data\":\u001b[0m\n\u001b[1;37m          ^\u001b[0m\n\u001b[1;31mSyntaxError\u001b[0m\u001b[1;31m:\u001b[0m invalid syntax\n"
     ]
    }
   ],
   "source": [
    "for i inside \"data\":\n",
    "    print(i)"
   ]
  },
  {
   "cell_type": "markdown",
   "id": "e0e91ebe",
   "metadata": {},
   "source": [
    "the code above have a invalid syntax, inside statement in the for loop is invalid so the statement should changed to in statement."
   ]
  },
  {
   "cell_type": "markdown",
   "id": "165fe7c1",
   "metadata": {},
   "source": [
    "### Case 4 :"
   ]
  },
  {
   "cell_type": "code",
   "execution_count": 6,
   "id": "2909cb37",
   "metadata": {},
   "outputs": [
    {
     "ename": "SyntaxError",
     "evalue": "invalid syntax (Temp/ipykernel_3876/3854336200.py, line 1)",
     "output_type": "error",
     "traceback": [
      "\u001b[1;36m  File \u001b[1;32m\"C:\\Users\\vegat\\AppData\\Local\\Temp/ipykernel_3876/3854336200.py\"\u001b[1;36m, line \u001b[1;32m1\u001b[0m\n\u001b[1;33m    for i y in \"data\":\u001b[0m\n\u001b[1;37m          ^\u001b[0m\n\u001b[1;31mSyntaxError\u001b[0m\u001b[1;31m:\u001b[0m invalid syntax\n"
     ]
    }
   ],
   "source": [
    "for i y in \"data\":\n",
    "    print(i)"
   ]
  },
  {
   "cell_type": "markdown",
   "id": "9a45dfb0",
   "metadata": {},
   "source": [
    "the code above have a invalid syntax, y statement in the for loop must be deleted so the program can run."
   ]
  }
 ],
 "metadata": {
  "kernelspec": {
   "display_name": "Python 3 (ipykernel)",
   "language": "python",
   "name": "python3"
  },
  "language_info": {
   "codemirror_mode": {
    "name": "ipython",
    "version": 3
   },
   "file_extension": ".py",
   "mimetype": "text/x-python",
   "name": "python",
   "nbconvert_exporter": "python",
   "pygments_lexer": "ipython3",
   "version": "3.9.12"
  }
 },
 "nbformat": 4,
 "nbformat_minor": 5
}
