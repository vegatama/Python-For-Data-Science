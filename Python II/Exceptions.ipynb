{
 "cells": [
  {
   "cell_type": "markdown",
   "id": "6b30fe8b",
   "metadata": {},
   "source": [
    "# Exceptions\n",
    "Even if a statement or expression is syntactically correct, it may cause an error when an attempt is made to execute it. \n",
    "\n",
    "Errors detected during execution are called exceptions and are not unconditionally fatal.\n",
    "\n",
    "Exeption in python shows 3 type of error;"
   ]
  },
  {
   "cell_type": "markdown",
   "id": "5ce0e960",
   "metadata": {},
   "source": [
    "### NameError\n",
    "NameErrors are raised when your code refers to a name that does not exist in the current scope."
   ]
  },
  {
   "cell_type": "code",
   "execution_count": 2,
   "id": "159a931c",
   "metadata": {},
   "outputs": [
    {
     "ename": "NameError",
     "evalue": "name 'data' is not defined",
     "output_type": "error",
     "traceback": [
      "\u001b[1;31m---------------------------------------------------------------------------\u001b[0m",
      "\u001b[1;31mNameError\u001b[0m                                 Traceback (most recent call last)",
      "\u001b[1;32m~\\AppData\\Local\\Temp/ipykernel_4488/3534389838.py\u001b[0m in \u001b[0;36m<module>\u001b[1;34m\u001b[0m\n\u001b[0;32m      1\u001b[0m \u001b[1;32mfor\u001b[0m \u001b[0mi\u001b[0m \u001b[1;32min\u001b[0m \u001b[0mrange\u001b[0m\u001b[1;33m(\u001b[0m\u001b[1;36m9\u001b[0m\u001b[1;33m)\u001b[0m\u001b[1;33m:\u001b[0m\u001b[1;33m\u001b[0m\u001b[1;33m\u001b[0m\u001b[0m\n\u001b[1;32m----> 2\u001b[1;33m     \u001b[0mdata\u001b[0m\u001b[1;33m(\u001b[0m\u001b[0mi\u001b[0m\u001b[1;33m)\u001b[0m\u001b[1;33m\u001b[0m\u001b[1;33m\u001b[0m\u001b[0m\n\u001b[0m",
      "\u001b[1;31mNameError\u001b[0m: name 'data' is not defined"
     ]
    }
   ],
   "source": [
    "for i in range(9):\n",
    "    data(i)"
   ]
  },
  {
   "cell_type": "markdown",
   "id": "b35041db",
   "metadata": {},
   "source": [
    "the code above have a name error because the code acces data variable that not yet defined."
   ]
  },
  {
   "cell_type": "markdown",
   "id": "b75fb1a4",
   "metadata": {},
   "source": [
    "### ZeroDivisionError\n",
    "A ZeroDivisionError is raised when you try to divide by 0. This is part of the ArithmeticError Exception class."
   ]
  },
  {
   "cell_type": "code",
   "execution_count": 3,
   "id": "637154c7",
   "metadata": {},
   "outputs": [
    {
     "ename": "ZeroDivisionError",
     "evalue": "division by zero",
     "output_type": "error",
     "traceback": [
      "\u001b[1;31m---------------------------------------------------------------------------\u001b[0m",
      "\u001b[1;31mZeroDivisionError\u001b[0m                         Traceback (most recent call last)",
      "\u001b[1;32m~\\AppData\\Local\\Temp/ipykernel_5944/2107999620.py\u001b[0m in \u001b[0;36m<module>\u001b[1;34m\u001b[0m\n\u001b[1;32m----> 1\u001b[1;33m \u001b[0msum\u001b[0m\u001b[1;33m(\u001b[0m\u001b[1;36m1\u001b[0m\u001b[1;33m,\u001b[0m \u001b[1;36m2\u001b[0m\u001b[1;33m/\u001b[0m\u001b[1;36m0\u001b[0m\u001b[1;33m)\u001b[0m\u001b[1;33m\u001b[0m\u001b[1;33m\u001b[0m\u001b[0m\n\u001b[0m",
      "\u001b[1;31mZeroDivisionError\u001b[0m: division by zero"
     ]
    }
   ],
   "source": [
    "sum(1, 2/0)"
   ]
  },
  {
   "cell_type": "markdown",
   "id": "d62459a0",
   "metadata": {},
   "source": [
    "the code above have a ZeroDivisionError because number that division by zero that can't be measured."
   ]
  },
  {
   "cell_type": "markdown",
   "id": "45b54db7",
   "metadata": {},
   "source": [
    "### TypeError\n",
    "TypeError is an exception in Python programming language that occurs when the data type of objects in an operation is inappropriate."
   ]
  },
  {
   "cell_type": "code",
   "execution_count": 1,
   "id": "f7527aab",
   "metadata": {},
   "outputs": [
    {
     "ename": "TypeError",
     "evalue": "can only concatenate str (not \"int\") to str",
     "output_type": "error",
     "traceback": [
      "\u001b[1;31m---------------------------------------------------------------------------\u001b[0m",
      "\u001b[1;31mTypeError\u001b[0m                                 Traceback (most recent call last)",
      "\u001b[1;32m~\\AppData\\Local\\Temp/ipykernel_4488/1081333083.py\u001b[0m in \u001b[0;36m<module>\u001b[1;34m\u001b[0m\n\u001b[1;32m----> 1\u001b[1;33m \u001b[1;34m\"data\"\u001b[0m\u001b[1;33m+\u001b[0m\u001b[1;36m10\u001b[0m\u001b[1;33m\u001b[0m\u001b[1;33m\u001b[0m\u001b[0m\n\u001b[0m",
      "\u001b[1;31mTypeError\u001b[0m: can only concatenate str (not \"int\") to str"
     ]
    }
   ],
   "source": [
    "\"data\"+10"
   ]
  },
  {
   "cell_type": "markdown",
   "id": "fc468c66",
   "metadata": {},
   "source": [
    "the code above have a TypeError because a conflicting operation between string and integer data type."
   ]
  }
 ],
 "metadata": {
  "kernelspec": {
   "display_name": "Python 3 (ipykernel)",
   "language": "python",
   "name": "python3"
  },
  "language_info": {
   "codemirror_mode": {
    "name": "ipython",
    "version": 3
   },
   "file_extension": ".py",
   "mimetype": "text/x-python",
   "name": "python",
   "nbconvert_exporter": "python",
   "pygments_lexer": "ipython3",
   "version": "3.9.12"
  }
 },
 "nbformat": 4,
 "nbformat_minor": 5
}
