{
 "cells": [
  {
   "cell_type": "markdown",
   "id": "69cc7ce9",
   "metadata": {},
   "source": [
    "## Operators\n",
    "Operators are used to perform operations on variables and values.\n",
    "\n",
    "### Arithmetic Operators\n",
    "\n",
    "* \\+  :\tAddition\n",
    "* \\-  :\tSubtraction\n",
    "* \\*  :\tMultiplication\n",
    "* /\t  :  Division\t\n",
    "* %\t  :  Modulus\n",
    "* **  : Exponentiation\n",
    "* //   :\tFloor division"
   ]
  },
  {
   "cell_type": "markdown",
   "id": "e34fc100",
   "metadata": {},
   "source": [
    "#### Addition (+)"
   ]
  },
  {
   "cell_type": "code",
   "execution_count": 2,
   "id": "e8afcc74",
   "metadata": {},
   "outputs": [
    {
     "name": "stdout",
     "output_type": "stream",
     "text": [
      "4\n"
     ]
    }
   ],
   "source": [
    "print(1+3)"
   ]
  },
  {
   "cell_type": "code",
   "execution_count": 5,
   "id": "56dea0eb",
   "metadata": {},
   "outputs": [
    {
     "data": {
      "text/plain": [
       "'data'"
      ]
     },
     "execution_count": 5,
     "metadata": {},
     "output_type": "execute_result"
    }
   ],
   "source": [
    "'da' + 'ta'"
   ]
  },
  {
   "cell_type": "markdown",
   "id": "39555ae2",
   "metadata": {},
   "source": [
    "#### Subtraction (-)"
   ]
  },
  {
   "cell_type": "code",
   "execution_count": 1,
   "id": "9de7cc2f",
   "metadata": {},
   "outputs": [
    {
     "name": "stdout",
     "output_type": "stream",
     "text": [
      "-2\n"
     ]
    }
   ],
   "source": [
    "print(1-3)"
   ]
  },
  {
   "cell_type": "markdown",
   "id": "0eec6e6b",
   "metadata": {},
   "source": [
    "#### Multiplication (*)"
   ]
  },
  {
   "cell_type": "code",
   "execution_count": 2,
   "id": "838b69c4",
   "metadata": {},
   "outputs": [
    {
     "name": "stdout",
     "output_type": "stream",
     "text": [
      "3\n"
     ]
    }
   ],
   "source": [
    "print(1*3)"
   ]
  },
  {
   "cell_type": "code",
   "execution_count": 9,
   "id": "4d89067d",
   "metadata": {},
   "outputs": [
    {
     "data": {
      "text/plain": [
       "'datadatadata'"
      ]
     },
     "execution_count": 9,
     "metadata": {},
     "output_type": "execute_result"
    }
   ],
   "source": [
    "'data'*3"
   ]
  },
  {
   "cell_type": "markdown",
   "id": "bd5c86ac",
   "metadata": {},
   "source": [
    "#### Division (/)"
   ]
  },
  {
   "cell_type": "code",
   "execution_count": 3,
   "id": "00b65dd6",
   "metadata": {},
   "outputs": [
    {
     "name": "stdout",
     "output_type": "stream",
     "text": [
      "0.3333333333333333\n"
     ]
    }
   ],
   "source": [
    "print(1/3)"
   ]
  },
  {
   "cell_type": "markdown",
   "id": "16cf8213",
   "metadata": {},
   "source": [
    "#### Modulus (%)"
   ]
  },
  {
   "cell_type": "code",
   "execution_count": 5,
   "id": "eb6568f6",
   "metadata": {},
   "outputs": [
    {
     "name": "stdout",
     "output_type": "stream",
     "text": [
      "2\n"
     ]
    }
   ],
   "source": [
    "print(30%4)"
   ]
  },
  {
   "cell_type": "markdown",
   "id": "6161f9de",
   "metadata": {},
   "source": [
    "#### Exponentiation (**)"
   ]
  },
  {
   "cell_type": "code",
   "execution_count": 6,
   "id": "4410bd71",
   "metadata": {},
   "outputs": [
    {
     "name": "stdout",
     "output_type": "stream",
     "text": [
      "27\n"
     ]
    }
   ],
   "source": [
    "print(3**3)"
   ]
  },
  {
   "cell_type": "markdown",
   "id": "0ae3d504",
   "metadata": {},
   "source": [
    "#### Floor division (//)"
   ]
  },
  {
   "cell_type": "code",
   "execution_count": 7,
   "id": "52305ec4",
   "metadata": {},
   "outputs": [
    {
     "name": "stdout",
     "output_type": "stream",
     "text": [
      "14\n"
     ]
    }
   ],
   "source": [
    "print(29//2)"
   ]
  },
  {
   "cell_type": "markdown",
   "id": "148d0c0c",
   "metadata": {},
   "source": [
    "### Assignment Operators\n",
    "\n",
    "* =\n",
    "* +=\n",
    "* -=\n",
    "* *=\n",
    "* /=\n",
    "* %=\t\n",
    "* //=\n",
    "* **= \n",
    "* &= \n",
    "* |=\n",
    "* ^=\t\n",
    "* \\>>=\t\n",
    "* <<="
   ]
  },
  {
   "cell_type": "code",
   "execution_count": 21,
   "id": "56f0fcfa",
   "metadata": {},
   "outputs": [],
   "source": [
    "a = 1\n",
    "b = 2\n",
    "c = 10"
   ]
  },
  {
   "cell_type": "code",
   "execution_count": 17,
   "id": "32d30398",
   "metadata": {},
   "outputs": [
    {
     "data": {
      "text/plain": [
       "5"
      ]
     },
     "execution_count": 17,
     "metadata": {},
     "output_type": "execute_result"
    }
   ],
   "source": [
    "a += 2\n",
    "a"
   ]
  },
  {
   "cell_type": "code",
   "execution_count": 18,
   "id": "c536f96e",
   "metadata": {},
   "outputs": [
    {
     "data": {
      "text/plain": [
       "1"
      ]
     },
     "execution_count": 18,
     "metadata": {},
     "output_type": "execute_result"
    }
   ],
   "source": [
    "b -= 1\n",
    "b"
   ]
  },
  {
   "cell_type": "code",
   "execution_count": 19,
   "id": "14c459d4",
   "metadata": {},
   "outputs": [
    {
     "data": {
      "text/plain": [
       "6"
      ]
     },
     "execution_count": 19,
     "metadata": {},
     "output_type": "execute_result"
    }
   ],
   "source": [
    "b *= 6\n",
    "b"
   ]
  },
  {
   "cell_type": "code",
   "execution_count": 22,
   "id": "0ad90dc2",
   "metadata": {},
   "outputs": [
    {
     "data": {
      "text/plain": [
       "8"
      ]
     },
     "execution_count": 22,
     "metadata": {},
     "output_type": "execute_result"
    }
   ],
   "source": [
    "c -= b\n",
    "c"
   ]
  },
  {
   "cell_type": "markdown",
   "id": "ae8828d5",
   "metadata": {},
   "source": [
    "### Comparison Operators\n",
    "\n",
    "* ==\tEqual\n",
    "* !=\tNot equal\n",
    "* \\>\tGreater than\n",
    "* <\tLess than\n",
    "* \\>=\tGreater than or equal to\n",
    "* <=\tLess than or equal to"
   ]
  },
  {
   "cell_type": "code",
   "execution_count": 24,
   "id": "fa53dc2e",
   "metadata": {},
   "outputs": [
    {
     "data": {
      "text/plain": [
       "True"
      ]
     },
     "execution_count": 24,
     "metadata": {},
     "output_type": "execute_result"
    }
   ],
   "source": [
    "1 == 1"
   ]
  },
  {
   "cell_type": "code",
   "execution_count": 25,
   "id": "b2ec48f8",
   "metadata": {},
   "outputs": [
    {
     "data": {
      "text/plain": [
       "True"
      ]
     },
     "execution_count": 25,
     "metadata": {},
     "output_type": "execute_result"
    }
   ],
   "source": [
    "1 != 2"
   ]
  },
  {
   "cell_type": "code",
   "execution_count": 26,
   "id": "b257d53e",
   "metadata": {},
   "outputs": [
    {
     "data": {
      "text/plain": [
       "True"
      ]
     },
     "execution_count": 26,
     "metadata": {},
     "output_type": "execute_result"
    }
   ],
   "source": [
    "4 > 3"
   ]
  },
  {
   "cell_type": "code",
   "execution_count": 28,
   "id": "d68343df",
   "metadata": {},
   "outputs": [
    {
     "data": {
      "text/plain": [
       "False"
      ]
     },
     "execution_count": 28,
     "metadata": {},
     "output_type": "execute_result"
    }
   ],
   "source": [
    "4 < 3"
   ]
  },
  {
   "cell_type": "code",
   "execution_count": 29,
   "id": "1c2a9cf8",
   "metadata": {},
   "outputs": [
    {
     "data": {
      "text/plain": [
       "True"
      ]
     },
     "execution_count": 29,
     "metadata": {},
     "output_type": "execute_result"
    }
   ],
   "source": [
    "8 >= 3"
   ]
  },
  {
   "cell_type": "code",
   "execution_count": 30,
   "id": "8329d1af",
   "metadata": {},
   "outputs": [
    {
     "data": {
      "text/plain": [
       "False"
      ]
     },
     "execution_count": 30,
     "metadata": {},
     "output_type": "execute_result"
    }
   ],
   "source": [
    "8 <= 3"
   ]
  },
  {
   "cell_type": "markdown",
   "id": "9ecf1b5f",
   "metadata": {},
   "source": [
    "### Logical Operators\n",
    "\n",
    "* and : \tReturns True if both statements are true\n",
    "* or  :\tReturns True if one of the statements is true\n",
    "* not :\tReverse the result, returns False if the result is true\t"
   ]
  },
  {
   "cell_type": "code",
   "execution_count": 31,
   "id": "1e994057",
   "metadata": {},
   "outputs": [],
   "source": [
    "x = 1\n",
    "y = 2"
   ]
  },
  {
   "cell_type": "code",
   "execution_count": 33,
   "id": "7015a207",
   "metadata": {},
   "outputs": [
    {
     "data": {
      "text/plain": [
       "True"
      ]
     },
     "execution_count": 33,
     "metadata": {},
     "output_type": "execute_result"
    }
   ],
   "source": [
    "x == x and y == y"
   ]
  },
  {
   "cell_type": "code",
   "execution_count": 34,
   "id": "c0cd0fcd",
   "metadata": {},
   "outputs": [
    {
     "data": {
      "text/plain": [
       "True"
      ]
     },
     "execution_count": 34,
     "metadata": {},
     "output_type": "execute_result"
    }
   ],
   "source": [
    "x != x or y == y"
   ]
  },
  {
   "cell_type": "code",
   "execution_count": 35,
   "id": "a766e8e9",
   "metadata": {},
   "outputs": [
    {
     "data": {
      "text/plain": [
       "False"
      ]
     },
     "execution_count": 35,
     "metadata": {},
     "output_type": "execute_result"
    }
   ],
   "source": [
    "not(x != x or y == y)"
   ]
  },
  {
   "cell_type": "markdown",
   "id": "dd3a56f8",
   "metadata": {},
   "source": [
    "### Identity Operators\n",
    "\n",
    "* is : \tReturns True if both variables are the same object\n",
    "* is not :\tReturns True if both variables are not the same object"
   ]
  },
  {
   "cell_type": "code",
   "execution_count": 36,
   "id": "8e9b7dcc",
   "metadata": {},
   "outputs": [],
   "source": [
    "a = 4\n",
    "b = 4\n",
    "c = 7"
   ]
  },
  {
   "cell_type": "code",
   "execution_count": 37,
   "id": "6fc5f806",
   "metadata": {},
   "outputs": [
    {
     "data": {
      "text/plain": [
       "True"
      ]
     },
     "execution_count": 37,
     "metadata": {},
     "output_type": "execute_result"
    }
   ],
   "source": [
    "a is b"
   ]
  },
  {
   "cell_type": "code",
   "execution_count": 38,
   "id": "a1e2fc8c",
   "metadata": {},
   "outputs": [
    {
     "data": {
      "text/plain": [
       "True"
      ]
     },
     "execution_count": 38,
     "metadata": {},
     "output_type": "execute_result"
    }
   ],
   "source": [
    "a is not c"
   ]
  },
  {
   "cell_type": "markdown",
   "id": "f87e86e7",
   "metadata": {},
   "source": [
    "### Membership Operators\n",
    "\n",
    "* in : \tReturns True if a sequence with the specified value is present in the object\n",
    "* not in :\tReturns True if a sequence with the specified value is not present in the object"
   ]
  },
  {
   "cell_type": "code",
   "execution_count": 39,
   "id": "ec41fb82",
   "metadata": {},
   "outputs": [],
   "source": [
    "a = \"data science\""
   ]
  },
  {
   "cell_type": "code",
   "execution_count": 40,
   "id": "b3b82c8a",
   "metadata": {},
   "outputs": [
    {
     "data": {
      "text/plain": [
       "True"
      ]
     },
     "execution_count": 40,
     "metadata": {},
     "output_type": "execute_result"
    }
   ],
   "source": [
    "\"data\" in a"
   ]
  },
  {
   "cell_type": "code",
   "execution_count": 41,
   "id": "6698d337",
   "metadata": {},
   "outputs": [
    {
     "data": {
      "text/plain": [
       "True"
      ]
     },
     "execution_count": 41,
     "metadata": {},
     "output_type": "execute_result"
    }
   ],
   "source": [
    "\"azkia\" not in a"
   ]
  }
 ],
 "metadata": {
  "kernelspec": {
   "display_name": "Python 3 (ipykernel)",
   "language": "python",
   "name": "python3"
  },
  "language_info": {
   "codemirror_mode": {
    "name": "ipython",
    "version": 3
   },
   "file_extension": ".py",
   "mimetype": "text/x-python",
   "name": "python",
   "nbconvert_exporter": "python",
   "pygments_lexer": "ipython3",
   "version": "3.9.12"
  }
 },
 "nbformat": 4,
 "nbformat_minor": 5
}
