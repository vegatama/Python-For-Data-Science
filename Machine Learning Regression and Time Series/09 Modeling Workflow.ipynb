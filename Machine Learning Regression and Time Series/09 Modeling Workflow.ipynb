{
 "cells": [
  {
   "cell_type": "markdown",
   "id": "bcd2e62a",
   "metadata": {},
   "source": [
    "# Modeling Workflow\n",
    "When doing modeling in machine learning, there is another flow that exists at the modeling stage itself.\n",
    "<br>\n",
    "<br>\n",
    "When we start dividing the dataset into data training and data test,\n",
    "on the data train we can do cross validation and determine the best parameters by means of hyperparameter tuning for evaluating the model"
   ]
  },
  {
   "cell_type": "markdown",
   "id": "d8d84b7a",
   "metadata": {},
   "source": [
    "### Cross Validation\n",
    "Cross-validation is a technique for evaluating ML models by training several ML models on subsets of the available input data and evaluating them on the complementary subset of the data. "
   ]
  },
  {
   "cell_type": "markdown",
   "id": "4391dbed",
   "metadata": {},
   "source": [
    "### Hyperparameter Tuning\n",
    "Hyperparameter tuning consists of finding a set of optimal hyperparameter values for a learning algorithm while applying this optimized algorithm to any data set. That combination of hyperparameters maximizes the model's performance, minimizing a predefined loss function to produce better results with fewer errors"
   ]
  }
 ],
 "metadata": {
  "kernelspec": {
   "display_name": "Python 3",
   "language": "python",
   "name": "python3"
  },
  "language_info": {
   "codemirror_mode": {
    "name": "ipython",
    "version": 3
   },
   "file_extension": ".py",
   "mimetype": "text/x-python",
   "name": "python",
   "nbconvert_exporter": "python",
   "pygments_lexer": "ipython3",
   "version": "3.8.8"
  }
 },
 "nbformat": 4,
 "nbformat_minor": 5
}
