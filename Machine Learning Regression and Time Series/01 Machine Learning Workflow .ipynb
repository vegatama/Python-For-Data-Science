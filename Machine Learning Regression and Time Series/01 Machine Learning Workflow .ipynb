{
 "cells": [
  {
   "cell_type": "markdown",
   "id": "19ca6921",
   "metadata": {},
   "source": [
    "# Machine Learning Workflow \n",
    "---\n",
    "In this session will be explained about the workflow or stages in machine learning.\n",
    "<br>\n",
    "<br>\n",
    "There are several stages which are as follows:\n",
    "- ###  Data Profiling\n",
    "- ###  Data Cleansing\n",
    "- ###  Exploratory Data Analysis\n",
    "- ###  Feature Engineering\n",
    "- ###  Preprocessing Modeling\n",
    "- ###  Modeling\n",
    "- ###  Evaluate Modeling\n",
    "\n"
   ]
  },
  {
   "cell_type": "markdown",
   "id": "16289d6e",
   "metadata": {},
   "source": [
    "# Data Profiling\n",
    "It's like we check our data to find out what are the advantages and disadvantages of our data.<br>\n",
    "In the data profiling stage we do several things, such as:\n",
    "- To check our data at an early stage\n",
    "- Try to identify what is in our data\n",
    "- To check what is missing from our data \n",
    "- To check What is strange about our data\n",
    "- Etc."
   ]
  },
  {
   "cell_type": "markdown",
   "id": "1edb48f6",
   "metadata": {},
   "source": [
    "# Data Cleansing\n",
    "After knowing what are the shortcomings or what needs to be corrected in our data, we do data cleaning so that our model can process it later.\n",
    "<br>\n",
    "In the data cleansing stage we do several things, such as:\n",
    "- Change Data Type\n",
    "- Handling Missing Value\n",
    "- Change Column Name\n",
    "- Etc."
   ]
  },
  {
   "cell_type": "markdown",
   "id": "b5d3ba0a",
   "metadata": {},
   "source": [
    "# Exploratory Data Analysis\n",
    "After doing data cleansing, we will explore our data so that we know better what happens to our data.<br>\n",
    "In the exploratory data analysis stage we do several things, such as:\n",
    "- To view data distribution\n",
    "- To view data descriptions such as mean, median, std by using method.describe()\n",
    "- To view the correlation\n",
    "- To view comparison\n",
    "- Etc."
   ]
  },
  {
   "cell_type": "markdown",
   "id": "8daa229d",
   "metadata": {},
   "source": [
    "# Feature Engineering\n",
    "\n",
    "In the feature engineering stage we do several things, such as:\n",
    "- Scaling Data (ex : Standarization or Normalization)\n",
    "- Change data categorical or ordinal values into a numbers (ex : one hot encoding)\n",
    "- Drop Column Multicollinear\n",
    "- Etc."
   ]
  },
  {
   "cell_type": "markdown",
   "id": "6639ac37",
   "metadata": {},
   "source": [
    "# Preprocessing Modeling\n",
    "Before entering the modeling stage, we enter the preprocessing stage first.<br>\n",
    "At this stage we divide the dataset into train data and test data"
   ]
  },
  {
   "cell_type": "markdown",
   "id": "132b2ebe",
   "metadata": {},
   "source": [
    "# Modeling\n",
    "In the modeling stage we do several things, such as:\n",
    "- Choose the model ( ex : LinearRegression, ExtraTreesClassifier, Forecasting, Etc.)\n",
    "- Train the model\n",
    "- Make predictions with trained models"
   ]
  },
  {
   "cell_type": "markdown",
   "id": "3cd78b06",
   "metadata": {},
   "source": [
    "# Evaluate Modeling\n",
    "After doing the modeling stage such as choosing a model, training the model and making predictions with the model, then we need to evaluate the results of our model predictions so that we can improve our model to be better or more accurate.<br>\n",
    "In the evaluate modeling stage we do several things, such as:\n",
    "- To view percentage error the model\n"
   ]
  }
 ],
 "metadata": {
  "kernelspec": {
   "display_name": "Python 3",
   "language": "python",
   "name": "python3"
  },
  "language_info": {
   "codemirror_mode": {
    "name": "ipython",
    "version": 3
   },
   "file_extension": ".py",
   "mimetype": "text/x-python",
   "name": "python",
   "nbconvert_exporter": "python",
   "pygments_lexer": "ipython3",
   "version": "3.8.8"
  }
 },
 "nbformat": 4,
 "nbformat_minor": 5
}
