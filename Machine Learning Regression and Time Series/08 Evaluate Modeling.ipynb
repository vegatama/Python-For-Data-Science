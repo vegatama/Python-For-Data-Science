{
 "cells": [
  {
   "cell_type": "markdown",
   "id": "0626c38c",
   "metadata": {},
   "source": [
    "# Machine Learning Workflow\n",
    "At this stage we will perform multiple linear regression on 50 start up, from data profiling, data cleansing, exploratory data analysis, feature engineering, preprocessing modeling, modeling and evaluate modeling."
   ]
  },
  {
   "cell_type": "markdown",
   "id": "0f31dea1",
   "metadata": {},
   "source": [
    "# Data Profiling\n",
    "It's like we check our data to find out what are the advantages and disadvantages of our data.\n",
    "<br>\n",
    "<br>\n",
    "In the data profiling stage we do several things, such as:\n",
    "\n",
    "- To check our data at an early stage\n",
    "- Try to identify what is in our data\n",
    "- To check what is missing from our data\n",
    "- To check What is strange about our data\n",
    "- Etc."
   ]
  },
  {
   "cell_type": "code",
   "execution_count": 1,
   "id": "5f5019c3",
   "metadata": {},
   "outputs": [
    {
     "name": "stderr",
     "output_type": "stream",
     "text": [
      "C:\\ProgramData\\Anaconda3\\lib\\site-packages\\scipy\\__init__.py:138: UserWarning: A NumPy version >=1.16.5 and <1.23.0 is required for this version of SciPy (detected version 1.23.4)\n",
      "  warnings.warn(f\"A NumPy version >={np_minversion} and <{np_maxversion} is required for this version of \"\n"
     ]
    }
   ],
   "source": [
    "import pandas as pd\n",
    "import numpy as np\n",
    "import matplotlib.pyplot as plt\n",
    "%matplotlib inline\n",
    "import seaborn as sns\n",
    "\n",
    "from sklearn.preprocessing import OrdinalEncoder\n",
    "from sklearn.preprocessing import OneHotEncoder\n",
    "from sklearn.preprocessing import StandardScaler\n",
    "from sklearn.preprocessing import MinMaxScaler\n",
    "\n",
    "from sklearn.linear_model import LinearRegression\n",
    "\n",
    "from sklearn.model_selection import train_test_split\n",
    "from sklearn.ensemble import ExtraTreesClassifier\n",
    "\n",
    "from sklearn.metrics import mean_absolute_error\n",
    "from sklearn.metrics import mean_absolute_percentage_error\n",
    "\n",
    "import warnings\n",
    "warnings.filterwarnings('ignore')"
   ]
  },
  {
   "cell_type": "code",
   "execution_count": 2,
   "id": "f589f269",
   "metadata": {},
   "outputs": [],
   "source": [
    "df = pd.read_csv('50_Startups.csv')"
   ]
  },
  {
   "cell_type": "code",
   "execution_count": 3,
   "id": "898689d0",
   "metadata": {},
   "outputs": [
    {
     "data": {
      "text/html": [
       "<div>\n",
       "<style scoped>\n",
       "    .dataframe tbody tr th:only-of-type {\n",
       "        vertical-align: middle;\n",
       "    }\n",
       "\n",
       "    .dataframe tbody tr th {\n",
       "        vertical-align: top;\n",
       "    }\n",
       "\n",
       "    .dataframe thead th {\n",
       "        text-align: right;\n",
       "    }\n",
       "</style>\n",
       "<table border=\"1\" class=\"dataframe\">\n",
       "  <thead>\n",
       "    <tr style=\"text-align: right;\">\n",
       "      <th></th>\n",
       "      <th>R&amp;D Spend</th>\n",
       "      <th>Administration</th>\n",
       "      <th>Marketing Spend</th>\n",
       "      <th>State</th>\n",
       "      <th>Profit</th>\n",
       "    </tr>\n",
       "  </thead>\n",
       "  <tbody>\n",
       "    <tr>\n",
       "      <th>0</th>\n",
       "      <td>165349.20</td>\n",
       "      <td>136897.80</td>\n",
       "      <td>471784.10</td>\n",
       "      <td>New York</td>\n",
       "      <td>192261.83</td>\n",
       "    </tr>\n",
       "    <tr>\n",
       "      <th>1</th>\n",
       "      <td>162597.70</td>\n",
       "      <td>151377.59</td>\n",
       "      <td>443898.53</td>\n",
       "      <td>California</td>\n",
       "      <td>191792.06</td>\n",
       "    </tr>\n",
       "    <tr>\n",
       "      <th>2</th>\n",
       "      <td>153441.51</td>\n",
       "      <td>101145.55</td>\n",
       "      <td>407934.54</td>\n",
       "      <td>Florida</td>\n",
       "      <td>191050.39</td>\n",
       "    </tr>\n",
       "    <tr>\n",
       "      <th>3</th>\n",
       "      <td>144372.41</td>\n",
       "      <td>118671.85</td>\n",
       "      <td>383199.62</td>\n",
       "      <td>New York</td>\n",
       "      <td>182901.99</td>\n",
       "    </tr>\n",
       "    <tr>\n",
       "      <th>4</th>\n",
       "      <td>142107.34</td>\n",
       "      <td>91391.77</td>\n",
       "      <td>366168.42</td>\n",
       "      <td>Florida</td>\n",
       "      <td>166187.94</td>\n",
       "    </tr>\n",
       "  </tbody>\n",
       "</table>\n",
       "</div>"
      ],
      "text/plain": [
       "   R&D Spend  Administration  Marketing Spend       State     Profit\n",
       "0  165349.20       136897.80        471784.10    New York  192261.83\n",
       "1  162597.70       151377.59        443898.53  California  191792.06\n",
       "2  153441.51       101145.55        407934.54     Florida  191050.39\n",
       "3  144372.41       118671.85        383199.62    New York  182901.99\n",
       "4  142107.34        91391.77        366168.42     Florida  166187.94"
      ]
     },
     "execution_count": 3,
     "metadata": {},
     "output_type": "execute_result"
    }
   ],
   "source": [
    "df.head()"
   ]
  },
  {
   "cell_type": "code",
   "execution_count": 4,
   "id": "a3f9bdda",
   "metadata": {},
   "outputs": [
    {
     "name": "stdout",
     "output_type": "stream",
     "text": [
      "<class 'pandas.core.frame.DataFrame'>\n",
      "RangeIndex: 50 entries, 0 to 49\n",
      "Data columns (total 5 columns):\n",
      " #   Column           Non-Null Count  Dtype  \n",
      "---  ------           --------------  -----  \n",
      " 0   R&D Spend        50 non-null     float64\n",
      " 1   Administration   50 non-null     float64\n",
      " 2   Marketing Spend  50 non-null     float64\n",
      " 3   State            50 non-null     object \n",
      " 4   Profit           50 non-null     float64\n",
      "dtypes: float64(4), object(1)\n",
      "memory usage: 2.1+ KB\n"
     ]
    }
   ],
   "source": [
    "df.info()"
   ]
  },
  {
   "cell_type": "code",
   "execution_count": 5,
   "id": "a4ba52ef",
   "metadata": {},
   "outputs": [
    {
     "data": {
      "text/plain": [
       "R&D Spend          0\n",
       "Administration     0\n",
       "Marketing Spend    0\n",
       "State              0\n",
       "Profit             0\n",
       "dtype: int64"
      ]
     },
     "execution_count": 5,
     "metadata": {},
     "output_type": "execute_result"
    }
   ],
   "source": [
    "df.isna().sum()"
   ]
  },
  {
   "cell_type": "markdown",
   "id": "b747112e",
   "metadata": {},
   "source": [
    "# Data cleansing\n",
    "After knowing what are the shortcomings or what needs to be corrected in our data, we do data cleaning so that our model can process it later.\n",
    "<br>\n",
    "In the data cleansing stage we do several things, such as:\n",
    "- Change Data Type\n",
    "- Handling Missing Value\n",
    "- Change Column Name\n",
    "- Etc."
   ]
  },
  {
   "cell_type": "code",
   "execution_count": 6,
   "id": "b6df5a7c",
   "metadata": {},
   "outputs": [],
   "source": [
    "# The data is clean"
   ]
  },
  {
   "cell_type": "markdown",
   "id": "ec3a1ca7",
   "metadata": {},
   "source": [
    "# Exploratory Data Analysis\n",
    "After doing data cleansing, we will explore our data so that we know better what happens to our data.<br>\n",
    "In the exploratory data analysis stage we do several things, such as:"
   ]
  },
  {
   "cell_type": "markdown",
   "id": "d18cd0bb",
   "metadata": {},
   "source": [
    "- which state with most startup?"
   ]
  },
  {
   "cell_type": "code",
   "execution_count": 7,
   "id": "f2234aec",
   "metadata": {},
   "outputs": [
    {
     "data": {
      "text/plain": [
       "<AxesSubplot:xlabel='count', ylabel='State'>"
      ]
     },
     "execution_count": 7,
     "metadata": {},
     "output_type": "execute_result"
    },
    {
     "data": {
      "image/png": "[encoded data removed]",
      "text/plain": [
       "<Figure size 432x288 with 1 Axes>"
      ]
     },
     "metadata": {
      "needs_background": "light"
     },
     "output_type": "display_data"
    }
   ],
   "source": [
    "sns.countplot(y=\"State\", data=df)"
   ]
  },
  {
   "cell_type": "markdown",
   "id": "4da70e65",
   "metadata": {},
   "source": [
    "- which state have the most profit?"
   ]
  },
  {
   "cell_type": "code",
   "execution_count": 8,
   "id": "1eb1111e",
   "metadata": {},
   "outputs": [
    {
     "data": {
      "text/plain": [
       "<AxesSubplot:xlabel='State', ylabel='Profit'>"
      ]
     },
     "execution_count": 8,
     "metadata": {},
     "output_type": "execute_result"
    },
    {
     "data": {
      "image/png": "[encoded data removed]",
      "text/plain": [
       "<Figure size 432x288 with 1 Axes>"
      ]
     },
     "metadata": {
      "needs_background": "light"
     },
     "output_type": "display_data"
    }
   ],
   "source": [
    "sns.barplot(data=df,y=\"Profit\",x=\"State\")"
   ]
  },
  {
   "cell_type": "markdown",
   "id": "730aaa76",
   "metadata": {},
   "source": [
    "- how is the correlation between coloums?"
   ]
  },
  {
   "cell_type": "code",
   "execution_count": 9,
   "id": "586344a5",
   "metadata": {},
   "outputs": [
    {
     "data": {
      "text/plain": [
       "<AxesSubplot:>"
      ]
     },
     "execution_count": 9,
     "metadata": {},
     "output_type": "execute_result"
    },
    {
     "data": {
      "image/png": "[encoded data removed]",
      "text/plain": [
       "<Figure size 432x288 with 2 Axes>"
      ]
     },
     "metadata": {
      "needs_background": "light"
     },
     "output_type": "display_data"
    }
   ],
   "source": [
    "sns.heatmap(df.corr(), annot=True)"
   ]
  },
  {
   "cell_type": "markdown",
   "id": "4ac1d26a",
   "metadata": {},
   "source": [
    "# Feature Engineering\n",
    "In the feature engineering stage we do several things, such as:"
   ]
  },
  {
   "cell_type": "markdown",
   "id": "537f79c3",
   "metadata": {},
   "source": [
    "- Drop Multicollinear Column"
   ]
  },
  {
   "cell_type": "code",
   "execution_count": 10,
   "id": "642e1f19",
   "metadata": {},
   "outputs": [],
   "source": [
    "# drop Marketing Spend Column\n",
    "df.drop(['Marketing Spend'], axis = 1,inplace=True)"
   ]
  },
  {
   "cell_type": "markdown",
   "id": "2663ae0a",
   "metadata": {},
   "source": [
    "- Scaling Data (Standarization or Normalization)"
   ]
  },
  {
   "cell_type": "code",
   "execution_count": 11,
   "id": "57732d07",
   "metadata": {},
   "outputs": [],
   "source": [
    "# Scaling R&D Spend and Administration with MinMaxScaler\n",
    "scaler = MinMaxScaler()\n",
    "df[[\"R&D Spend\"]] = scaler.fit_transform(df[[\"R&D Spend\"]])\n",
    "df[[\"Administration\"]] = scaler.fit_transform(df[[\"Administration\"]])"
   ]
  },
  {
   "cell_type": "markdown",
   "id": "68e06760",
   "metadata": {},
   "source": [
    "- Change data categorical into a numbers (one hot encoding)"
   ]
  },
  {
   "cell_type": "code",
   "execution_count": 12,
   "id": "13b3218e",
   "metadata": {},
   "outputs": [],
   "source": [
    "# change State Column to one hot encoding\n",
    "state_enc = pd.get_dummies(df['State'], prefix='State', drop_first = False)\n",
    "df = df.drop(['State'], axis = 1)\n",
    "df = pd.concat([df, state_enc], axis = 1)"
   ]
  },
  {
   "cell_type": "code",
   "execution_count": 13,
   "id": "0d6f18bd",
   "metadata": {},
   "outputs": [
    {
     "data": {
      "text/html": [
       "<div>\n",
       "<style scoped>\n",
       "    .dataframe tbody tr th:only-of-type {\n",
       "        vertical-align: middle;\n",
       "    }\n",
       "\n",
       "    .dataframe tbody tr th {\n",
       "        vertical-align: top;\n",
       "    }\n",
       "\n",
       "    .dataframe thead th {\n",
       "        text-align: right;\n",
       "    }\n",
       "</style>\n",
       "<table border=\"1\" class=\"dataframe\">\n",
       "  <thead>\n",
       "    <tr style=\"text-align: right;\">\n",
       "      <th></th>\n",
       "      <th>R&amp;D Spend</th>\n",
       "      <th>Administration</th>\n",
       "      <th>Profit</th>\n",
       "      <th>State_California</th>\n",
       "      <th>State_Florida</th>\n",
       "      <th>State_New York</th>\n",
       "    </tr>\n",
       "  </thead>\n",
       "  <tbody>\n",
       "    <tr>\n",
       "      <th>0</th>\n",
       "      <td>1.000000</td>\n",
       "      <td>0.651744</td>\n",
       "      <td>192261.83</td>\n",
       "      <td>0</td>\n",
       "      <td>0</td>\n",
       "      <td>1</td>\n",
       "    </tr>\n",
       "    <tr>\n",
       "      <th>1</th>\n",
       "      <td>0.983359</td>\n",
       "      <td>0.761972</td>\n",
       "      <td>191792.06</td>\n",
       "      <td>1</td>\n",
       "      <td>0</td>\n",
       "      <td>0</td>\n",
       "    </tr>\n",
       "    <tr>\n",
       "      <th>2</th>\n",
       "      <td>0.927985</td>\n",
       "      <td>0.379579</td>\n",
       "      <td>191050.39</td>\n",
       "      <td>0</td>\n",
       "      <td>1</td>\n",
       "      <td>0</td>\n",
       "    </tr>\n",
       "    <tr>\n",
       "      <th>3</th>\n",
       "      <td>0.873136</td>\n",
       "      <td>0.512998</td>\n",
       "      <td>182901.99</td>\n",
       "      <td>0</td>\n",
       "      <td>0</td>\n",
       "      <td>1</td>\n",
       "    </tr>\n",
       "    <tr>\n",
       "      <th>4</th>\n",
       "      <td>0.859438</td>\n",
       "      <td>0.305328</td>\n",
       "      <td>166187.94</td>\n",
       "      <td>0</td>\n",
       "      <td>1</td>\n",
       "      <td>0</td>\n",
       "    </tr>\n",
       "  </tbody>\n",
       "</table>\n",
       "</div>"
      ],
      "text/plain": [
       "   R&D Spend  Administration     Profit  State_California  State_Florida  \\\n",
       "0   1.000000        0.651744  192261.83                 0              0   \n",
       "1   0.983359        0.761972  191792.06                 1              0   \n",
       "2   0.927985        0.379579  191050.39                 0              1   \n",
       "3   0.873136        0.512998  182901.99                 0              0   \n",
       "4   0.859438        0.305328  166187.94                 0              1   \n",
       "\n",
       "   State_New York  \n",
       "0               1  \n",
       "1               0  \n",
       "2               0  \n",
       "3               1  \n",
       "4               0  "
      ]
     },
     "execution_count": 13,
     "metadata": {},
     "output_type": "execute_result"
    }
   ],
   "source": [
    "# result\n",
    "df.head()"
   ]
  },
  {
   "cell_type": "markdown",
   "id": "ca5dfdde",
   "metadata": {},
   "source": [
    "# Preprosesing Modeling\n",
    "Before entering the modeling stage, we enter the preprocessing stage first.<br>\n",
    "At this stage we divide the dataset into train data and test data"
   ]
  },
  {
   "cell_type": "markdown",
   "id": "fc1dee83",
   "metadata": {},
   "source": [
    "- split train-test the data"
   ]
  },
  {
   "cell_type": "code",
   "execution_count": 14,
   "id": "264e9ae8",
   "metadata": {},
   "outputs": [],
   "source": [
    "X = df.drop([\"Profit\"], axis = 1)\n",
    "y = df[\"Profit\"]"
   ]
  },
  {
   "cell_type": "code",
   "execution_count": 15,
   "id": "b9835f15",
   "metadata": {},
   "outputs": [],
   "source": [
    "X_train, X_test, y_train, y_test = train_test_split(X,y, train_size=0.8, random_state=42)"
   ]
  },
  {
   "cell_type": "markdown",
   "id": "dbe20f1f",
   "metadata": {},
   "source": [
    "# Modeling\n",
    "In the modeling stage we do several things, such as:"
   ]
  },
  {
   "cell_type": "markdown",
   "id": "fa41df25",
   "metadata": {},
   "source": [
    "- Choose the model (LinearRegression)"
   ]
  },
  {
   "cell_type": "code",
   "execution_count": 16,
   "id": "e46c32b0",
   "metadata": {},
   "outputs": [],
   "source": [
    "regressor = LinearRegression()"
   ]
  },
  {
   "cell_type": "markdown",
   "id": "b3fb3df1",
   "metadata": {},
   "source": [
    "- Train the model"
   ]
  },
  {
   "cell_type": "code",
   "execution_count": 17,
   "id": "bbff89fd",
   "metadata": {},
   "outputs": [
    {
     "data": {
      "text/plain": [
       "LinearRegression()"
      ]
     },
     "execution_count": 17,
     "metadata": {},
     "output_type": "execute_result"
    }
   ],
   "source": [
    "regressor.fit(X_train,y_train)"
   ]
  },
  {
   "cell_type": "markdown",
   "id": "8641b83d",
   "metadata": {},
   "source": [
    "- check feature importance"
   ]
  },
  {
   "cell_type": "code",
   "execution_count": 18,
   "id": "3c05dc68",
   "metadata": {},
   "outputs": [],
   "source": [
    "importance = regressor.coef_"
   ]
  },
  {
   "cell_type": "code",
   "execution_count": 19,
   "id": "0af15be3",
   "metadata": {},
   "outputs": [
    {
     "name": "stdout",
     "output_type": "stream",
     "text": [
      "feature: 0, score: 142190.07780\n",
      "feature: 1, score: -12647.33795\n",
      "feature: 2, score: -927.42521\n",
      "feature: 3, score: 1287.23926\n",
      "feature: 4, score: -359.81405\n"
     ]
    }
   ],
   "source": [
    "for i,v in enumerate(importance):\n",
    "    print(\"feature: %0d, score: %.5f\"%(i,v))"
   ]
  },
  {
   "cell_type": "markdown",
   "id": "c312706c",
   "metadata": {},
   "source": [
    "- Make predictions with trained models"
   ]
  },
  {
   "cell_type": "code",
   "execution_count": 20,
   "id": "91f2195c",
   "metadata": {},
   "outputs": [],
   "source": [
    "y_pred = regressor.predict(X_test)"
   ]
  },
  {
   "cell_type": "markdown",
   "id": "33da6364",
   "metadata": {},
   "source": [
    "- make a visualization of the result in barchart"
   ]
  },
  {
   "cell_type": "code",
   "execution_count": 21,
   "id": "12fefd18",
   "metadata": {},
   "outputs": [
    {
     "data": {
      "image/png": "[encoded data removed]",
      "text/plain": [
       "<Figure size 1440x576 with 1 Axes>"
      ]
     },
     "metadata": {
      "needs_background": "light"
     },
     "output_type": "display_data"
    }
   ],
   "source": [
    "result = pd.DataFrame({\"Actual\":y_test,\"Predict\":y_pred})\n",
    "result.plot(kind=\"bar\",figsize=(20,8))\n",
    "plt.show()"
   ]
  },
  {
   "cell_type": "markdown",
   "id": "d8e02b64",
   "metadata": {},
   "source": [
    "# Evaluate Modeling\n",
    "After doing the modeling stage such as choosing a model, training the model and making predictions with the model, then we need to evaluate the results of our model predictions so that we can improve our model to be better or more accurate.<br>\n",
    "In the evaluate modeling stage we do several things, such as:"
   ]
  },
  {
   "cell_type": "markdown",
   "id": "5ac3ec23",
   "metadata": {},
   "source": [
    "- calculate the error percentage with mean_absolute_percentage_error"
   ]
  },
  {
   "cell_type": "code",
   "execution_count": 22,
   "id": "39a0fa7b",
   "metadata": {},
   "outputs": [
    {
     "data": {
      "text/plain": [
       "0.11586481190910265"
      ]
     },
     "execution_count": 22,
     "metadata": {},
     "output_type": "execute_result"
    }
   ],
   "source": [
    "mean_absolute_percentage_error(y_test, y_pred)"
   ]
  }
 ],
 "metadata": {
  "kernelspec": {
   "display_name": "Python 3",
   "language": "python",
   "name": "python3"
  },
  "language_info": {
   "codemirror_mode": {
    "name": "ipython",
    "version": 3
   },
   "file_extension": ".py",
   "mimetype": "text/x-python",
   "name": "python",
   "nbconvert_exporter": "python",
   "pygments_lexer": "ipython3",
   "version": "3.8.8"
  }
 },
 "nbformat": 4,
 "nbformat_minor": 5
}
