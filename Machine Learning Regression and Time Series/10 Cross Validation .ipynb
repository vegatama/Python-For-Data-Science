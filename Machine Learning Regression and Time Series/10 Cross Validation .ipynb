{
 "cells": [
  {
   "cell_type": "markdown",
   "id": "cec3a174",
   "metadata": {},
   "source": [
    "# "
   ]
  },
  {
   "cell_type": "markdown",
   "id": "c12ade09",
   "metadata": {},
   "source": [
    "# Cross Validation \n",
    "cross validation is a method that used to evaluate ML model and optimize it."
   ]
  },
  {
   "cell_type": "code",
   "execution_count": 1,
   "id": "cb53d38a",
   "metadata": {},
   "outputs": [],
   "source": [
    "# import package\n",
    "import pandas as pd\n",
    "import numpy as np\n",
    "import matplotlib.pyplot as plt\n",
    "%matplotlib inline\n",
    "import seaborn as sns\n",
    "\n",
    "from sklearn.preprocessing import OrdinalEncoder\n",
    "from sklearn.preprocessing import OneHotEncoder\n",
    "from sklearn.preprocessing import StandardScaler\n",
    "from sklearn.preprocessing import MinMaxScaler\n",
    "\n",
    "from sklearn.linear_model import LinearRegression\n",
    "\n",
    "from sklearn.model_selection import train_test_split\n",
    "from sklearn.model_selection import GridSearchCV\n",
    "from sklearn.model_selection import cross_val_score\n",
    "from sklearn.ensemble import ExtraTreesClassifier\n",
    "\n",
    "from sklearn.metrics import mean_absolute_error\n",
    "from sklearn.metrics import mean_absolute_percentage_error\n",
    "\n",
    "import warnings\n",
    "warnings.filterwarnings('ignore')"
   ]
  },
  {
   "cell_type": "code",
   "execution_count": 2,
   "id": "c5d2c1ed",
   "metadata": {},
   "outputs": [],
   "source": [
    "# import dataset\n",
    "df = pd.read_csv(\"C:\\\\Users\\\\vegat\\\\Porto Data\\\\titanic\\\\50_Startups.csv\")"
   ]
  },
  {
   "cell_type": "markdown",
   "id": "824814c3",
   "metadata": {},
   "source": [
    "## Data Profiling\n",
    "It's like we check our data to find out what are the advantages and disadvantages of our data.<br>\n",
    "In the data profiling stage we do several things, such as:"
   ]
  },
  {
   "cell_type": "markdown",
   "id": "da4df432",
   "metadata": {},
   "source": [
    "* To check our data at an early stage"
   ]
  },
  {
   "cell_type": "code",
   "execution_count": 3,
   "id": "57562c07",
   "metadata": {},
   "outputs": [
    {
     "data": {
      "text/html": [
       "<div>\n",
       "<style scoped>\n",
       "    .dataframe tbody tr th:only-of-type {\n",
       "        vertical-align: middle;\n",
       "    }\n",
       "\n",
       "    .dataframe tbody tr th {\n",
       "        vertical-align: top;\n",
       "    }\n",
       "\n",
       "    .dataframe thead th {\n",
       "        text-align: right;\n",
       "    }\n",
       "</style>\n",
       "<table border=\"1\" class=\"dataframe\">\n",
       "  <thead>\n",
       "    <tr style=\"text-align: right;\">\n",
       "      <th></th>\n",
       "      <th>R&amp;D Spend</th>\n",
       "      <th>Administration</th>\n",
       "      <th>Marketing Spend</th>\n",
       "      <th>State</th>\n",
       "      <th>Profit</th>\n",
       "    </tr>\n",
       "  </thead>\n",
       "  <tbody>\n",
       "    <tr>\n",
       "      <th>0</th>\n",
       "      <td>165349.20</td>\n",
       "      <td>136897.80</td>\n",
       "      <td>471784.10</td>\n",
       "      <td>New York</td>\n",
       "      <td>192261.83</td>\n",
       "    </tr>\n",
       "    <tr>\n",
       "      <th>1</th>\n",
       "      <td>162597.70</td>\n",
       "      <td>151377.59</td>\n",
       "      <td>443898.53</td>\n",
       "      <td>California</td>\n",
       "      <td>191792.06</td>\n",
       "    </tr>\n",
       "    <tr>\n",
       "      <th>2</th>\n",
       "      <td>153441.51</td>\n",
       "      <td>101145.55</td>\n",
       "      <td>407934.54</td>\n",
       "      <td>Florida</td>\n",
       "      <td>191050.39</td>\n",
       "    </tr>\n",
       "    <tr>\n",
       "      <th>3</th>\n",
       "      <td>144372.41</td>\n",
       "      <td>118671.85</td>\n",
       "      <td>383199.62</td>\n",
       "      <td>New York</td>\n",
       "      <td>182901.99</td>\n",
       "    </tr>\n",
       "    <tr>\n",
       "      <th>4</th>\n",
       "      <td>142107.34</td>\n",
       "      <td>91391.77</td>\n",
       "      <td>366168.42</td>\n",
       "      <td>Florida</td>\n",
       "      <td>166187.94</td>\n",
       "    </tr>\n",
       "  </tbody>\n",
       "</table>\n",
       "</div>"
      ],
      "text/plain": [
       "   R&D Spend  Administration  Marketing Spend       State     Profit\n",
       "0  165349.20       136897.80        471784.10    New York  192261.83\n",
       "1  162597.70       151377.59        443898.53  California  191792.06\n",
       "2  153441.51       101145.55        407934.54     Florida  191050.39\n",
       "3  144372.41       118671.85        383199.62    New York  182901.99\n",
       "4  142107.34        91391.77        366168.42     Florida  166187.94"
      ]
     },
     "execution_count": 3,
     "metadata": {},
     "output_type": "execute_result"
    }
   ],
   "source": [
    "df.head()"
   ]
  },
  {
   "cell_type": "markdown",
   "id": "deabd9ca",
   "metadata": {},
   "source": [
    "* Try to identify what is in our data"
   ]
  },
  {
   "cell_type": "code",
   "execution_count": 4,
   "id": "3e0d2a97",
   "metadata": {},
   "outputs": [
    {
     "name": "stdout",
     "output_type": "stream",
     "text": [
      "<class 'pandas.core.frame.DataFrame'>\n",
      "RangeIndex: 50 entries, 0 to 49\n",
      "Data columns (total 5 columns):\n",
      " #   Column           Non-Null Count  Dtype  \n",
      "---  ------           --------------  -----  \n",
      " 0   R&D Spend        50 non-null     float64\n",
      " 1   Administration   50 non-null     float64\n",
      " 2   Marketing Spend  50 non-null     float64\n",
      " 3   State            50 non-null     object \n",
      " 4   Profit           50 non-null     float64\n",
      "dtypes: float64(4), object(1)\n",
      "memory usage: 2.1+ KB\n"
     ]
    }
   ],
   "source": [
    "df.info()"
   ]
  },
  {
   "cell_type": "markdown",
   "id": "00d81c1c",
   "metadata": {},
   "source": [
    "* To check what is missing from our data"
   ]
  },
  {
   "cell_type": "code",
   "execution_count": 5,
   "id": "fa4145f7",
   "metadata": {},
   "outputs": [
    {
     "data": {
      "text/plain": [
       "R&D Spend          0\n",
       "Administration     0\n",
       "Marketing Spend    0\n",
       "State              0\n",
       "Profit             0\n",
       "dtype: int64"
      ]
     },
     "execution_count": 5,
     "metadata": {},
     "output_type": "execute_result"
    }
   ],
   "source": [
    "df.isnull().sum()"
   ]
  },
  {
   "cell_type": "markdown",
   "id": "5042da6e",
   "metadata": {},
   "source": [
    "* To check What is strange about our data"
   ]
  },
  {
   "cell_type": "code",
   "execution_count": 6,
   "id": "402fb5eb",
   "metadata": {},
   "outputs": [
    {
     "data": {
      "text/html": [
       "<div>\n",
       "<style scoped>\n",
       "    .dataframe tbody tr th:only-of-type {\n",
       "        vertical-align: middle;\n",
       "    }\n",
       "\n",
       "    .dataframe tbody tr th {\n",
       "        vertical-align: top;\n",
       "    }\n",
       "\n",
       "    .dataframe thead th {\n",
       "        text-align: right;\n",
       "    }\n",
       "</style>\n",
       "<table border=\"1\" class=\"dataframe\">\n",
       "  <thead>\n",
       "    <tr style=\"text-align: right;\">\n",
       "      <th></th>\n",
       "      <th>R&amp;D Spend</th>\n",
       "      <th>Administration</th>\n",
       "      <th>Marketing Spend</th>\n",
       "      <th>Profit</th>\n",
       "    </tr>\n",
       "  </thead>\n",
       "  <tbody>\n",
       "    <tr>\n",
       "      <th>count</th>\n",
       "      <td>50.000000</td>\n",
       "      <td>50.000000</td>\n",
       "      <td>50.000000</td>\n",
       "      <td>50.000000</td>\n",
       "    </tr>\n",
       "    <tr>\n",
       "      <th>mean</th>\n",
       "      <td>73721.615600</td>\n",
       "      <td>121344.639600</td>\n",
       "      <td>211025.097800</td>\n",
       "      <td>112012.639200</td>\n",
       "    </tr>\n",
       "    <tr>\n",
       "      <th>std</th>\n",
       "      <td>45902.256482</td>\n",
       "      <td>28017.802755</td>\n",
       "      <td>122290.310726</td>\n",
       "      <td>40306.180338</td>\n",
       "    </tr>\n",
       "    <tr>\n",
       "      <th>min</th>\n",
       "      <td>0.000000</td>\n",
       "      <td>51283.140000</td>\n",
       "      <td>0.000000</td>\n",
       "      <td>14681.400000</td>\n",
       "    </tr>\n",
       "    <tr>\n",
       "      <th>25%</th>\n",
       "      <td>39936.370000</td>\n",
       "      <td>103730.875000</td>\n",
       "      <td>129300.132500</td>\n",
       "      <td>90138.902500</td>\n",
       "    </tr>\n",
       "    <tr>\n",
       "      <th>50%</th>\n",
       "      <td>73051.080000</td>\n",
       "      <td>122699.795000</td>\n",
       "      <td>212716.240000</td>\n",
       "      <td>107978.190000</td>\n",
       "    </tr>\n",
       "    <tr>\n",
       "      <th>75%</th>\n",
       "      <td>101602.800000</td>\n",
       "      <td>144842.180000</td>\n",
       "      <td>299469.085000</td>\n",
       "      <td>139765.977500</td>\n",
       "    </tr>\n",
       "    <tr>\n",
       "      <th>max</th>\n",
       "      <td>165349.200000</td>\n",
       "      <td>182645.560000</td>\n",
       "      <td>471784.100000</td>\n",
       "      <td>192261.830000</td>\n",
       "    </tr>\n",
       "  </tbody>\n",
       "</table>\n",
       "</div>"
      ],
      "text/plain": [
       "           R&D Spend  Administration  Marketing Spend         Profit\n",
       "count      50.000000       50.000000        50.000000      50.000000\n",
       "mean    73721.615600   121344.639600    211025.097800  112012.639200\n",
       "std     45902.256482    28017.802755    122290.310726   40306.180338\n",
       "min         0.000000    51283.140000         0.000000   14681.400000\n",
       "25%     39936.370000   103730.875000    129300.132500   90138.902500\n",
       "50%     73051.080000   122699.795000    212716.240000  107978.190000\n",
       "75%    101602.800000   144842.180000    299469.085000  139765.977500\n",
       "max    165349.200000   182645.560000    471784.100000  192261.830000"
      ]
     },
     "execution_count": 6,
     "metadata": {},
     "output_type": "execute_result"
    }
   ],
   "source": [
    "df.describe()"
   ]
  },
  {
   "cell_type": "markdown",
   "id": "e4428954",
   "metadata": {},
   "source": [
    "## Data cleansing\n",
    "After knowing what are the shortcomings or what needs to be corrected in our data, we do data cleaning so that our model can process it later.\n",
    "<br>\n",
    "In the data cleansing stage we do several things, such as:\n",
    "- Change Data Type\n",
    "- Handling Missing Value\n",
    "- Change Column Name\n",
    "- Etc."
   ]
  },
  {
   "cell_type": "code",
   "execution_count": 7,
   "id": "d2934a0b",
   "metadata": {},
   "outputs": [],
   "source": [
    "# the data is clean"
   ]
  },
  {
   "cell_type": "markdown",
   "id": "dc29bd9e",
   "metadata": {},
   "source": [
    "## Exploratory Data Analysis\n",
    "After doing data cleansing, we will explore our data so that we know better what happens to our data.<br>\n",
    "In the exploratory data analysis stage we do several things, such as:"
   ]
  },
  {
   "cell_type": "markdown",
   "id": "74c65292",
   "metadata": {},
   "source": [
    "* which state with most startup?"
   ]
  },
  {
   "cell_type": "code",
   "execution_count": 8,
   "id": "2f00f77a",
   "metadata": {},
   "outputs": [
    {
     "data": {
      "text/plain": [
       "<AxesSubplot:xlabel='count', ylabel='State'>"
      ]
     },
     "execution_count": 8,
     "metadata": {},
     "output_type": "execute_result"
    },
    {
     "data": {
      "image/png": "[encoded data removed]",
      "text/plain": [
       "<Figure size 640x480 with 1 Axes>"
      ]
     },
     "metadata": {},
     "output_type": "display_data"
    }
   ],
   "source": [
    "sns.countplot(y=\"State\", data=df)"
   ]
  },
  {
   "cell_type": "markdown",
   "id": "f67f8d37",
   "metadata": {},
   "source": [
    "* which state have the most profit?"
   ]
  },
  {
   "cell_type": "code",
   "execution_count": 9,
   "id": "99806461",
   "metadata": {},
   "outputs": [
    {
     "data": {
      "text/plain": [
       "<AxesSubplot:xlabel='State', ylabel='Profit'>"
      ]
     },
     "execution_count": 9,
     "metadata": {},
     "output_type": "execute_result"
    },
    {
     "data": {
      "image/png": "[encoded data removed]",
      "text/plain": [
       "<Figure size 640x480 with 1 Axes>"
      ]
     },
     "metadata": {},
     "output_type": "display_data"
    }
   ],
   "source": [
    "sns.barplot(data=df,y=\"Profit\",x=\"State\")"
   ]
  },
  {
   "cell_type": "markdown",
   "id": "b31bc37f",
   "metadata": {},
   "source": [
    "* how is the correlation between coloums?"
   ]
  },
  {
   "cell_type": "code",
   "execution_count": 10,
   "id": "a0ce4985",
   "metadata": {},
   "outputs": [
    {
     "data": {
      "text/plain": [
       "<AxesSubplot:>"
      ]
     },
     "execution_count": 10,
     "metadata": {},
     "output_type": "execute_result"
    },
    {
     "data": {
      "image/png": "[encoded data removed]",
      "text/plain": [
       "<Figure size 640x480 with 2 Axes>"
      ]
     },
     "metadata": {},
     "output_type": "display_data"
    }
   ],
   "source": [
    "sns.heatmap(df.corr(), annot=True)"
   ]
  },
  {
   "cell_type": "markdown",
   "id": "373edff9",
   "metadata": {},
   "source": [
    "## Feature Engineering\n",
    "In the feature engineering stage we do several things, such as:"
   ]
  },
  {
   "cell_type": "markdown",
   "id": "3cd72536",
   "metadata": {},
   "source": [
    "* Drop Multicollinear Column"
   ]
  },
  {
   "cell_type": "code",
   "execution_count": 11,
   "id": "9aeaf7ad",
   "metadata": {},
   "outputs": [],
   "source": [
    "# drop Marketing Spend Column\n",
    "df.drop(['Marketing Spend'], axis = 1,inplace=True)"
   ]
  },
  {
   "cell_type": "markdown",
   "id": "85db1c58",
   "metadata": {},
   "source": [
    "* Scaling Data (ex : Standarization or Normalization)"
   ]
  },
  {
   "cell_type": "code",
   "execution_count": 12,
   "id": "d39c8084",
   "metadata": {},
   "outputs": [],
   "source": [
    "# Scaling R&D Spend and Administration with MinMaxScaler\n",
    "scaler = MinMaxScaler()\n",
    "df[[\"R&D Spend\"]] = scaler.fit_transform(df[[\"R&D Spend\"]])\n",
    "df[[\"Administration\"]] = scaler.fit_transform(df[[\"Administration\"]])"
   ]
  },
  {
   "cell_type": "markdown",
   "id": "a7bdef2c",
   "metadata": {},
   "source": [
    "* Change data categorical or ordinal values into a numbers (ex : one hot encoding)"
   ]
  },
  {
   "cell_type": "code",
   "execution_count": 13,
   "id": "379a193d",
   "metadata": {},
   "outputs": [],
   "source": [
    "# change State Column to one hot encoding\n",
    "state_enc = pd.get_dummies(df['State'], prefix='State', drop_first = False)\n",
    "df = df.drop(['State'], axis = 1)\n",
    "df = pd.concat([df, state_enc], axis = 1)"
   ]
  },
  {
   "cell_type": "code",
   "execution_count": 14,
   "id": "e3ee2ab7",
   "metadata": {},
   "outputs": [
    {
     "data": {
      "text/html": [
       "<div>\n",
       "<style scoped>\n",
       "    .dataframe tbody tr th:only-of-type {\n",
       "        vertical-align: middle;\n",
       "    }\n",
       "\n",
       "    .dataframe tbody tr th {\n",
       "        vertical-align: top;\n",
       "    }\n",
       "\n",
       "    .dataframe thead th {\n",
       "        text-align: right;\n",
       "    }\n",
       "</style>\n",
       "<table border=\"1\" class=\"dataframe\">\n",
       "  <thead>\n",
       "    <tr style=\"text-align: right;\">\n",
       "      <th></th>\n",
       "      <th>R&amp;D Spend</th>\n",
       "      <th>Administration</th>\n",
       "      <th>Profit</th>\n",
       "      <th>State_California</th>\n",
       "      <th>State_Florida</th>\n",
       "      <th>State_New York</th>\n",
       "    </tr>\n",
       "  </thead>\n",
       "  <tbody>\n",
       "    <tr>\n",
       "      <th>0</th>\n",
       "      <td>1.000000</td>\n",
       "      <td>0.651744</td>\n",
       "      <td>192261.83</td>\n",
       "      <td>0</td>\n",
       "      <td>0</td>\n",
       "      <td>1</td>\n",
       "    </tr>\n",
       "    <tr>\n",
       "      <th>1</th>\n",
       "      <td>0.983359</td>\n",
       "      <td>0.761972</td>\n",
       "      <td>191792.06</td>\n",
       "      <td>1</td>\n",
       "      <td>0</td>\n",
       "      <td>0</td>\n",
       "    </tr>\n",
       "    <tr>\n",
       "      <th>2</th>\n",
       "      <td>0.927985</td>\n",
       "      <td>0.379579</td>\n",
       "      <td>191050.39</td>\n",
       "      <td>0</td>\n",
       "      <td>1</td>\n",
       "      <td>0</td>\n",
       "    </tr>\n",
       "    <tr>\n",
       "      <th>3</th>\n",
       "      <td>0.873136</td>\n",
       "      <td>0.512998</td>\n",
       "      <td>182901.99</td>\n",
       "      <td>0</td>\n",
       "      <td>0</td>\n",
       "      <td>1</td>\n",
       "    </tr>\n",
       "    <tr>\n",
       "      <th>4</th>\n",
       "      <td>0.859438</td>\n",
       "      <td>0.305328</td>\n",
       "      <td>166187.94</td>\n",
       "      <td>0</td>\n",
       "      <td>1</td>\n",
       "      <td>0</td>\n",
       "    </tr>\n",
       "  </tbody>\n",
       "</table>\n",
       "</div>"
      ],
      "text/plain": [
       "   R&D Spend  Administration     Profit  State_California  State_Florida  \\\n",
       "0   1.000000        0.651744  192261.83                 0              0   \n",
       "1   0.983359        0.761972  191792.06                 1              0   \n",
       "2   0.927985        0.379579  191050.39                 0              1   \n",
       "3   0.873136        0.512998  182901.99                 0              0   \n",
       "4   0.859438        0.305328  166187.94                 0              1   \n",
       "\n",
       "   State_New York  \n",
       "0               1  \n",
       "1               0  \n",
       "2               0  \n",
       "3               1  \n",
       "4               0  "
      ]
     },
     "execution_count": 14,
     "metadata": {},
     "output_type": "execute_result"
    }
   ],
   "source": [
    "# result\n",
    "df.head()"
   ]
  },
  {
   "cell_type": "markdown",
   "id": "2f8cb2e9",
   "metadata": {},
   "source": [
    "## Preprosesing Modeling\n",
    "Before entering the modeling stage, we enter the preprocessing stage first.<br>\n",
    "At this stage we divide the dataset into train data and test data"
   ]
  },
  {
   "cell_type": "markdown",
   "id": "cbaac44d",
   "metadata": {},
   "source": [
    "* split train-test the data"
   ]
  },
  {
   "cell_type": "code",
   "execution_count": 15,
   "id": "b9748d15",
   "metadata": {},
   "outputs": [],
   "source": [
    "X = df.drop([\"Profit\"], axis = 1)\n",
    "y = df[\"Profit\"]"
   ]
  },
  {
   "cell_type": "code",
   "execution_count": 16,
   "id": "f61fd20f",
   "metadata": {},
   "outputs": [],
   "source": [
    "X_train, X_test, y_train, y_test = train_test_split(X,y, train_size=0.8, random_state=42)"
   ]
  },
  {
   "cell_type": "markdown",
   "id": "5b64e86a",
   "metadata": {},
   "source": [
    "## Modeling\n",
    "In the modeling stage we do several things, such as:"
   ]
  },
  {
   "cell_type": "markdown",
   "id": "e8d3a80d",
   "metadata": {},
   "source": [
    "* Choose the model ( ex : LinearRegression, ExtraTreesClassifier, Forecasting, Etc.)"
   ]
  },
  {
   "cell_type": "code",
   "execution_count": 17,
   "id": "a79edf8d",
   "metadata": {},
   "outputs": [],
   "source": [
    "regressor = LinearRegression()"
   ]
  },
  {
   "cell_type": "markdown",
   "id": "1f312a20",
   "metadata": {},
   "source": [
    "* Train the model"
   ]
  },
  {
   "cell_type": "code",
   "execution_count": 18,
   "id": "3d92a89d",
   "metadata": {},
   "outputs": [
    {
     "data": {
      "text/plain": [
       "LinearRegression()"
      ]
     },
     "execution_count": 18,
     "metadata": {},
     "output_type": "execute_result"
    }
   ],
   "source": [
    "regressor.fit(X_train,y_train)"
   ]
  },
  {
   "cell_type": "markdown",
   "id": "d759de91",
   "metadata": {},
   "source": [
    "* check feature importance"
   ]
  },
  {
   "cell_type": "code",
   "execution_count": 19,
   "id": "533f63d2",
   "metadata": {},
   "outputs": [],
   "source": [
    "importance = regressor.coef_"
   ]
  },
  {
   "cell_type": "code",
   "execution_count": 20,
   "id": "dc8dca08",
   "metadata": {},
   "outputs": [
    {
     "name": "stdout",
     "output_type": "stream",
     "text": [
      "feature: 0, score: 142190.07780\n",
      "feature: 1, score: -12647.33795\n",
      "feature: 2, score: -927.42521\n",
      "feature: 3, score: 1287.23926\n",
      "feature: 4, score: -359.81405\n"
     ]
    }
   ],
   "source": [
    "for i,v in enumerate(importance):\n",
    "    print(\"feature: %0d, score: %.5f\"%(i,v))"
   ]
  },
  {
   "cell_type": "markdown",
   "id": "bb879c25",
   "metadata": {},
   "source": [
    "* Make predictions with trained models"
   ]
  },
  {
   "cell_type": "code",
   "execution_count": 21,
   "id": "7b3ce9b9",
   "metadata": {},
   "outputs": [],
   "source": [
    "y_pred = regressor.predict(X_test)"
   ]
  },
  {
   "cell_type": "markdown",
   "id": "f546292a",
   "metadata": {},
   "source": [
    "*  make a visualization of the result in barchart"
   ]
  },
  {
   "cell_type": "code",
   "execution_count": 22,
   "id": "2146e003",
   "metadata": {},
   "outputs": [
    {
     "data": {
      "image/png": "[encoded data removed]",
      "text/plain": [
       "<Figure size 2000x800 with 1 Axes>"
      ]
     },
     "metadata": {},
     "output_type": "display_data"
    }
   ],
   "source": [
    "result = pd.DataFrame({\"Actual\":y_test,\"Predict\":y_pred})\n",
    "result.plot(kind=\"bar\",figsize=(20,8))\n",
    "plt.show()"
   ]
  },
  {
   "cell_type": "markdown",
   "id": "62e8e97a",
   "metadata": {},
   "source": [
    "## Evaluate Modeling\n",
    "After doing the modeling stage such as choosing a model, training the model and making predictions with the model, then we need to evaluate the results of our model predictions so that we can improve our model to be better or more accurate.<br>\n",
    "In the evaluate modeling stage we do several things, such as:"
   ]
  },
  {
   "cell_type": "markdown",
   "id": "ed2edc92",
   "metadata": {},
   "source": [
    "* calculate the error percentage with mean_absolute_percentage_error"
   ]
  },
  {
   "cell_type": "code",
   "execution_count": 23,
   "id": "9a248894",
   "metadata": {},
   "outputs": [
    {
     "data": {
      "text/plain": [
       "0.11586481190910256"
      ]
     },
     "execution_count": 23,
     "metadata": {},
     "output_type": "execute_result"
    }
   ],
   "source": [
    "mean_absolute_percentage_error(y_test, y_pred)"
   ]
  },
  {
   "cell_type": "markdown",
   "id": "dfe2a361",
   "metadata": {},
   "source": [
    "## Re-Modeling after Evaluate\n",
    "In the re-modeling stage we do several things to improve the model, such as:"
   ]
  },
  {
   "cell_type": "markdown",
   "id": "868ab837",
   "metadata": {},
   "source": [
    "* drop feature with negative values"
   ]
  },
  {
   "cell_type": "code",
   "execution_count": 24,
   "id": "c3228596",
   "metadata": {},
   "outputs": [],
   "source": [
    "# drop feature 1, 2, and 4\n",
    "df.drop(['Administration', 'State_California', 'State_New York'], axis = 1,inplace=True)"
   ]
  },
  {
   "cell_type": "markdown",
   "id": "3f660414",
   "metadata": {},
   "source": [
    "* split train-test the data"
   ]
  },
  {
   "cell_type": "code",
   "execution_count": 25,
   "id": "fb1bb970",
   "metadata": {},
   "outputs": [],
   "source": [
    "X = df.drop([\"Profit\"], axis = 1)\n",
    "y = df[\"Profit\"]"
   ]
  },
  {
   "cell_type": "code",
   "execution_count": 26,
   "id": "6f1ede92",
   "metadata": {},
   "outputs": [
    {
     "data": {
      "text/html": [
       "<div>\n",
       "<style scoped>\n",
       "    .dataframe tbody tr th:only-of-type {\n",
       "        vertical-align: middle;\n",
       "    }\n",
       "\n",
       "    .dataframe tbody tr th {\n",
       "        vertical-align: top;\n",
       "    }\n",
       "\n",
       "    .dataframe thead th {\n",
       "        text-align: right;\n",
       "    }\n",
       "</style>\n",
       "<table border=\"1\" class=\"dataframe\">\n",
       "  <thead>\n",
       "    <tr style=\"text-align: right;\">\n",
       "      <th></th>\n",
       "      <th>R&amp;D Spend</th>\n",
       "      <th>State_Florida</th>\n",
       "    </tr>\n",
       "  </thead>\n",
       "  <tbody>\n",
       "    <tr>\n",
       "      <th>0</th>\n",
       "      <td>1.000000</td>\n",
       "      <td>0</td>\n",
       "    </tr>\n",
       "    <tr>\n",
       "      <th>1</th>\n",
       "      <td>0.983359</td>\n",
       "      <td>0</td>\n",
       "    </tr>\n",
       "    <tr>\n",
       "      <th>2</th>\n",
       "      <td>0.927985</td>\n",
       "      <td>1</td>\n",
       "    </tr>\n",
       "    <tr>\n",
       "      <th>3</th>\n",
       "      <td>0.873136</td>\n",
       "      <td>0</td>\n",
       "    </tr>\n",
       "    <tr>\n",
       "      <th>4</th>\n",
       "      <td>0.859438</td>\n",
       "      <td>1</td>\n",
       "    </tr>\n",
       "  </tbody>\n",
       "</table>\n",
       "</div>"
      ],
      "text/plain": [
       "   R&D Spend  State_Florida\n",
       "0   1.000000              0\n",
       "1   0.983359              0\n",
       "2   0.927985              1\n",
       "3   0.873136              0\n",
       "4   0.859438              1"
      ]
     },
     "execution_count": 26,
     "metadata": {},
     "output_type": "execute_result"
    }
   ],
   "source": [
    "X.head()"
   ]
  },
  {
   "cell_type": "code",
   "execution_count": 27,
   "id": "771bf2b1",
   "metadata": {},
   "outputs": [],
   "source": [
    "X_train, X_test, y_train, y_test = train_test_split(X,y, train_size=0.8, random_state=42)"
   ]
  },
  {
   "cell_type": "markdown",
   "id": "e4e15a1d",
   "metadata": {},
   "source": [
    "* Choose the model ( ex : LinearRegression, ExtraTreesClassifier, Forecasting, Etc.)"
   ]
  },
  {
   "cell_type": "code",
   "execution_count": 28,
   "id": "4f02367a",
   "metadata": {},
   "outputs": [],
   "source": [
    "regressor = LinearRegression()"
   ]
  },
  {
   "cell_type": "markdown",
   "id": "ebf9da14",
   "metadata": {},
   "source": [
    "* Train the model"
   ]
  },
  {
   "cell_type": "code",
   "execution_count": 29,
   "id": "43a1ad7a",
   "metadata": {},
   "outputs": [
    {
     "data": {
      "text/plain": [
       "LinearRegression()"
      ]
     },
     "execution_count": 29,
     "metadata": {},
     "output_type": "execute_result"
    }
   ],
   "source": [
    "regressor.fit(X_train,y_train)"
   ]
  },
  {
   "cell_type": "markdown",
   "id": "ced844af",
   "metadata": {},
   "source": [
    "* check feature importance"
   ]
  },
  {
   "cell_type": "code",
   "execution_count": 30,
   "id": "c7e99313",
   "metadata": {},
   "outputs": [],
   "source": [
    "importance = regressor.coef_"
   ]
  },
  {
   "cell_type": "code",
   "execution_count": 31,
   "id": "e0112a80",
   "metadata": {},
   "outputs": [
    {
     "name": "stdout",
     "output_type": "stream",
     "text": [
      "feature: 0, score: 140888.98882\n",
      "feature: 1, score: 2067.56885\n"
     ]
    }
   ],
   "source": [
    "for i,v in enumerate(importance):\n",
    "    print(\"feature: %0d, score: %.5f\"%(i,v))"
   ]
  },
  {
   "cell_type": "markdown",
   "id": "0438a0c1",
   "metadata": {},
   "source": [
    "* Make predictions with trained models"
   ]
  },
  {
   "cell_type": "code",
   "execution_count": 32,
   "id": "04295469",
   "metadata": {},
   "outputs": [],
   "source": [
    "y_pred = regressor.predict(X_test)"
   ]
  },
  {
   "cell_type": "markdown",
   "id": "42978425",
   "metadata": {},
   "source": [
    "*  make a visualization of the result in barchart"
   ]
  },
  {
   "cell_type": "code",
   "execution_count": 33,
   "id": "176a2432",
   "metadata": {},
   "outputs": [
    {
     "data": {
      "image/png": "[encoded data removed]",
      "text/plain": [
       "<Figure size 2000x800 with 1 Axes>"
      ]
     },
     "metadata": {},
     "output_type": "display_data"
    }
   ],
   "source": [
    "result = pd.DataFrame({\"Actual\":y_test,\"Predict\":y_pred})\n",
    "result.plot(kind=\"bar\",figsize=(20,8))\n",
    "plt.show()"
   ]
  },
  {
   "cell_type": "markdown",
   "id": "2b4827d7",
   "metadata": {},
   "source": [
    "* calculate the error percentage with mean_absolute_percentage_error"
   ]
  },
  {
   "cell_type": "code",
   "execution_count": 34,
   "id": "4d8728cc",
   "metadata": {},
   "outputs": [
    {
     "data": {
      "text/plain": [
       "0.09237940361229964"
      ]
     },
     "execution_count": 34,
     "metadata": {},
     "output_type": "execute_result"
    }
   ],
   "source": [
    "mean_absolute_percentage_error(y_test, y_pred)"
   ]
  },
  {
   "cell_type": "markdown",
   "id": "ffe06333",
   "metadata": {},
   "source": [
    "the model prediction is better compare to before."
   ]
  },
  {
   "cell_type": "markdown",
   "id": "aea300d1",
   "metadata": {},
   "source": [
    "## Cross Validation\n",
    "Cross-validation is a technique for evaluating ML models by training several ML models on subsets of the available input data and evaluating them on the complementary subset of the data. "
   ]
  },
  {
   "cell_type": "markdown",
   "id": "967e49c7",
   "metadata": {},
   "source": [
    "* Choose the model ( ex : LinearRegression, ExtraTreesClassifier, Forecasting, Etc.)"
   ]
  },
  {
   "cell_type": "code",
   "execution_count": 35,
   "id": "e7eed961",
   "metadata": {},
   "outputs": [],
   "source": [
    "regressor = LinearRegression()"
   ]
  },
  {
   "cell_type": "markdown",
   "id": "ccfe7506",
   "metadata": {},
   "source": [
    "* Check the model scores with Cross Validation"
   ]
  },
  {
   "cell_type": "code",
   "execution_count": 36,
   "id": "6f68b783",
   "metadata": {},
   "outputs": [
    {
     "data": {
      "text/plain": [
       "array([0.96052255, 0.97121584, 0.84760897])"
      ]
     },
     "execution_count": 36,
     "metadata": {},
     "output_type": "execute_result"
    }
   ],
   "source": [
    "scores = cross_val_score(regressor,X_train,y_train,scoring=\"r2\",cv=3)\n",
    "scores"
   ]
  }
 ],
 "metadata": {
  "kernelspec": {
   "display_name": "Python 3",
   "language": "python",
   "name": "python3"
  },
  "language_info": {
   "codemirror_mode": {
    "name": "ipython",
    "version": 3
   },
   "file_extension": ".py",
   "mimetype": "text/x-python",
   "name": "python",
   "nbconvert_exporter": "python",
   "pygments_lexer": "ipython3",
   "version": "3.8.8"
  }
 },
 "nbformat": 4,
 "nbformat_minor": 5
}
